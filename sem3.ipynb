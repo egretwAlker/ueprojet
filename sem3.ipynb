{
 "cells": [
  {
   "cell_type": "code",
   "execution_count": 20,
   "id": "a2d4b78c",
   "metadata": {},
   "outputs": [
    {
     "name": "stdout",
     "output_type": "stream",
     "text": [
      "/Users/clementmarie/ML/SORBONNE/PROJET_IN013\n"
     ]
    }
   ],
   "source": [
    "cd .."
   ]
  },
  {
   "cell_type": "code",
   "execution_count": 22,
   "id": "84030585",
   "metadata": {},
   "outputs": [],
   "source": [
    "from projet_sem3 import preprocessing"
   ]
  },
  {
   "cell_type": "code",
   "execution_count": 38,
   "id": "2d40439a",
   "metadata": {},
   "outputs": [
    {
     "data": {
      "text/plain": [
       "'\\navis_df = pd.read_csv(\\'data/avis.csv\\')\\navis_df.drop([\\'Unnamed: 0\\'], inplace=True, axis=1)\\navis_df_treated = avis_df.dropna(inplace=False)\\nX, y = avis_df_treated.drop([\\'note\\'], axis=1), avis_df_treated[\\'note\\']\\nX[\\'comment\\'] = preprocessing.preprocess(X[\\'comment\\'] ,\"french\")\\nmost_common = preprocessing.show_popular_words(X[\\'comment\\'], 20)\\nprint(most_common)\\n'"
      ]
     },
     "execution_count": 38,
     "metadata": {},
     "output_type": "execute_result"
    }
   ],
   "source": [
    "\"\"\"\n",
    "avis_df = pd.read_csv('data/avis.csv')\n",
    "avis_df.drop(['Unnamed: 0'], inplace=True, axis=1)\n",
    "avis_df_treated = avis_df.dropna(inplace=False)\n",
    "X, y = avis_df_treated.drop(['note'], axis=1), avis_df_treated['note']\n",
    "X['comment'] = preprocessing.preprocess(X['comment'] ,\"french\")\n",
    "most_common = preprocessing.show_popular_words(X['comment'], 20)\n",
    "print(most_common)\n",
    "\"\"\""
   ]
  },
  {
   "cell_type": "code",
   "execution_count": 40,
   "id": "172e296d",
   "metadata": {},
   "outputs": [],
   "source": [
    "X = pd.read_csv('data/X_processed')\n",
    "y = pd.read_csv('data/y')"
   ]
  },
  {
   "cell_type": "code",
   "execution_count": null,
   "id": "3bc0a9d4",
   "metadata": {},
   "outputs": [],
   "source": []
  }
 ],
 "metadata": {
  "kernelspec": {
   "display_name": "Python 3 (ipykernel)",
   "language": "python",
   "name": "python3"
  },
  "language_info": {
   "codemirror_mode": {
    "name": "ipython",
    "version": 3
   },
   "file_extension": ".py",
   "mimetype": "text/x-python",
   "name": "python",
   "nbconvert_exporter": "python",
   "pygments_lexer": "ipython3",
   "version": "3.10.6"
  }
 },
 "nbformat": 4,
 "nbformat_minor": 5
}
