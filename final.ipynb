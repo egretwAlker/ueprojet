{
 "cells": [
  {
   "cell_type": "code",
   "execution_count": 25,
   "id": "97248840",
   "metadata": {},
   "outputs": [],
   "source": [
    "import numpy as np\n",
    "from sklearn.feature_extraction.text import CountVectorizer, TfidfVectorizer\n",
    "from sklearn.model_selection import train_test_split\n",
    "from sklearn.neighbors import KNeighborsClassifier\n",
    "import matplotlib.pyplot as plt\n",
    "from sklearn.preprocessing import OneHotEncoder\n",
    "from sklearn.metrics import accuracy_score"
   ]
  },
  {
   "cell_type": "code",
   "execution_count": 2,
   "id": "e4813c9e",
   "metadata": {},
   "outputs": [],
   "source": [
    "avis_df = pd.read_csv('data_preprocess_sans_stopwords.csv')\n",
    "details_df = pd.read_csv('details.csv')\n",
    "infos_scrapping_df = pd.read_csv('infos_scrapping.csv')\n",
    "jeux_df = pd.read_csv('jeux.csv')"
   ]
  },
  {
   "cell_type": "code",
   "execution_count": 33,
   "id": "bf2ed29d",
   "metadata": {},
   "outputs": [],
   "source": [
    "avis_df['comment'] = avis_df['comment'].fillna('')"
   ]
  },
  {
   "cell_type": "code",
   "execution_count": 34,
   "id": "658d1a6f",
   "metadata": {},
   "outputs": [],
   "source": [
    "y = avis_df[\"note\"]\n",
    "\n",
    "# transform the note column into a binary classification target variable\n",
    "y_binary = np.where(y > 7, 1, -1)"
   ]
  },
  {
   "cell_type": "code",
   "execution_count": 35,
   "id": "522446a2",
   "metadata": {},
   "outputs": [],
   "source": [
    "# Split the data into training and test sets (40% for training, 10% for testing)\n",
    "X_train, X_test, y_train, y_test = train_test_split(avis_df['comment'], y_binary, test_size=0.1, stratify=y, random_state=42)"
   ]
  },
  {
   "cell_type": "code",
   "execution_count": 36,
   "id": "3e14424a",
   "metadata": {},
   "outputs": [],
   "source": [
    "# Apply Bag-of-Words (BoW) representation\n",
    "bow_vectorizer = CountVectorizer()\n",
    "X_train_bow = bow_vectorizer.fit_transform(X_train)\n",
    "X_test_bow = bow_vectorizer.transform(X_test)"
   ]
  },
  {
   "cell_type": "code",
   "execution_count": 37,
   "id": "b5831d55",
   "metadata": {},
   "outputs": [],
   "source": [
    "# Apply TF-IDF representation\n",
    "tfidf_vectorizer = TfidfVectorizer()\n",
    "X_train_tfidf = tfidf_vectorizer.fit_transform(X_train)\n",
    "X_test_tfidf = tfidf_vectorizer.transform(X_test)"
   ]
  },
  {
   "cell_type": "code",
   "execution_count": 41,
   "id": "bc06ad80",
   "metadata": {},
   "outputs": [],
   "source": [
    "# Apply One-Hot encoding representation\n",
    "encoder = OneHotEncoder(handle_unknown='ignore')\n",
    "X_train_one_hot = encoder.fit_transform(X_train.values.reshape(-1, 1))\n",
    "X_test_one_hot = encoder.transform(X_test.values.reshape(-1, 1))"
   ]
  },
  {
   "cell_type": "code",
   "execution_count": 42,
   "id": "61971d5e",
   "metadata": {},
   "outputs": [],
   "source": [
    "# Split the data into training, validation, and test sets\n",
    "#X_train_bow, X_val_test_bow, y_train, y_val_test = train_test_split(X_bow, y_binary, test_size=0.5, stratify=y, random_state=42)\n",
    "#X_val, X_test, y_val, y_test = train_test_split(X_val_test_bow, y_val_test, test_size=0.2, stratify=y_val_test, random_state=42)"
   ]
  },
  {
   "cell_type": "code",
   "execution_count": 45,
   "id": "62f72159",
   "metadata": {},
   "outputs": [],
   "source": [
    "# Train KNN models with Euclidean and Cosine distances\n",
    "knn_euclidean = KNeighborsClassifier(metric='euclidean')\n",
    "knn_cosine = KNeighborsClassifier(metric='cosine')\n",
    "\n",
    "knn_euclidean.fit(X_train_bow, y_train)\n",
    "knn_cosine.fit(X_train_bow, y_train)\n",
    "\n",
    "# Predict using the trained models\n",
    "y_pred_euclidean = knn_euclidean.predict(X_test_bow)\n",
    "y_pred_cosine = knn_cosine.predict(X_test_bow)\n",
    "\n",
    "# Calculate accuracy scores\n",
    "accuracy_euclidean = accuracy_score(y_test, y_pred_euclidean)\n",
    "accuracy_cosine = accuracy_score(y_test, y_pred_cosine)"
   ]
  },
  {
   "cell_type": "code",
   "execution_count": 47,
   "id": "0930a3e9",
   "metadata": {},
   "outputs": [
    {
     "name": "stdout",
     "output_type": "stream",
     "text": [
      "KNN with Bow and Euclidean distance accuracy: 0.6851871657754011\n",
      "KNN with Bow and Cosine distance accuracy: 0.6939572192513369\n"
     ]
    }
   ],
   "source": [
    "# Print the accuracy scores\n",
    "print(\"KNN with Bow and Euclidean distance accuracy:\", accuracy_euclidean)\n",
    "print(\"KNN with Bow and Cosine distance accuracy:\", accuracy_cosine)"
   ]
  },
  {
   "cell_type": "code",
   "execution_count": 49,
   "id": "1ffa10f5",
   "metadata": {},
   "outputs": [],
   "source": [
    "knn_euclidean.fit(X_train_tfidf, y_train)\n",
    "knn_cosine.fit(X_train_tfidf, y_train)\n",
    "\n",
    "# Predict using the trained models\n",
    "y_pred_euclidean = knn_euclidean.predict(X_test_tfidf)\n",
    "y_pred_cosine = knn_cosine.predict(X_test_tfidf)\n",
    "\n",
    "# Calculate accuracy scores\n",
    "accuracy_euclidean = accuracy_score(y_test, y_pred_euclidean)\n",
    "accuracy_cosine = accuracy_score(y_test, y_pred_cosine)"
   ]
  },
  {
   "cell_type": "code",
   "execution_count": 50,
   "id": "32c805bf",
   "metadata": {},
   "outputs": [
    {
     "name": "stdout",
     "output_type": "stream",
     "text": [
      "KNN with Tf-Idf and Euclidean distance accuracy: 0.4836898395721925\n",
      "KNN with Tf-Idf and Cosine distance accuracy: 0.710427807486631\n"
     ]
    }
   ],
   "source": [
    "# Print the accuracy scores\n",
    "print(\"KNN with Tf-Idf and Euclidean distance accuracy:\", accuracy_euclidean)\n",
    "print(\"KNN with Tf-Idf and Cosine distance accuracy:\", accuracy_cosine)"
   ]
  },
  {
   "cell_type": "code",
   "execution_count": 51,
   "id": "33b8468a",
   "metadata": {},
   "outputs": [],
   "source": [
    "knn_euclidean.fit(X_train_one_hot, y_train)\n",
    "knn_cosine.fit(X_train_one_hot, y_train)\n",
    "\n",
    "# Predict using the trained models\n",
    "y_pred_euclidean = knn_euclidean.predict(X_test_one_hot)\n",
    "y_pred_cosine = knn_cosine.predict(X_test_one_hot)\n",
    "\n",
    "# Calculate accuracy scores\n",
    "accuracy_euclidean = accuracy_score(y_test, y_pred_euclidean)\n",
    "accuracy_cosine = accuracy_score(y_test, y_pred_cosine)"
   ]
  },
  {
   "cell_type": "code",
   "execution_count": 52,
   "id": "c692741c",
   "metadata": {},
   "outputs": [
    {
     "name": "stdout",
     "output_type": "stream",
     "text": [
      "KNN with One hot encoding and Euclidean distance accuracy: 0.6863636363636364\n",
      "KNN with One hot encoding and Cosine distance accuracy: 0.6863636363636364\n"
     ]
    }
   ],
   "source": [
    "# Print the accuracy scores\n",
    "print(\"KNN with One hot encoding and Euclidean distance accuracy:\", accuracy_euclidean)\n",
    "print(\"KNN with One hot encoding and Cosine distance accuracy:\", accuracy_cosine)"
   ]
  },
  {
   "cell_type": "code",
   "execution_count": null,
   "id": "5508818c",
   "metadata": {},
   "outputs": [],
   "source": []
  }
 ],
 "metadata": {
  "kernelspec": {
   "display_name": "Python 3 (ipykernel)",
   "language": "python",
   "name": "python3"
  },
  "language_info": {
   "codemirror_mode": {
    "name": "ipython",
    "version": 3
   },
   "file_extension": ".py",
   "mimetype": "text/x-python",
   "name": "python",
   "nbconvert_exporter": "python",
   "pygments_lexer": "ipython3",
   "version": "3.8.8"
  }
 },
 "nbformat": 4,
 "nbformat_minor": 5
}
