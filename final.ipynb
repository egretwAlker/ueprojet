{
 "cells": [
  {
   "cell_type": "code",
   "execution_count": 8,
   "id": "97248840",
   "metadata": {},
   "outputs": [],
   "source": [
    "import numpy as np\n",
    "import pandas as pd\n",
    "from sklearn.feature_extraction.text import CountVectorizer, TfidfVectorizer\n",
    "from sklearn.model_selection import train_test_split\n",
    "from sklearn.neighbors import KNeighborsClassifier\n",
    "import matplotlib.pyplot as plt\n",
    "from sklearn.preprocessing import OneHotEncoder\n",
    "from sklearn.metrics import accuracy_score"
   ]
  },
  {
   "cell_type": "code",
   "execution_count": 9,
   "id": "e4813c9e",
   "metadata": {},
   "outputs": [],
   "source": [
    "avis_df = pd.read_csv('data_preprocess_sans_stopwords.csv')\n",
    "details_df = pd.read_csv('details.csv')\n",
    "infos_scrapping_df = pd.read_csv('infos_scrapping.csv')\n",
    "jeux_df = pd.read_csv('jeux.csv')"
   ]
  },
  {
   "cell_type": "code",
   "execution_count": 10,
   "id": "bf2ed29d",
   "metadata": {},
   "outputs": [],
   "source": [
    "avis_df['comment'] = avis_df['comment'].fillna('')"
   ]
  },
  {
   "cell_type": "code",
   "execution_count": 11,
   "id": "658d1a6f",
   "metadata": {},
   "outputs": [],
   "source": [
    "y = avis_df[\"note\"]\n",
    "\n",
    "# transform the note column into a binary classification target variable\n",
    "y_binary = np.where(y > 7, 1, -1)"
   ]
  },
  {
   "cell_type": "code",
   "execution_count": 12,
   "id": "522446a2",
   "metadata": {},
   "outputs": [],
   "source": [
    "# Split the data into training and test sets (40% for training, 10% for testing)\n",
    "X_train, X_test, y_train, y_test = train_test_split(avis_df['comment'], y_binary, test_size=0.1, stratify=y, random_state=42)"
   ]
  },
  {
   "cell_type": "code",
   "execution_count": 13,
   "id": "3e14424a",
   "metadata": {},
   "outputs": [],
   "source": [
    "# Apply Bag-of-Words (BoW) representation\n",
    "bow_vectorizer = CountVectorizer()\n",
    "X_train_bow = bow_vectorizer.fit_transform(X_train)\n",
    "X_test_bow = bow_vectorizer.transform(X_test)"
   ]
  },
  {
   "cell_type": "code",
   "execution_count": 14,
   "id": "b5831d55",
   "metadata": {},
   "outputs": [],
   "source": [
    "# Apply TF-IDF representation\n",
    "tfidf_vectorizer = TfidfVectorizer()\n",
    "X_train_tfidf = tfidf_vectorizer.fit_transform(X_train)\n",
    "X_test_tfidf = tfidf_vectorizer.transform(X_test)"
   ]
  },
  {
   "cell_type": "code",
   "execution_count": 15,
   "id": "bc06ad80",
   "metadata": {},
   "outputs": [],
   "source": [
    "# Apply One-Hot encoding representation\n",
    "encoder = OneHotEncoder(handle_unknown='ignore')\n",
    "X_train_one_hot = encoder.fit_transform(X_train.values.reshape(-1, 1))\n",
    "X_test_one_hot = encoder.transform(X_test.values.reshape(-1, 1))"
   ]
  },
  {
   "cell_type": "code",
   "execution_count": 16,
   "id": "61971d5e",
   "metadata": {},
   "outputs": [],
   "source": [
    "# Split the data into training, validation, and test sets\n",
    "#X_train_bow, X_val_test_bow, y_train, y_val_test = train_test_split(X_bow, y_binary, test_size=0.5, stratify=y, random_state=42)\n",
    "#X_val, X_test, y_val, y_test = train_test_split(X_val_test_bow, y_val_test, test_size=0.2, stratify=y_val_test, random_state=42)"
   ]
  },
  {
   "cell_type": "code",
   "execution_count": 17,
   "id": "62f72159",
   "metadata": {},
   "outputs": [],
   "source": [
    "# Train KNN models with Euclidean and Cosine distances\n",
    "knn_euclidean = KNeighborsClassifier(metric='euclidean')\n",
    "knn_cosine = KNeighborsClassifier(metric='cosine')\n",
    "\n",
    "knn_euclidean.fit(X_train_bow, y_train)\n",
    "knn_cosine.fit(X_train_bow, y_train)\n",
    "\n",
    "# Predict using the trained models\n",
    "y_pred_euclidean = knn_euclidean.predict(X_test_bow)\n",
    "y_pred_cosine = knn_cosine.predict(X_test_bow)\n",
    "\n",
    "# Calculate accuracy scores\n",
    "accuracy_euclidean = accuracy_score(y_test, y_pred_euclidean)\n",
    "accuracy_cosine = accuracy_score(y_test, y_pred_cosine)"
   ]
  },
  {
   "cell_type": "code",
   "execution_count": 18,
   "id": "0930a3e9",
   "metadata": {},
   "outputs": [
    {
     "name": "stdout",
     "output_type": "stream",
     "text": [
      "KNN with Bow and Euclidean distance accuracy: 0.6851871657754011\n",
      "KNN with Bow and Cosine distance accuracy: 0.6939572192513369\n"
     ]
    }
   ],
   "source": [
    "# Print the accuracy scores\n",
    "print(\"KNN with Bow and Euclidean distance accuracy:\", accuracy_euclidean)\n",
    "print(\"KNN with Bow and Cosine distance accuracy:\", accuracy_cosine)"
   ]
  },
  {
   "cell_type": "code",
   "execution_count": 19,
   "id": "1ffa10f5",
   "metadata": {},
   "outputs": [],
   "source": [
    "knn_euclidean.fit(X_train_tfidf, y_train)\n",
    "knn_cosine.fit(X_train_tfidf, y_train)\n",
    "\n",
    "# Predict using the trained models\n",
    "y_pred_euclidean = knn_euclidean.predict(X_test_tfidf)\n",
    "y_pred_cosine = knn_cosine.predict(X_test_tfidf)\n",
    "\n",
    "# Calculate accuracy scores\n",
    "accuracy_euclidean = accuracy_score(y_test, y_pred_euclidean)\n",
    "accuracy_cosine = accuracy_score(y_test, y_pred_cosine)"
   ]
  },
  {
   "cell_type": "code",
   "execution_count": 20,
   "id": "32c805bf",
   "metadata": {},
   "outputs": [
    {
     "name": "stdout",
     "output_type": "stream",
     "text": [
      "KNN with Tf-Idf and Euclidean distance accuracy: 0.4836898395721925\n",
      "KNN with Tf-Idf and Cosine distance accuracy: 0.710427807486631\n"
     ]
    }
   ],
   "source": [
    "# Print the accuracy scores\n",
    "print(\"KNN with Tf-Idf and Euclidean distance accuracy:\", accuracy_euclidean)\n",
    "print(\"KNN with Tf-Idf and Cosine distance accuracy:\", accuracy_cosine)"
   ]
  },
  {
   "cell_type": "code",
   "execution_count": 21,
   "id": "33b8468a",
   "metadata": {},
   "outputs": [],
   "source": [
    "knn_euclidean.fit(X_train_one_hot, y_train)\n",
    "knn_cosine.fit(X_train_one_hot, y_train)\n",
    "\n",
    "# Predict using the trained models\n",
    "y_pred_euclidean = knn_euclidean.predict(X_test_one_hot)\n",
    "y_pred_cosine = knn_cosine.predict(X_test_one_hot)\n",
    "\n",
    "# Calculate accuracy scores\n",
    "accuracy_euclidean = accuracy_score(y_test, y_pred_euclidean)\n",
    "accuracy_cosine = accuracy_score(y_test, y_pred_cosine)"
   ]
  },
  {
   "cell_type": "code",
   "execution_count": 22,
   "id": "c692741c",
   "metadata": {},
   "outputs": [
    {
     "name": "stdout",
     "output_type": "stream",
     "text": [
      "KNN with One hot encoding and Euclidean distance accuracy: 0.6863636363636364\n",
      "KNN with One hot encoding and Cosine distance accuracy: 0.6863636363636364\n"
     ]
    }
   ],
   "source": [
    "# Print the accuracy scores\n",
    "print(\"KNN with One hot encoding and Euclidean distance accuracy:\", accuracy_euclidean)\n",
    "print(\"KNN with One hot encoding and Cosine distance accuracy:\", accuracy_cosine)"
   ]
  },
  {
   "cell_type": "code",
   "execution_count": 23,
   "id": "5508818c",
   "metadata": {
    "collapsed": true
   },
   "outputs": [
    {
     "name": "stdout",
     "output_type": "stream",
     "text": [
      "[ 1  3  5  7  9 11 13 15 17 19 21 23 25 27 29 31 33 35 37 39 41 43 45 47\n",
      " 49 51 53 55 57 59 61 63 65 67 69 71 73 75 77 79 81]\n",
      "1\n",
      "3\n",
      "5\n",
      "7\n",
      "9\n",
      "11\n",
      "13\n",
      "15\n",
      "17\n",
      "19\n",
      "21\n",
      "23\n",
      "25\n",
      "27\n",
      "29\n",
      "31\n",
      "33\n",
      "35\n",
      "37\n",
      "39\n",
      "41\n",
      "43\n",
      "45\n",
      "47\n",
      "49\n",
      "51\n",
      "53\n",
      "55\n",
      "57\n",
      "59\n",
      "61\n",
      "63\n",
      "65\n",
      "67\n",
      "69\n",
      "71\n",
      "73\n",
      "75\n",
      "77\n",
      "79\n",
      "81\n"
     ]
    },
    {
     "ename": "IndexError",
     "evalue": "list assignment index out of range",
     "output_type": "error",
     "traceback": [
      "\u001b[1;31m---------------------------------------------------------------------------\u001b[0m",
      "\u001b[1;31mIndexError\u001b[0m                                Traceback (most recent call last)",
      "Cell \u001b[1;32mIn[23], line 11\u001b[0m\n\u001b[0;32m      9\u001b[0m knn_euclidean\u001b[38;5;241m.\u001b[39mfit(X_train_bow, y_train)\n\u001b[0;32m     10\u001b[0m y_pred_euclidean \u001b[38;5;241m=\u001b[39m knn_euclidean\u001b[38;5;241m.\u001b[39mpredict(X_test_bow)\n\u001b[1;32m---> 11\u001b[0m accuracies_euclidean[(k\u001b[38;5;241m-\u001b[39m\u001b[38;5;241m1\u001b[39m)\u001b[38;5;241m/\u001b[39m\u001b[38;5;241m/\u001b[39m\u001b[38;5;241m2\u001b[39m] \u001b[38;5;241m=\u001b[39m accuracy_score(y_test, y_pred_euclidean)\n",
      "\u001b[1;31mIndexError\u001b[0m: list assignment index out of range"
     ]
    }
   ],
   "source": [
    "k_values = np.arange(1, 82 , 2)  # Range of k values to consider\n",
    "print(k_values , flush = True)\n",
    "accuracies_euclidean = [0 for _ in range(41)]\n",
    "\n",
    "for k in k_values:\n",
    "    print(k , flush = True)\n",
    "    # KNN with Euclidean distance\n",
    "    knn_euclidean = KNeighborsClassifier(n_neighbors=k, metric='euclidean')\n",
    "    knn_euclidean.fit(X_train_bow, y_train)\n",
    "    y_pred_euclidean = knn_euclidean.predict(X_test_bow)\n",
    "    accuracies_euclidean[(k-1)//2] = accuracy_score(y_test, y_pred_euclidean)\n",
    "    #accuracies_euclidean.append(accuracy_euclidean)"
   ]
  },
  {
   "cell_type": "code",
   "execution_count": 25,
   "id": "697bf201",
   "metadata": {},
   "outputs": [],
   "source": [
    "knn_euclidean = KNeighborsClassifier(n_neighbors=k, metric='euclidean')\n",
    "knn_euclidean.fit(X_train_bow, y_train)\n",
    "y_pred_euclidean = knn_euclidean.predict(X_test_bow)\n",
    "accuracies_euclidean.append(accuracy_score(y_test, y_pred_euclidean))"
   ]
  },
  {
   "cell_type": "code",
   "execution_count": 28,
   "id": "6ceb5c3d",
   "metadata": {},
   "outputs": [],
   "source": [
    "# Find the best k value for Euclidean distance\n",
    "best_k_euclidean = k_values[np.argmax(accuracies_euclidean)]\n",
    "best_accuracy_euclidean = max(accuracies_euclidean)"
   ]
  },
  {
   "cell_type": "code",
   "execution_count": 29,
   "id": "95ac56da",
   "metadata": {},
   "outputs": [
    {
     "name": "stdout",
     "output_type": "stream",
     "text": [
      "Best k value for Euclidean distance: 1\n",
      "Best accuracy for Euclidean distance: 0.7642245989304813\n"
     ]
    }
   ],
   "source": [
    "print(\"Best k value for Euclidean distance:\", best_k_euclidean)\n",
    "print(\"Best accuracy for Euclidean distance:\", best_accuracy_euclidean)"
   ]
  },
  {
   "cell_type": "code",
   "execution_count": 30,
   "id": "0ef07cba",
   "metadata": {},
   "outputs": [
    {
     "data": {
      "image/png": "[encoded data removed]",
      "text/plain": [
       "<Figure size 640x480 with 1 Axes>"
      ]
     },
     "metadata": {},
     "output_type": "display_data"
    }
   ],
   "source": [
    "# Plot the accuracy scores\n",
    "plt.plot(k_values, accuracies_euclidean)\n",
    "plt.xlabel('K')\n",
    "plt.ylabel('Accuracy')\n",
    "plt.title('Accuracy vs. K')\n",
    "plt.savefig('accuracy_plot.png', dpi=300, bbox_inches='tight')\n",
    "plt.show()"
   ]
  },
  {
   "cell_type": "code",
   "execution_count": null,
   "id": "96fbd01e",
   "metadata": {},
   "outputs": [],
   "source": []
  }
 ],
 "metadata": {
  "kernelspec": {
   "display_name": "Python 3 (ipykernel)",
   "language": "python",
   "name": "python3"
  },
  "language_info": {
   "codemirror_mode": {
    "name": "ipython",
    "version": 3
   },
   "file_extension": ".py",
   "mimetype": "text/x-python",
   "name": "python",
   "nbconvert_exporter": "python",
   "pygments_lexer": "ipython3",
   "version": "3.8.8"
  }
 },
 "nbformat": 4,
 "nbformat_minor": 5
}
