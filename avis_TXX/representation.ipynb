{
 "cells": [
  {
   "attachments": {},
   "cell_type": "markdown",
   "metadata": {},
   "source": [
    "# Representation of data\n",
    "\n",
    "https://www.analyticsvidhya.com/blog/2022/02/machine-learning-techniques-for-text-representation-in-nlp/"
   ]
  },
  {
   "attachments": {},
   "cell_type": "markdown",
   "metadata": {},
   "source": [
    "## One-Hot Encoding\n",
    "\n",
    "A sentence is a vector where each entry shows the presence of a word.  \n",
    "Not very funny."
   ]
  },
  {
   "cell_type": "code",
   "execution_count": 1,
   "metadata": {},
   "outputs": [
    {
     "data": {
      "text/html": [
       "<div>\n",
       "<style scoped>\n",
       "    .dataframe tbody tr th:only-of-type {\n",
       "        vertical-align: middle;\n",
       "    }\n",
       "\n",
       "    .dataframe tbody tr th {\n",
       "        vertical-align: top;\n",
       "    }\n",
       "\n",
       "    .dataframe thead th {\n",
       "        text-align: right;\n",
       "    }\n",
       "</style>\n",
       "<table border=\"1\" class=\"dataframe\">\n",
       "  <thead>\n",
       "    <tr style=\"text-align: right;\">\n",
       "      <th></th>\n",
       "      <th>text</th>\n",
       "      <th>output</th>\n",
       "    </tr>\n",
       "  </thead>\n",
       "  <tbody>\n",
       "    <tr>\n",
       "      <th>0</th>\n",
       "      <td>Author writes on Analytics Vidhya</td>\n",
       "      <td>1</td>\n",
       "    </tr>\n",
       "    <tr>\n",
       "      <th>1</th>\n",
       "      <td>Vidhya reads and writes comment on Analytics V...</td>\n",
       "      <td>1</td>\n",
       "    </tr>\n",
       "    <tr>\n",
       "      <th>2</th>\n",
       "      <td>Vidhya appreciates author</td>\n",
       "      <td>0</td>\n",
       "    </tr>\n",
       "  </tbody>\n",
       "</table>\n",
       "</div>"
      ],
      "text/plain": [
       "                                                text  output\n",
       "0                  Author writes on Analytics Vidhya       1\n",
       "1  Vidhya reads and writes comment on Analytics V...       1\n",
       "2                          Vidhya appreciates author       0"
      ]
     },
     "execution_count": 1,
     "metadata": {},
     "output_type": "execute_result"
    }
   ],
   "source": [
    "import numpy as np\n",
    "import pandas as pd\n",
    "\n",
    "sentences = ['Author writes on Analytics Vidhya', 'Vidhya reads and writes comment on Analytics Vidhya', 'Vidhya appreciates author']\n",
    "df = pd.DataFrame({\"text\":sentences, \"output\":[1,1,0]})\n",
    "df.head()"
   ]
  },
  {
   "cell_type": "code",
   "execution_count": 2,
   "metadata": {},
   "outputs": [
    {
     "name": "stdout",
     "output_type": "stream",
     "text": [
      "[[1, 0, 0, 0, 0, 1, 0, 1, 1, 1], [1, 1, 0, 1, 1, 1, 0, 1, 0, 1], [0, 0, 1, 0, 0, 1, 1, 0, 0, 0]]\n"
     ]
    }
   ],
   "source": [
    "# Define a function that takes a list of unique words and a sentence and returns a one-hot encoded array\n",
    "def one_hot_encode(unique_words, sentence):\n",
    "    one_hot_encoded = [0] * len(unique_words)\n",
    "    for word in sentence.split():\n",
    "        if word in unique_words:\n",
    "            one_hot_encoded[unique_words.index(word)] = 1\n",
    "    return one_hot_encoded\n",
    "\n",
    "# Create a list of unique words\n",
    "unique_words = list(set(\" \".join(df[\"text\"]).split()))\n",
    "\n",
    "# Apply the one-hot encoding function to each sentence in the \"text\" column\n",
    "one_hot_encoded = [one_hot_encode(unique_words, sentence) for sentence in df[\"text\"]]\n",
    "\n",
    "# Print the resulting array\n",
    "print(one_hot_encoded)"
   ]
  },
  {
   "attachments": {},
   "cell_type": "markdown",
   "metadata": {},
   "source": [
    "## Bag of words\n",
    "\n",
    "A sentence is a vector where each entry shows the count of a word.  \n",
    "Not very funny, either."
   ]
  },
  {
   "cell_type": "code",
   "execution_count": 3,
   "metadata": {},
   "outputs": [
    {
     "data": {
      "text/plain": [
       "{'author': 3,\n",
       " 'writes': 8,\n",
       " 'on': 5,\n",
       " 'analytics': 0,\n",
       " 'vidhya': 7,\n",
       " 'reads': 6,\n",
       " 'and': 1,\n",
       " 'comment': 4,\n",
       " 'appreciates': 2}"
      ]
     },
     "execution_count": 3,
     "metadata": {},
     "output_type": "execute_result"
    }
   ],
   "source": [
    "from sklearn.feature_extraction.text import CountVectorizer\n",
    "cv = CountVectorizer()\n",
    "bow = cv.fit_transform(df['text'])\n",
    "cv.vocabulary_"
   ]
  },
  {
   "cell_type": "code",
   "execution_count": 4,
   "metadata": {},
   "outputs": [
    {
     "name": "stdout",
     "output_type": "stream",
     "text": [
      "[[1 1 0 0 1 1 1 2 1]]\n"
     ]
    }
   ],
   "source": [
    "print(bow[1].toarray())"
   ]
  },
  {
   "attachments": {},
   "cell_type": "markdown",
   "metadata": {},
   "source": [
    "## N-grams\n",
    "\n",
    "Count the combinations. May be able to capture semantic meaning of the sentence."
   ]
  },
  {
   "cell_type": "code",
   "execution_count": 5,
   "metadata": {},
   "outputs": [
    {
     "data": {
      "text/plain": [
       "{'author writes': 3,\n",
       " 'writes on': 10,\n",
       " 'on analytics': 5,\n",
       " 'analytics vidhya': 0,\n",
       " 'vidhya reads': 8,\n",
       " 'reads and': 6,\n",
       " 'and writes': 1,\n",
       " 'writes comment': 9,\n",
       " 'comment on': 4,\n",
       " 'vidhya appreciates': 7,\n",
       " 'appreciates author': 2}"
      ]
     },
     "execution_count": 5,
     "metadata": {},
     "output_type": "execute_result"
    }
   ],
   "source": [
    "cv = CountVectorizer(ngram_range=[2,2])\n",
    "bow = cv.fit_transform(df['text'])\n",
    "cv.vocabulary_"
   ]
  },
  {
   "attachments": {},
   "cell_type": "markdown",
   "metadata": {},
   "source": [
    "## TF-IDF (Term Frequency and Inverse Document Frequency)\n",
    "\n",
    "The core idea of assigning weightage is the word that appears multiple time in a document but has a rare appearance in corpus then it is very important for that document so it gives more weightage to that word. This weightage is calculated by two terms known as TF and IDF. \n",
    "\n",
    "### Term frequency (TF)\n",
    "\n",
    "The number of occurrences of a word in a document divided by a total number of terms in a document is referred to as Term Frequency.\n",
    "\n",
    "### Inverse document frequency (IDF)\n",
    "\n",
    "Total number of documents in corpus divided by the total number of documents with term T in them and taking the log of a complete fraction is inverse document frequency."
   ]
  },
  {
   "cell_type": "code",
   "execution_count": 6,
   "metadata": {},
   "outputs": [
    {
     "data": {
      "text/plain": [
       "array([[0.46609584, 0.        , 0.        , 0.46609584, 0.        ,\n",
       "        0.46609584, 0.        , 0.361965  , 0.46609584],\n",
       "       [0.30716074, 0.40387946, 0.        , 0.        , 0.40387946,\n",
       "        0.30716074, 0.40387946, 0.47707544, 0.30716074],\n",
       "       [0.        , 0.        , 0.72033345, 0.54783215, 0.        ,\n",
       "        0.        , 0.        , 0.42544054, 0.        ]])"
      ]
     },
     "execution_count": 6,
     "metadata": {},
     "output_type": "execute_result"
    }
   ],
   "source": [
    "from sklearn.feature_extraction.text import TfidfVectorizer\n",
    "\n",
    "tfidf = TfidfVectorizer()\n",
    "tfidf.fit_transform(df['text']).toarray()"
   ]
  },
  {
   "cell_type": "code",
   "execution_count": 7,
   "metadata": {},
   "outputs": [
    {
     "name": "stdout",
     "output_type": "stream",
     "text": [
      "[('analytics', 1.2876820724517808), ('and', 1.6931471805599454), ('appreciates', 1.6931471805599454), ('author', 1.2876820724517808), ('comment', 1.6931471805599454), ('on', 1.2876820724517808), ('reads', 1.6931471805599454), ('vidhya', 1.0), ('writes', 1.2876820724517808)]\n"
     ]
    }
   ],
   "source": [
    "print(list(zip(tfidf.get_feature_names_out(), tfidf.idf_)))"
   ]
  },
  {
   "cell_type": "code",
   "execution_count": null,
   "metadata": {},
   "outputs": [],
   "source": []
  }
 ],
 "metadata": {
  "kernelspec": {
   "display_name": "base",
   "language": "python",
   "name": "python3"
  },
  "language_info": {
   "codemirror_mode": {
    "name": "ipython",
    "version": 3
   },
   "file_extension": ".py",
   "mimetype": "text/x-python",
   "name": "python",
   "nbconvert_exporter": "python",
   "pygments_lexer": "ipython3",
   "version": "3.9.15"
  },
  "orig_nbformat": 4
 },
 "nbformat": 4,
 "nbformat_minor": 2
}
