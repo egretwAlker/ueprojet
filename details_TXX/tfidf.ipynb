{
 "cells": [
  {
   "attachments": {},
   "cell_type": "markdown",
   "metadata": {},
   "source": [
    "# TF-IDF + persistence homology"
   ]
  },
  {
   "attachments": {},
   "cell_type": "markdown",
   "metadata": {},
   "source": [
    "## TF-IDF"
   ]
  },
  {
   "cell_type": "code",
   "execution_count": 1,
   "metadata": {},
   "outputs": [],
   "source": [
    "import numpy as np\n",
    "from scipy.sparse import csr_matrix, linalg, csgraph\n",
    "from sklearn import metrics\n",
    "import matplotlib.pyplot as plt\n",
    "import matplotlib.ticker as ticker\n",
    "import re\n",
    "import tools"
   ]
  },
  {
   "attachments": {},
   "cell_type": "markdown",
   "metadata": {},
   "source": [
    "## TODO\n",
    "\n",
    "- Un bon preprocessing\n",
    "- Exploiter des propriétés sur les barcodes\n",
    "- Les tf différents e.g. 0/1\n",
    "- Normalisation\n",
    "- Parametric distance\n",
    "- Dimensionality reduction (PCA) : mais les données sont de haute dimension en soit si on ne considère pas les sens des mots?"
   ]
  },
  {
   "attachments": {},
   "cell_type": "markdown",
   "metadata": {},
   "source": [
    "### Notes on the implementation\n",
    "\n",
    "- On n'utilise pas ```for``` dès possible\n",
    "- On utilise sparse matrices\n",
    "- Données dupliquées\n",
    "- Ce code peut traiter les données d'ordre 10^4"
   ]
  },
  {
   "cell_type": "code",
   "execution_count": 2,
   "metadata": {},
   "outputs": [],
   "source": [
    "def my_split(docs : list[str]) -> list[list[str]]:\n",
    "  return [[w.lower() for w in re.sub(r'[^\\w]', ' ', s).split() if w.isalpha() and len(w) >= 3] for s in docs]\n",
    "\n",
    "# O(nm log(nm))\n",
    "def tfidf(docs : list[list[str]]) -> tuple[list[str], np.ndarray, list[np.ndarray]]:\n",
    "    words = []\n",
    "    for doc in docs:\n",
    "        words.extend(doc)\n",
    "    words = np.unique(words)\n",
    "    lk = dict(zip(words, range(len(words))))\n",
    "    tf = np.zeros((len(docs), len(words)), dtype=np.float64)\n",
    "    for i, doc in enumerate(docs):\n",
    "        indices, counts = np.unique([lk[term] for term in doc], return_index=True)\n",
    "        tf[i, indices] = counts/len(doc)\n",
    "\n",
    "    df = np.zeros((len(words),), dtype=np.float64)\n",
    "    for doc in docs:\n",
    "        df[np.unique([lk[term] for term in doc])] += 1\n",
    "    idf = np.log(len(docs) / df)\n",
    "\n",
    "    tfidf = tf * idf\n",
    "    return words, idf, tfidf"
   ]
  },
  {
   "cell_type": "code",
   "execution_count": 3,
   "metadata": {},
   "outputs": [
    {
     "name": "stdout",
     "output_type": "stream",
     "text": [
      "1682\n",
      "[(['Enchères', 'Aventures dans la jungle', 'Collection / famille', 'Exploration', \"Placement d'ouvrier\"], '\\n                      Vous êtes à la tête d’un groupe d’aventuriers et d’archéologues en expédition dans les ruines du temple de Quetzal. Les joueurs ont 5 tours pour explorer l’île de Quetzal et collecter de précieux artefacts. Les joueurs lancent leurs meeples et les envoient dans les différents lieux de l’île pour récupérer des artefacts. Ils les livrent ensuite pour améliorer leurs fouilles ou marquer des points de victoire et tenter de gagner la partie.\\n                  '), (['Card-driven', 'Combinaison', 'Coopération', 'Deck building', 'Locomotion & voyage', 'Humour', 'Gestion', 'Science fiction'], '\\n                      Le Dr Foo a créé une terrrrible Machine à voyager dans le temps ! Aidé par les Clones de lui-même qu’il génère dans le temps, il vise à concrétiser Omniscience 2000, son projet de se rendre maître de l’Univers. Mais les failles spatio-temporelles qu’il sème sur son passage auront sûrement raison de l’espace quantique bien avant cela… Rejoignez l’Agence dans la peau de l’un de ses Agents les plus légendaires, et coopérez pour contrecarrer les plans machiavéliques du Dr Foo, à l’aide d’Artefacts toujours plus puissants et décalés. \\n\\nDerrière son thème décalé, The LOOP est un jeu coopératif plein de challenge, qui vous oppose au maléfique Docteur Foo à travers 4 modes de jeu, tous différents et rejouables. A chaque tour, le Dr Foo crée de nouveaux clones de lui-même et vous oblige à jeter des failles spatio-temporelles à l’intérieur de sa Machine temporelle pour les répartir dans l’Espace-Temps. Tirez le meilleur parti des cartes Artefact et du pouvoir unique de votre Agent Temporel pour le combattre. Récupérez de nouvelles cartes surpuissantes pour améliorer votre Agent. En choisissant bien leur Dimension et leur effet, vous pourrez réutiliser vos cartes plusieurs fois dans des enchaînements impressionnants, grâce au LOOP. Faites preuve d’esprit d’équipe pour éviter les Vortex et vaincre le Dr Foo avant que l’Univers soit détruit.\\n                  '), (['Choix simultanés', 'Dés', 'Duplicate'], '\\n                      Troyes Dice vous invite à découvrir l’histoire de la ville de Troyes au cours du Moyen Âge. La société est alors organisée autour de trois ordres : les nobles, les civils et les religieux. Aux premiers incombe la charge de protéger les terres, aux seconds de fournir les biens essentiels à la vie de la cité et aux derniers, la mission de veiller à l’éveil spirituel ainsi qu’au développement des connaissances.\\n\\nMettez à profit les 8 journées que dure une partie pour lutter contre les événements, ouvrir des échoppes dans la grande Halle ou participer à l’édification de la Cathédrale. Attelez-vous également à la construction des 3 bâtiments de fonction de la ville : le Palais des comtes, l’Hôtel de ville et l’Évêché.\\n\\nÀ la fin de la partie, soyez le joueur qui a engrangé le plus de points de victoire pour l’emporter !\\n                  ')]\n"
     ]
    }
   ],
   "source": [
    "pairs = tools.categories_description_pairs(\"details.json\")[:2000]\n",
    "def dedup():\n",
    "  s = set()\n",
    "  res = []\n",
    "  for p in pairs:\n",
    "    if p[1] not in s:\n",
    "      res.append(p)\n",
    "      s.add(p[1])\n",
    "  return res\n",
    "pairs = dedup()\n",
    "print(len(pairs))\n",
    "print(pairs[0:3])"
   ]
  },
  {
   "cell_type": "code",
   "execution_count": 4,
   "metadata": {},
   "outputs": [
    {
     "name": "stdout",
     "output_type": "stream",
     "text": [
      "180 [\"Placement d'ouvrier\", 'Collection / famille', 'Card-driven', 'Médiéval-fantastique', 'Gestion', 'TV & Cinéma', 'Rapidité', 'Alignement', 'Hospitalier', 'Cuisine', 'Deck building', 'Jeu de carte à collectionner', 'Duplicate', 'Astronomie et Espace', 'SteamPunk', 'Toucher', 'Chiffres', \"Points d'action\", 'Devinette', 'Levées', 'Jeu en ligne', 'Observation', 'Enigme', 'Connaissances', 'Guessing', 'Préhistorique', 'Récolte', 'Coopération', 'Cyberpunk', 'Sorcière', 'Majorité', 'Rails', 'Capture', 'Cambriolage', 'Vote', 'Ville', 'Enchères anglaises', 'Diplomatie', 'Vampire', 'Politique', 'Enchères a un tour', 'Enquêtes et Policiers', 'Enchères', 'Trahison', 'Animaux', 'Lettres / mots', 'Horreur', 'Jeux de pions', 'Enchères cachées', 'Monstre', 'Erotique', 'Afrique', 'Religion', 'Volcan', 'Samurai', 'Loups-garous', 'Jeux de connaissances', 'Rangement', 'Egypte', 'Vêtements', 'Cirque', 'Musique & Chanson', 'Locomotion & voyage', 'Ambiance', 'Taquin', 'Zombies', 'Jeux de rôles', 'Sport', 'Plateau modulaire', 'Dés', 'Gestion de main', 'Casse-tête', 'Espion', 'équipe', 'Programmation', 'Amateur', 'Livre dont vous êtes le héros', 'Rôle secret', 'Chifoumi', 'Contes, Mythes & Légendes', 'Placement', 'Connexions', 'Avant-vente', 'Jeux de figurines', 'Passionné', 'Humour', 'Semi-coopération', 'Super Héros', 'Chant & Danse', 'Jeux de lettres', 'Jeux de cartes', 'Parcours', 'Empilement', 'Conquête', 'Mime', 'Art', 'Antiquité', 'Catastrophe', 'Construction', 'Exploration', 'Enchères à poing fermé', 'Rôle', 'Jeu sans investissement', 'Déduction', 'Hasard (Dé, Cartes, ...)', 'Cartes à jouer', 'Pari', 'Déplacement', 'Mémoire', 'Colonisation', 'Guerre', 'Pirate', 'Japon', 'Aventures dans la jungle', 'Pioche', 'Lettres & chiffres', 'Question', 'Transport de marchandise', 'Bande dessinée', 'Desert', 'Elimination', 'Abstrait', 'Bluff', 'Jeux de dés', 'Asie', 'Dextérité/Adresse', 'Créativité', 'Stop ou encore', 'Far-west', 'Puzzle', 'Cyclisme', 'Draft', 'Médiéval', 'Historique', 'Simulation', 'Autres', 'Blocage', 'Lovecraft', 'Prise de risque', 'Labyrinthe', 'Les îles', 'Divers', 'Maritime', 'Flore', 'Ecologie', 'Prospection minière', 'Affrontement', 'Bourse & finances', 'Logique', 'Science fiction', 'Jeu de logique', 'Course', \"Parc d'Attraction\", 'Fruits & légumes', 'Chat', 'Renaissance', 'Dessin', 'Cochon', 'Immobilier', 'Casual', 'Fantastique', 'Combinaison', 'Robots', 'Tuile', 'Aviation', 'Fantôme', 'Vikings', 'Objectif secret', 'Echange - troc', 'Geek', 'Choix simultanés', 'Jeux de figurines à collectionner', 'Narration', 'Jeux de plateau', 'Semaille', 'Défausse', 'Commerce', 'Jeux de guerre', 'Équilibre', 'Halloween']\n"
     ]
    }
   ],
   "source": [
    "categories = list(set(((sum([p[0] for p in pairs],[])))))\n",
    "print(len(categories), categories)"
   ]
  },
  {
   "cell_type": "code",
   "execution_count": 5,
   "metadata": {},
   "outputs": [
    {
     "name": "stdout",
     "output_type": "stream",
     "text": [
      "['vous', 'êtes', 'tête', 'groupe', 'aventuriers', 'archéologues', 'expédition', 'dans', 'les', 'ruines', 'temple', 'quetzal', 'les', 'joueurs', 'ont', 'tours', 'pour', 'explorer', 'île', 'quetzal', 'collecter', 'précieux', 'artefacts', 'les', 'joueurs', 'lancent', 'leurs', 'meeples', 'les', 'envoient', 'dans', 'les', 'différents', 'lieux', 'île', 'pour', 'récupérer', 'des', 'artefacts', 'ils', 'les', 'livrent', 'ensuite', 'pour', 'améliorer', 'leurs', 'fouilles', 'marquer', 'des', 'points', 'victoire', 'tenter', 'gagner', 'partie']\n",
      "['foo', 'créé', 'une', 'terrrrible', 'machine', 'voyager', 'dans', 'temps', 'aidé', 'par', 'les', 'clones', 'lui', 'même', 'génère', 'dans', 'temps', 'vise', 'concrétiser', 'omniscience', 'son', 'projet', 'rendre', 'maître', 'univers', 'mais', 'les', 'failles', 'spatio', 'temporelles', 'sème', 'sur', 'son', 'passage', 'auront', 'sûrement', 'raison', 'espace', 'quantique', 'bien', 'avant', 'cela', 'rejoignez', 'agence', 'dans', 'peau', 'ses', 'agents', 'les', 'plus', 'légendaires', 'coopérez', 'pour', 'contrecarrer', 'les', 'plans', 'machiavéliques', 'foo', 'aide', 'artefacts', 'toujours', 'plus', 'puissants', 'décalés', 'derrière', 'son', 'thème', 'décalé', 'the', 'loop', 'est', 'jeu', 'coopératif', 'plein', 'challenge', 'qui', 'vous', 'oppose', 'maléfique', 'docteur', 'foo', 'travers', 'modes', 'jeu', 'tous', 'différents', 'rejouables', 'chaque', 'tour', 'foo', 'crée', 'nouveaux', 'clones', 'lui', 'même', 'vous', 'oblige', 'jeter', 'des', 'failles', 'spatio', 'temporelles', 'intérieur', 'machine', 'temporelle', 'pour', 'les', 'répartir', 'dans', 'espace', 'temps', 'tirez', 'meilleur', 'parti', 'des', 'cartes', 'artefact', 'pouvoir', 'unique', 'votre', 'agent', 'temporel', 'pour', 'combattre', 'récupérez', 'nouvelles', 'cartes', 'surpuissantes', 'pour', 'améliorer', 'votre', 'agent', 'choisissant', 'bien', 'leur', 'dimension', 'leur', 'effet', 'vous', 'pourrez', 'réutiliser', 'vos', 'cartes', 'plusieurs', 'fois', 'dans', 'des', 'enchaînements', 'impressionnants', 'grâce', 'loop', 'faites', 'preuve', 'esprit', 'équipe', 'pour', 'éviter', 'les', 'vortex', 'vaincre', 'foo', 'avant', 'que', 'univers', 'soit', 'détruit']\n",
      "['troyes', 'dice', 'vous', 'invite', 'découvrir', 'histoire', 'ville', 'troyes', 'cours', 'moyen', 'âge', 'société', 'est', 'alors', 'organisée', 'autour', 'trois', 'ordres', 'les', 'nobles', 'les', 'civils', 'les', 'religieux', 'aux', 'premiers', 'incombe', 'charge', 'protéger', 'les', 'terres', 'aux', 'seconds', 'fournir', 'les', 'biens', 'essentiels', 'vie', 'cité', 'aux', 'derniers', 'mission', 'veiller', 'éveil', 'spirituel', 'ainsi', 'développement', 'des', 'connaissances', 'mettez', 'profit', 'les', 'journées', 'que', 'dure', 'une', 'partie', 'pour', 'lutter', 'contre', 'les', 'événements', 'ouvrir', 'des', 'échoppes', 'dans', 'grande', 'halle', 'participer', 'édification', 'cathédrale', 'attelez', 'vous', 'également', 'construction', 'des', 'bâtiments', 'fonction', 'ville', 'palais', 'des', 'comtes', 'hôtel', 'ville', 'évêché', 'fin', 'partie', 'soyez', 'joueur', 'qui', 'engrangé', 'plus', 'points', 'victoire', 'pour', 'emporter']\n",
      "['bienvenue', 'mysterium', 'park', 'ses', 'barbes', 'papa', 'son', 'cirque', 'ses', 'sombres', 'secrets', 'son', 'ancien', 'directeur', 'disparu', 'depuis', 'étranges', 'événements', 'ont', 'lieu', 'tant', 'que', 'médiums', 'vous', 'êtes', 'convaincus', 'fantôme', 'hante', 'cette', 'fête', 'foraine', 'vous', 'êtes', 'déterminés', 'aider', 'dévoiler', 'vérité', 'dans', 'jeu', 'asymétrique', 'fantôme', 'envoie', 'des', 'visions', 'avec', 'des', 'cartes', 'illustrées', 'les', 'médiums', 'tentent', 'les', 'interpréter', 'pour', 'abord', 'innocenter', 'des', 'suspects', 'enquêter', 'dans', 'les', 'différents', 'lieux', 'pour', 'finalement', 'identifier', 'meurtrier', 'lieu', 'crime', 'vous', 'avez', 'agréables', 'nuits', 'avant', 'que', 'fête', 'foraine', 'lève', 'camp', 'ouvrez', 'vos', 'esprits', 'trouvez', 'vérité']\n",
      "['cette', 'seconde', 'extension', 'pour', 'not', 'alone', 'apporte', 'nombreuses', 'nouveautés', 'côté', 'des', 'traqués', 'les', 'joueurs', 'pourront', 'découvrir', 'leurs', 'avatars', 'des', 'survivants', 'crash', 'retrouver', 'mettre', 'sécurité', 'dans', 'cité', 'ainsi', 'une', 'nouvelle', 'condition', 'victoire', 'travers', 'développement', 'cité', 'mais', 'créature', 'sera', 'pas', 'reste', 'son', 'côté', 'elle', 'appris', 'manier', 'adn', 'humain', 'servir', 'pour', 'évoluer', 'sanctuary', 'introduit', 'des', 'nouveaux', 'éléments', 'tels', 'que', 'les', 'cartes', 'évolution', 'les', 'cartes', 'avatar', 'qui', 'personnalisent', 'créature', 'les', 'traqués', 'ainsi', 'que', 'plateau', 'sanctuary', 'qui', 'propose', 'aux', 'traqués', 'une', 'condition', 'victoire', 'alternative']\n",
      "['choisissez', 'des', 'trois', 'personnages', 'disponibles', 'tentez', 'placer', 'dans', 'bon', 'ordre', 'dans', 'colonne', 'votre', 'choix', 'date', 'naissance', 'durée', 'vie', 'date', 'décès', 'vous', 'avez', 'opportunité', 'risquez', 'vous', 'deviner', 'les', 'circonstances', 'mort', 'votre', 'personnage', 'pour', 'vous', 'assurer', 'participer', 'dernier', 'tour']\n",
      "['jeu', 'complet', 'indépendant', 'une', 'nuit', 'été', 'fait', 'partie', 'cycle', 'time', 'stories', 'revolution', 'dont', 'les', 'missions', 'jouent', 'dans', 'importe', 'quel', 'ordre', 'les', 'agents', 'explorent', 'une', 'trame', 'parallèle', 'alternative', 'réalité', 'devient', 'donc', 'concept', 'fluctuant', 'les', 'joueurs', 'devront', 'démêler', 'vrai', 'faux', 'dans', 'cette', 'aventure', 'construite', 'comme', 'grand', 'jeu', 'miroirs']\n",
      "['les', 'îles', 'trouvent', 'toujours', 'sous', 'brouillard', 'épais', 'plus', 'vous', 'allez', 'loin', 'sur', 'île', 'avec', 'votre', 'ballon', 'plus', 'brouillard', 'dissipe', 'vous', 'explorez', 'paysage', 'couper', 'souffle', 'utilisez', 'habilement', 'vent', 'local', 'pour', 'économiser', 'énergie', 'que', 'vous', 'pouvez', 'utiliser', 'pour', 'accélérer', 'ralentir', 'dirigez', 'vous', 'complètement', 'contre', 'vent', 'bon', 'moment', 'pour', 'atteindre', 'votre', 'objectif']\n",
      "['deux', 'familles', 'égales', 'noblesse', 'dans', 'belle', 'vérone', 'nous', 'plaçons', 'notre', 'scène', 'sont', 'entraînées', 'par', 'anciennes', 'rancunes', 'des', 'rixes', 'nouvelles', 'sang', 'des', 'citoyens', 'souille', 'les', 'mains', 'des', 'citoyens', 'des', 'entrailles', 'prédestinées', 'ces', 'deux', 'ennemies', 'pris', 'naissance', 'sous', 'des', 'étoiles', 'contraires', 'couple', 'amoureux']\n",
      "['nineteen', 'est', 'jeu', 'placement', 'réflexion', 'pour', 'joueurs', 'base', 'dés', 'ici', 'malgré', 'les', 'dés', 'pas', 'hasard', 'plateau', 'cases', 'dés', 'par', 'joueurs', 'deux', 'cerveaux', 'ébullition', 'voici', 'recette', 'une', 'partie', 'réussie', 'nineteen', 'utilisant', 'une', 'mécanique', 'placement', 'dés', 'très', 'originale', 'nineteen', 'ravira', 'les', 'amateurs', 'genre']\n"
     ]
    }
   ],
   "source": [
    "docs = [p[1] for p in pairs]\n",
    "docs = my_split(docs)\n",
    "for x in docs[:10]:\n",
    "    print(x)"
   ]
  },
  {
   "cell_type": "code",
   "execution_count": 6,
   "metadata": {},
   "outputs": [],
   "source": [
    "words, idf, vecs = tfidf(docs)\n",
    "vecs = csr_matrix(vecs)"
   ]
  },
  {
   "cell_type": "code",
   "execution_count": 7,
   "metadata": {},
   "outputs": [
    {
     "name": "stdout",
     "output_type": "stream",
     "text": [
      "Number of words 24721\n",
      "['aaaaahhhh' 'abaddon' 'abaisse' ... 'œuvré' 'ลอยกระทง' 'エセ芸術家ニューヨークへ行く']\n"
     ]
    }
   ],
   "source": [
    "print(\"Number of words\", len(words))\n",
    "print(words)"
   ]
  },
  {
   "attachments": {},
   "cell_type": "markdown",
   "metadata": {},
   "source": [
    "- Il y a trop de mots, parce que je n'ai pas utilisé stemmer."
   ]
  },
  {
   "cell_type": "code",
   "execution_count": 8,
   "metadata": {},
   "outputs": [
    {
     "name": "stdout",
     "output_type": "stream",
     "text": [
      "IDF:  [('エセ芸術家ニューヨークへ行く', 7.427738840532894), ('ลอยกระทง', 7.427738840532894), ('œuvré', 7.427738840532894), ('œuvres', 6.041444479413003), ('œuvrer', 7.427738840532894), ('œuvrent', 6.734591659972948), ('œuvre', 4.8627894830713565), ('œuvrait', 7.427738840532894), ('œufs', 5.635979371304838), ('œuf', 6.734591659972948), ('œillets', 7.427738840532894), ('œil', 4.336696387174578), ('ïle', 7.427738840532894), ('îlots', 7.427738840532894), ('îlot', 7.427738840532894), ('îles', 4.432006566978902), ('île', 3.5990974440437986), ('êtres', 5.818300928098793), ('être', 1.5169421964923662), ('êtes', 2.390786238119264)]\n",
      "IDF:  [(0.2000763418042385, 'les'), (0.3260628689134498, 'des'), (0.3326744632457626, 'pour'), (0.47692407209030935, 'jeu'), (0.485582134833424, 'une'), (0.5001809342545765, 'est'), (0.509043621512422, 'dans'), (0.5925542543855917, 'vous'), (0.613195943272935, 'qui'), (0.671969918548638, 'plus'), (0.8143546221533338, 'que'), (0.838812362999374, 'sur'), (0.898320002270668, 'cartes'), (0.9279517998770392, 'avec'), (0.9354990055124222, 'joueurs'), (1.0459228231267952, 'mais'), (1.0681649718605157, 'votre'), (1.0926845890348342, 'vos'), (1.1380232696238963, 'sont'), (1.1436046794620913, 'par')]\n"
     ]
    }
   ],
   "source": [
    "print(\"IDF: \", list(reversed(sorted(list(zip(words, idf)))))[:20])\n",
    "print(\"IDF: \", (sorted(list(zip(idf, words))))[:20])"
   ]
  },
  {
   "attachments": {},
   "cell_type": "markdown",
   "metadata": {},
   "source": [
    "## Persistence homology dim 0\n",
    "\n",
    "On the function\n",
    "$$\n",
    "f(p) = \\min_{q \\in A}(p-q)\n",
    "$$"
   ]
  },
  {
   "cell_type": "code",
   "execution_count": 9,
   "metadata": {},
   "outputs": [],
   "source": [
    "# O(n^2 m)\n",
    "def compute_barcode(X : csr_matrix) -> np.ndarray:\n",
    "    n = X.shape[0]\n",
    "    distances = metrics.pairwise_distances(X, metric='euclidean', n_jobs=-1)\n",
    "    deathes = [np.min([distances[i, j] for j in range(i+1, n)], initial=np.inf) for i in range(n)]\n",
    "    return sorted(deathes)"
   ]
  },
  {
   "cell_type": "code",
   "execution_count": 10,
   "metadata": {},
   "outputs": [
    {
     "name": "stdout",
     "output_type": "stream",
     "text": [
      "[0.0, 0.0, 0.1997087294490098, 0.2073340226162525, 0.2637589345980409, 0.5521760672748356, 0.6884080754345523, 0.733621313254529, 1.2384527507122278, 2.6738203136806487]\n",
      "[ 0.          0.19970873  0.20733402 ... 71.46296219 73.23508846\n",
      "         inf]\n"
     ]
    }
   ],
   "source": [
    "deathes = compute_barcode(vecs)\n",
    "print(deathes[:10])\n",
    "print(np.unique(deathes))"
   ]
  },
  {
   "cell_type": "code",
   "execution_count": 11,
   "metadata": {},
   "outputs": [
    {
     "data": {
      "image/png": "[encoded data removed]",
      "text/plain": [
       "<Figure size 640x480 with 1 Axes>"
      ]
     },
     "metadata": {},
     "output_type": "display_data"
    }
   ],
   "source": [
    "def graph():\n",
    "    x, y = np.unique(deathes, return_counts=True)\n",
    "    # fix np.inf\n",
    "    x[-1] = x[-2]\n",
    "\n",
    "    y = y[::-1].cumsum()[::-1]\n",
    "    fig, ax = plt.subplots()\n",
    "    ax.bar(x, y, width=0.1)\n",
    "    ax.yaxis.set_major_locator(ticker.MultipleLocator(100))\n",
    "    ax.xaxis.set_major_locator(ticker.MultipleLocator(5))\n",
    "    ax.set_xlabel('Barcode Values')\n",
    "    ax.set_ylabel('Suffix Count')\n",
    "    ax.set_title('Barcode Plot')\n",
    "    plt.show()\n",
    "graph()"
   ]
  },
  {
   "attachments": {},
   "cell_type": "markdown",
   "metadata": {},
   "source": [
    "- Il existe un virage et des espaces à partir de 200, et on a bien environ 200 catégories et il existe des espaces aussi à partir de cela; peut-être on peut trouver quelque chose; si cela veut dire quelque chose, on peut prédire combien de catégories il y a pour un ensemble des descriptions :P\n",
    "\n",
    "Tout ce que fait en général le persistence module est de faire union à un component connexe. Il existe de bons résultats localement mais rien très util.\n",
    "\n",
    "On en déduit que les données sont parse comme avant."
   ]
  },
  {
   "cell_type": "code",
   "execution_count": 12,
   "metadata": {},
   "outputs": [],
   "source": [
    "def connected_components_under_dist(X : csr_matrix, dist_lim : float):\n",
    "  n = X.shape[0]\n",
    "  G = csr_matrix(metrics.pairwise_distances(X, metric='euclidean', n_jobs=-1)<dist_lim)\n",
    "  return csgraph.connected_components(G)"
   ]
  },
  {
   "cell_type": "code",
   "execution_count": 13,
   "metadata": {},
   "outputs": [
    {
     "name": "stdout",
     "output_type": "stream",
     "text": [
      "10 31{'Parcours': 1, 'Médiéval-fantastique': 3, 'Déplacement': 3, 'Exploration': 2, 'Monstre': 1, 'Hasard (Dé, Cartes, ...)': 5, 'cnt': 31, 10: True, 'Casual': 4, 'Vote': 1, 'Lettres / mots': 2, 'Stop ou encore': 1, 13: True, 'Construction': 1, 'Connexions': 2, 'Placement': 3, 277: True, 'Choix simultanés': 1, 'Course': 1, 'Dés': 7, 'Diplomatie': 3, 'Pirate': 1, 'Programmation': 1, 408: True, 'Asie': 2, 'Jeux de pions': 1, 647: True, 'Amateur': 2, 'Jeu de carte à collectionner': 1, 712: True, 'Commerce': 3, 715: True, 'Geek': 4, 'Jeux de plateau': 4, 758: True, 'Jeux de cartes': 4, 876: True, 'Ambiance': 1, 'Bluff': 2, 'Déduction': 1, 'Elimination': 1, 'Loups-garous': 1, 'Guessing': 1, 'Pioche': 2, 'Rôle': 1, 'Rôle secret': 1, 'Trahison': 2, 919: True, 'Casse-tête': 2, 950: True, 952: True, 'Jeux de figurines': 1, 968: True, 969: True, 980: True, 'Combinaison': 8, 'Locomotion & voyage': 2, 1018: True, 'Jeux de connaissances': 1, 1047: True, 1086: True, 1145: True, 'Fantastique': 1, 'Les îles': 1, 'Prospection minière': 1, 'Science fiction': 1, 'SteamPunk': 1, 1148: True, 1171: True, 'Ville': 4, 'Immobilier': 1, 'Gestion': 2, 1213: True, 'Lettres & chiffres': 1, 'Enigme': 1, 'Rapidité': 1, 1229: True, 1232: True, 'Antiquité': 1, 'Affrontement': 1, 'Jeux de dés': 1, 'Enchères à poing fermé': 1, 1268: True, 1347: True, 1383: True, 'Colonisation': 1, 'Maritime': 1, 'Majorité': 1, \"Placement d'ouvrier\": 1, 1509: True, 'Deck building': 1, 'Médiéval': 2, 1535: True, 'Gestion de main': 1, 'Renaissance': 1, 1668: True, 'Abstrait': 1, 1679: True}\n",
      "546 2{'Antiquité': 2, 'Affrontement': 2, 'Construction': 2, 'Combinaison': 2, 'cnt': 2, 549: True, 555: True}\n",
      "640 5{'Geek': 5, 'Jeux de figurines': 5, 'cnt': 5, 644: True, 650: True, 658: True, 686: True, 687: True}\n",
      "687 2{'Horreur': 1, 'cnt': 2, 696: True, 'Lovecraft': 1, 1022: True}\n",
      "905 6{'Jeu de carte à collectionner': 3, 'cnt': 6, 918: True, 'Affrontement': 2, 'Card-driven': 3, 'Science fiction': 2, 922: True, 943: True, 945: True, 'Conquête': 1, 946: True, 947: True}\n",
      "954 2{'Jeu de logique': 2, 'cnt': 2, 977: True, 990: True}\n",
      "1037 3{'Jeux de figurines à collectionner': 3, 'cnt': 3, 1065: True, 1067: True, 1072: True}\n"
     ]
    }
   ],
   "source": [
    "nc, labels = connected_components_under_dist(vecs, 6)\n",
    "def incre(d : dict, key):\n",
    "  d[key] = d.get(key, 0) + 1\n",
    "statistics = [dict() for _ in range(nc)]\n",
    "for i in range(len(labels)):\n",
    "  for cate in pairs[i][0]:\n",
    "    incre(statistics[labels[i]], cate)\n",
    "  incre(statistics[labels[i]], 'cnt')\n",
    "  statistics[labels[i]][i] = True\n",
    "for i in range(nc):\n",
    "  if statistics[i]['cnt'] == 1:\n",
    "    continue\n",
    "  print(i, statistics[i]['cnt'], end='')\n",
    "  print(statistics[i])\n",
    "\n"
   ]
  },
  {
   "cell_type": "code",
   "execution_count": 14,
   "metadata": {},
   "outputs": [
    {
     "name": "stdout",
     "output_type": "stream",
     "text": [
      "\n",
      "                      Ce booster contient :\n",
      "\n",
      "les personnages uniques Negan et Andy,\n",
      "un rôdeur inédit,\n",
      "quatre cartes d'équipements\n",
      "deux cartes de personnages (Negan et Andy).\n",
      "\n",
      "La boîte de base du jeu de figurines \"The Walking Dead : All Out War\" est nécessaire pour jouer.\n",
      "                   ---\n",
      "\n",
      "                      Ce booster contient :\n",
      "\n",
      "les personnages uniques Lee & Clementine les deux personnages emblématiques du jeu de TellTale, \n",
      "un rôdeur inédit, \n",
      "quatre cartes d'équipements,\n",
      "deux cartes de personnages\n",
      "\n",
      "La boîte de base du jeu de figurines \"The Walking Dead : All Out War\" est nécessaire pour jouer.\n",
      "                   ---\n"
     ]
    }
   ],
   "source": [
    "print(pairs[644][1], '---')\n",
    "print(pairs[650][1], '---')"
   ]
  }
 ],
 "metadata": {
  "kernelspec": {
   "display_name": "base",
   "language": "python",
   "name": "python3"
  },
  "language_info": {
   "codemirror_mode": {
    "name": "ipython",
    "version": 3
   },
   "file_extension": ".py",
   "mimetype": "text/x-python",
   "name": "python",
   "nbconvert_exporter": "python",
   "pygments_lexer": "ipython3",
   "version": "3.9.15"
  },
  "orig_nbformat": 4
 },
 "nbformat": 4,
 "nbformat_minor": 2
}
