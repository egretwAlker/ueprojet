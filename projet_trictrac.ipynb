{
 "cells": [
  {
   "cell_type": "code",
   "execution_count": 1,
   "id": "ee10e5a8",
   "metadata": {},
   "outputs": [],
   "source": [
    "import numpy as np\n",
    "import pandas as pd\n",
    "import bson\n",
    "import seaborn as sns\n",
    "import string\n",
    "import re\n",
    "from unidecode import unidecode\n",
    "import itertools\n",
    "import cleantext\n",
    "import nltk\n",
    "\n",
    "\n",
    "from sklearn.model_selection import train_test_split"
   ]
  },
  {
   "cell_type": "code",
   "execution_count": 2,
   "id": "a7c2520c",
   "metadata": {},
   "outputs": [],
   "source": [
    "avis_df = pd.read_csv('data/avis.csv')\n",
    "details_df = pd.read_csv('data/details.csv')\n",
    "infos_scrapping_df = pd.read_csv('data/infos_scrapping.csv')\n",
    "jeux_df = pd.read_csv('data/jeux.csv')"
   ]
  },
  {
   "cell_type": "code",
   "execution_count": 3,
   "id": "011951e0",
   "metadata": {},
   "outputs": [
    {
     "data": {
      "text/html": [
       "<div>\n",
       "<style scoped>\n",
       "    .dataframe tbody tr th:only-of-type {\n",
       "        vertical-align: middle;\n",
       "    }\n",
       "\n",
       "    .dataframe tbody tr th {\n",
       "        vertical-align: top;\n",
       "    }\n",
       "\n",
       "    .dataframe thead th {\n",
       "        text-align: right;\n",
       "    }\n",
       "</style>\n",
       "<table border=\"1\" class=\"dataframe\">\n",
       "  <thead>\n",
       "    <tr style=\"text-align: right;\">\n",
       "      <th></th>\n",
       "      <th>Unnamed: 0</th>\n",
       "      <th>_id</th>\n",
       "      <th>author</th>\n",
       "      <th>date_published</th>\n",
       "      <th>title_review</th>\n",
       "      <th>note</th>\n",
       "      <th>review_href</th>\n",
       "      <th>title</th>\n",
       "      <th>url</th>\n",
       "      <th>treated</th>\n",
       "      <th>comment</th>\n",
       "    </tr>\n",
       "  </thead>\n",
       "  <tbody>\n",
       "    <tr>\n",
       "      <th>0</th>\n",
       "      <td>0</td>\n",
       "      <td>63c6726ea81f3e3016af9a56</td>\n",
       "      <td>Monsieur Guillaume</td>\n",
       "      <td>2021-01-27 11:06:44</td>\n",
       "      <td>Voyages sur les ailes des papillons</td>\n",
       "      <td>8.0</td>\n",
       "      <td>https://www.trictrac.net/avis/vraiment-bon-12514</td>\n",
       "      <td>Mariposas</td>\n",
       "      <td>https://www.trictrac.net/jeu-de-societe/maripo...</td>\n",
       "      <td>True</td>\n",
       "      <td>Lorsque le jeu est jeu, bon, réflexif, joli po...</td>\n",
       "    </tr>\n",
       "    <tr>\n",
       "      <th>1</th>\n",
       "      <td>1</td>\n",
       "      <td>63c6726ea81f3e3016af9a57</td>\n",
       "      <td>morlockbob</td>\n",
       "      <td>2020-10-18 10:04:21</td>\n",
       "      <td>le festival de Michoacan</td>\n",
       "      <td>7.0</td>\n",
       "      <td>https://www.trictrac.net/avis/le-festival-de-m...</td>\n",
       "      <td>Mariposas</td>\n",
       "      <td>https://www.trictrac.net/jeu-de-societe/maripo...</td>\n",
       "      <td>True</td>\n",
       "      <td>Comment continuer après un mega hit ? Simpleme...</td>\n",
       "    </tr>\n",
       "    <tr>\n",
       "      <th>2</th>\n",
       "      <td>2</td>\n",
       "      <td>63c6726ea81f3e3016af9a58</td>\n",
       "      <td>SwatSh</td>\n",
       "      <td>2021-02-01 08:35:08</td>\n",
       "      <td>Vivez la migration des monarques</td>\n",
       "      <td>7.0</td>\n",
       "      <td>https://www.trictrac.net/avis/vivez-la-migrati...</td>\n",
       "      <td>Mariposas</td>\n",
       "      <td>https://www.trictrac.net/jeu-de-societe/maripo...</td>\n",
       "      <td>True</td>\n",
       "      <td>Vin d'jeu: Avec Mariposas, Elizabeth Hargrave ...</td>\n",
       "    </tr>\n",
       "    <tr>\n",
       "      <th>3</th>\n",
       "      <td>3</td>\n",
       "      <td>63c6726ea81f3e3016af9a59</td>\n",
       "      <td>Timi JeuxATheme</td>\n",
       "      <td>2020-11-19 17:04:57</td>\n",
       "      <td>Bon</td>\n",
       "      <td>8.0</td>\n",
       "      <td>NaN</td>\n",
       "      <td>Mariposas</td>\n",
       "      <td>https://www.trictrac.net/jeu-de-societe/maripo...</td>\n",
       "      <td>True</td>\n",
       "      <td>NaN</td>\n",
       "    </tr>\n",
       "    <tr>\n",
       "      <th>4</th>\n",
       "      <td>4</td>\n",
       "      <td>63c6726ea81f3e3016af9a5a</td>\n",
       "      <td>prunelles</td>\n",
       "      <td>2021-05-24 12:43:18</td>\n",
       "      <td>Envolez-moi</td>\n",
       "      <td>9.0</td>\n",
       "      <td>https://www.trictrac.net/avis/envolez-moi</td>\n",
       "      <td>Mariposas</td>\n",
       "      <td>https://www.trictrac.net/jeu-de-societe/maripo...</td>\n",
       "      <td>True</td>\n",
       "      <td>Très joli bijou que ce jeu-là ! Le matériel, l...</td>\n",
       "    </tr>\n",
       "  </tbody>\n",
       "</table>\n",
       "</div>"
      ],
      "text/plain": [
       "   Unnamed: 0                       _id              author  \\\n",
       "0           0  63c6726ea81f3e3016af9a56  Monsieur Guillaume   \n",
       "1           1  63c6726ea81f3e3016af9a57          morlockbob   \n",
       "2           2  63c6726ea81f3e3016af9a58              SwatSh   \n",
       "3           3  63c6726ea81f3e3016af9a59     Timi JeuxATheme   \n",
       "4           4  63c6726ea81f3e3016af9a5a           prunelles   \n",
       "\n",
       "        date_published                         title_review  note  \\\n",
       "0  2021-01-27 11:06:44  Voyages sur les ailes des papillons   8.0   \n",
       "1  2020-10-18 10:04:21             le festival de Michoacan   7.0   \n",
       "2  2021-02-01 08:35:08     Vivez la migration des monarques   7.0   \n",
       "3  2020-11-19 17:04:57                                  Bon   8.0   \n",
       "4  2021-05-24 12:43:18                          Envolez-moi   9.0   \n",
       "\n",
       "                                         review_href      title  \\\n",
       "0   https://www.trictrac.net/avis/vraiment-bon-12514  Mariposas   \n",
       "1  https://www.trictrac.net/avis/le-festival-de-m...  Mariposas   \n",
       "2  https://www.trictrac.net/avis/vivez-la-migrati...  Mariposas   \n",
       "3                                                NaN  Mariposas   \n",
       "4          https://www.trictrac.net/avis/envolez-moi  Mariposas   \n",
       "\n",
       "                                                 url  treated  \\\n",
       "0  https://www.trictrac.net/jeu-de-societe/maripo...     True   \n",
       "1  https://www.trictrac.net/jeu-de-societe/maripo...     True   \n",
       "2  https://www.trictrac.net/jeu-de-societe/maripo...     True   \n",
       "3  https://www.trictrac.net/jeu-de-societe/maripo...     True   \n",
       "4  https://www.trictrac.net/jeu-de-societe/maripo...     True   \n",
       "\n",
       "                                             comment  \n",
       "0  Lorsque le jeu est jeu, bon, réflexif, joli po...  \n",
       "1  Comment continuer après un mega hit ? Simpleme...  \n",
       "2  Vin d'jeu: Avec Mariposas, Elizabeth Hargrave ...  \n",
       "3                                                NaN  \n",
       "4  Très joli bijou que ce jeu-là ! Le matériel, l...  "
      ]
     },
     "execution_count": 3,
     "metadata": {},
     "output_type": "execute_result"
    }
   ],
   "source": [
    "avis_df.head()"
   ]
  },
  {
   "cell_type": "code",
   "execution_count": 4,
   "id": "3f1f5834",
   "metadata": {},
   "outputs": [
    {
     "data": {
      "text/plain": [
       "(246524, 11)"
      ]
     },
     "execution_count": 4,
     "metadata": {},
     "output_type": "execute_result"
    }
   ],
   "source": [
    "avis_df.shape"
   ]
  },
  {
   "cell_type": "code",
   "execution_count": 5,
   "id": "f4687c70",
   "metadata": {},
   "outputs": [],
   "source": [
    "avis_df.drop(['Unnamed: 0'], inplace=True, axis=1)"
   ]
  },
  {
   "cell_type": "code",
   "execution_count": 6,
   "id": "ac2f3a8b",
   "metadata": {},
   "outputs": [
    {
     "name": "stdout",
     "output_type": "stream",
     "text": [
      "_id\n",
      "author\n",
      "date_published\n",
      "title_review\n",
      "note\n",
      "review_href\n",
      "title\n",
      "url\n",
      "treated\n",
      "comment\n"
     ]
    }
   ],
   "source": [
    "for column in avis_df.columns:\n",
    "    print(column)"
   ]
  },
  {
   "cell_type": "code",
   "execution_count": 7,
   "id": "978f7a5d",
   "metadata": {},
   "outputs": [
    {
     "data": {
      "text/plain": [
       "comment           59531\n",
       "review_href       45428\n",
       "_id                   0\n",
       "author                0\n",
       "date_published        0\n",
       "title_review          0\n",
       "note                  0\n",
       "title                 0\n",
       "url                   0\n",
       "treated               0\n",
       "dtype: int64"
      ]
     },
     "execution_count": 7,
     "metadata": {},
     "output_type": "execute_result"
    }
   ],
   "source": [
    "avis_df.isnull().sum().sort_values(ascending=0)"
   ]
  },
  {
   "cell_type": "markdown",
   "id": "5345ba29",
   "metadata": {},
   "source": [
    "#### On decide de retirer toutes les lignes comment NULL"
   ]
  },
  {
   "cell_type": "code",
   "execution_count": 8,
   "id": "45ec7294",
   "metadata": {},
   "outputs": [],
   "source": [
    "avis_df_treated = avis_df.dropna(inplace=False)"
   ]
  },
  {
   "cell_type": "code",
   "execution_count": 9,
   "id": "4131eb19",
   "metadata": {},
   "outputs": [
    {
     "data": {
      "text/plain": [
       "(186993, 10)"
      ]
     },
     "execution_count": 9,
     "metadata": {},
     "output_type": "execute_result"
    }
   ],
   "source": [
    "avis_df_treated.shape"
   ]
  },
  {
   "cell_type": "code",
   "execution_count": 10,
   "id": "0ccf85d8",
   "metadata": {},
   "outputs": [
    {
     "data": {
      "text/html": [
       "<div>\n",
       "<style scoped>\n",
       "    .dataframe tbody tr th:only-of-type {\n",
       "        vertical-align: middle;\n",
       "    }\n",
       "\n",
       "    .dataframe tbody tr th {\n",
       "        vertical-align: top;\n",
       "    }\n",
       "\n",
       "    .dataframe thead th {\n",
       "        text-align: right;\n",
       "    }\n",
       "</style>\n",
       "<table border=\"1\" class=\"dataframe\">\n",
       "  <thead>\n",
       "    <tr style=\"text-align: right;\">\n",
       "      <th></th>\n",
       "      <th>_id</th>\n",
       "      <th>author</th>\n",
       "      <th>date_published</th>\n",
       "      <th>title_review</th>\n",
       "      <th>note</th>\n",
       "      <th>review_href</th>\n",
       "      <th>title</th>\n",
       "      <th>url</th>\n",
       "      <th>treated</th>\n",
       "      <th>comment</th>\n",
       "    </tr>\n",
       "  </thead>\n",
       "  <tbody>\n",
       "    <tr>\n",
       "      <th>0</th>\n",
       "      <td>63c6726ea81f3e3016af9a56</td>\n",
       "      <td>Monsieur Guillaume</td>\n",
       "      <td>2021-01-27 11:06:44</td>\n",
       "      <td>Voyages sur les ailes des papillons</td>\n",
       "      <td>8.0</td>\n",
       "      <td>https://www.trictrac.net/avis/vraiment-bon-12514</td>\n",
       "      <td>Mariposas</td>\n",
       "      <td>https://www.trictrac.net/jeu-de-societe/maripo...</td>\n",
       "      <td>True</td>\n",
       "      <td>Lorsque le jeu est jeu, bon, réflexif, joli po...</td>\n",
       "    </tr>\n",
       "    <tr>\n",
       "      <th>1</th>\n",
       "      <td>63c6726ea81f3e3016af9a57</td>\n",
       "      <td>morlockbob</td>\n",
       "      <td>2020-10-18 10:04:21</td>\n",
       "      <td>le festival de Michoacan</td>\n",
       "      <td>7.0</td>\n",
       "      <td>https://www.trictrac.net/avis/le-festival-de-m...</td>\n",
       "      <td>Mariposas</td>\n",
       "      <td>https://www.trictrac.net/jeu-de-societe/maripo...</td>\n",
       "      <td>True</td>\n",
       "      <td>Comment continuer après un mega hit ? Simpleme...</td>\n",
       "    </tr>\n",
       "    <tr>\n",
       "      <th>2</th>\n",
       "      <td>63c6726ea81f3e3016af9a58</td>\n",
       "      <td>SwatSh</td>\n",
       "      <td>2021-02-01 08:35:08</td>\n",
       "      <td>Vivez la migration des monarques</td>\n",
       "      <td>7.0</td>\n",
       "      <td>https://www.trictrac.net/avis/vivez-la-migrati...</td>\n",
       "      <td>Mariposas</td>\n",
       "      <td>https://www.trictrac.net/jeu-de-societe/maripo...</td>\n",
       "      <td>True</td>\n",
       "      <td>Vin d'jeu: Avec Mariposas, Elizabeth Hargrave ...</td>\n",
       "    </tr>\n",
       "    <tr>\n",
       "      <th>4</th>\n",
       "      <td>63c6726ea81f3e3016af9a5a</td>\n",
       "      <td>prunelles</td>\n",
       "      <td>2021-05-24 12:43:18</td>\n",
       "      <td>Envolez-moi</td>\n",
       "      <td>9.0</td>\n",
       "      <td>https://www.trictrac.net/avis/envolez-moi</td>\n",
       "      <td>Mariposas</td>\n",
       "      <td>https://www.trictrac.net/jeu-de-societe/maripo...</td>\n",
       "      <td>True</td>\n",
       "      <td>Très joli bijou que ce jeu-là ! Le matériel, l...</td>\n",
       "    </tr>\n",
       "    <tr>\n",
       "      <th>5</th>\n",
       "      <td>63c6726ea81f3e3016af9a5b</td>\n",
       "      <td>BSI40</td>\n",
       "      <td>2022-09-23 17:16:27</td>\n",
       "      <td>Manque un peu de souffle</td>\n",
       "      <td>7.0</td>\n",
       "      <td>https://www.trictrac.net/avis/manque-un-peu-de...</td>\n",
       "      <td>Mariposas</td>\n",
       "      <td>https://www.trictrac.net/jeu-de-societe/maripo...</td>\n",
       "      <td>True</td>\n",
       "      <td>Mariposas est plutôt beau avec un grand platea...</td>\n",
       "    </tr>\n",
       "    <tr>\n",
       "      <th>...</th>\n",
       "      <td>...</td>\n",
       "      <td>...</td>\n",
       "      <td>...</td>\n",
       "      <td>...</td>\n",
       "      <td>...</td>\n",
       "      <td>...</td>\n",
       "      <td>...</td>\n",
       "      <td>...</td>\n",
       "      <td>...</td>\n",
       "      <td>...</td>\n",
       "    </tr>\n",
       "    <tr>\n",
       "      <th>246512</th>\n",
       "      <td>63c7f00aca188a9a85b03348</td>\n",
       "      <td>Abzaron</td>\n",
       "      <td>2008-06-12 12:28:50</td>\n",
       "      <td>Zombies pas clairs</td>\n",
       "      <td>6.0</td>\n",
       "      <td>https://www.trictrac.net/avis/zombies-pas-clairs</td>\n",
       "      <td>Zombie Town</td>\n",
       "      <td>https://www.trictrac.net/jeu-de-societe/zombie...</td>\n",
       "      <td>True</td>\n",
       "      <td>Un jeu attrayant : il semble facile à jouer ca...</td>\n",
       "    </tr>\n",
       "    <tr>\n",
       "      <th>246513</th>\n",
       "      <td>63c7f00aca188a9a85b03349</td>\n",
       "      <td>zorglub</td>\n",
       "      <td>2007-06-13 12:28:46</td>\n",
       "      <td>ZOMBIE 1 ou ZOMBIE DON (?)</td>\n",
       "      <td>6.0</td>\n",
       "      <td>https://www.trictrac.net/avis/zombie-1-ou-zomb...</td>\n",
       "      <td>Zombie Town</td>\n",
       "      <td>https://www.trictrac.net/jeu-de-societe/zombie...</td>\n",
       "      <td>True</td>\n",
       "      <td>Bon alors comment dire... on a joué a 6 et c'e...</td>\n",
       "    </tr>\n",
       "    <tr>\n",
       "      <th>246514</th>\n",
       "      <td>63c7f00aca188a9a85b0334a</td>\n",
       "      <td>Seb M.</td>\n",
       "      <td>2018-09-18 14:20:13</td>\n",
       "      <td>Essai pas complètement transformé...</td>\n",
       "      <td>6.2</td>\n",
       "      <td>https://www.trictrac.net/avis/essai-pas-comple...</td>\n",
       "      <td>Zombie Town</td>\n",
       "      <td>https://www.trictrac.net/jeu-de-societe/zombie...</td>\n",
       "      <td>True</td>\n",
       "      <td>Jeu indéniablement sympa, très visuel lorsque ...</td>\n",
       "    </tr>\n",
       "    <tr>\n",
       "      <th>246515</th>\n",
       "      <td>63c7f00aca188a9a85b0334b</td>\n",
       "      <td>sylla</td>\n",
       "      <td>2012-04-24 12:29:04</td>\n",
       "      <td>Le \"Can't Stop\" des campus américains</td>\n",
       "      <td>6.0</td>\n",
       "      <td>https://www.trictrac.net/avis/le-can-t-stop-de...</td>\n",
       "      <td>Cosmic Wimpout</td>\n",
       "      <td>https://www.trictrac.net/jeu-de-societe/cosmic...</td>\n",
       "      <td>True</td>\n",
       "      <td>Cosmic Wimpout est né dans les années 70 sur l...</td>\n",
       "    </tr>\n",
       "    <tr>\n",
       "      <th>246516</th>\n",
       "      <td>63c7f00bca188a9a85b0334c</td>\n",
       "      <td>Pifec</td>\n",
       "      <td>2011-05-13 12:29:00</td>\n",
       "      <td>Je sais que tu sais que je sais que tu sais qu...</td>\n",
       "      <td>8.0</td>\n",
       "      <td>https://www.trictrac.net/avis/je-sais-que-tu-s...</td>\n",
       "      <td>Liar's dice</td>\n",
       "      <td>https://www.trictrac.net/jeu-de-societe/liar-s...</td>\n",
       "      <td>True</td>\n",
       "      <td>Enorme jeu de bluff dans la ligné de Perudo av...</td>\n",
       "    </tr>\n",
       "  </tbody>\n",
       "</table>\n",
       "<p>186993 rows × 10 columns</p>\n",
       "</div>"
      ],
      "text/plain": [
       "                             _id              author       date_published  \\\n",
       "0       63c6726ea81f3e3016af9a56  Monsieur Guillaume  2021-01-27 11:06:44   \n",
       "1       63c6726ea81f3e3016af9a57          morlockbob  2020-10-18 10:04:21   \n",
       "2       63c6726ea81f3e3016af9a58              SwatSh  2021-02-01 08:35:08   \n",
       "4       63c6726ea81f3e3016af9a5a           prunelles  2021-05-24 12:43:18   \n",
       "5       63c6726ea81f3e3016af9a5b               BSI40  2022-09-23 17:16:27   \n",
       "...                          ...                 ...                  ...   \n",
       "246512  63c7f00aca188a9a85b03348             Abzaron  2008-06-12 12:28:50   \n",
       "246513  63c7f00aca188a9a85b03349             zorglub  2007-06-13 12:28:46   \n",
       "246514  63c7f00aca188a9a85b0334a              Seb M.  2018-09-18 14:20:13   \n",
       "246515  63c7f00aca188a9a85b0334b               sylla  2012-04-24 12:29:04   \n",
       "246516  63c7f00bca188a9a85b0334c               Pifec  2011-05-13 12:29:00   \n",
       "\n",
       "                                             title_review  note  \\\n",
       "0                     Voyages sur les ailes des papillons   8.0   \n",
       "1                                le festival de Michoacan   7.0   \n",
       "2                        Vivez la migration des monarques   7.0   \n",
       "4                                             Envolez-moi   9.0   \n",
       "5                                Manque un peu de souffle   7.0   \n",
       "...                                                   ...   ...   \n",
       "246512                                 Zombies pas clairs   6.0   \n",
       "246513                         ZOMBIE 1 ou ZOMBIE DON (?)   6.0   \n",
       "246514               Essai pas complètement transformé...   6.2   \n",
       "246515              Le \"Can't Stop\" des campus américains   6.0   \n",
       "246516  Je sais que tu sais que je sais que tu sais qu...   8.0   \n",
       "\n",
       "                                              review_href           title  \\\n",
       "0        https://www.trictrac.net/avis/vraiment-bon-12514       Mariposas   \n",
       "1       https://www.trictrac.net/avis/le-festival-de-m...       Mariposas   \n",
       "2       https://www.trictrac.net/avis/vivez-la-migrati...       Mariposas   \n",
       "4               https://www.trictrac.net/avis/envolez-moi       Mariposas   \n",
       "5       https://www.trictrac.net/avis/manque-un-peu-de...       Mariposas   \n",
       "...                                                   ...             ...   \n",
       "246512   https://www.trictrac.net/avis/zombies-pas-clairs     Zombie Town   \n",
       "246513  https://www.trictrac.net/avis/zombie-1-ou-zomb...     Zombie Town   \n",
       "246514  https://www.trictrac.net/avis/essai-pas-comple...     Zombie Town   \n",
       "246515  https://www.trictrac.net/avis/le-can-t-stop-de...  Cosmic Wimpout   \n",
       "246516  https://www.trictrac.net/avis/je-sais-que-tu-s...     Liar's dice   \n",
       "\n",
       "                                                      url  treated  \\\n",
       "0       https://www.trictrac.net/jeu-de-societe/maripo...     True   \n",
       "1       https://www.trictrac.net/jeu-de-societe/maripo...     True   \n",
       "2       https://www.trictrac.net/jeu-de-societe/maripo...     True   \n",
       "4       https://www.trictrac.net/jeu-de-societe/maripo...     True   \n",
       "5       https://www.trictrac.net/jeu-de-societe/maripo...     True   \n",
       "...                                                   ...      ...   \n",
       "246512  https://www.trictrac.net/jeu-de-societe/zombie...     True   \n",
       "246513  https://www.trictrac.net/jeu-de-societe/zombie...     True   \n",
       "246514  https://www.trictrac.net/jeu-de-societe/zombie...     True   \n",
       "246515  https://www.trictrac.net/jeu-de-societe/cosmic...     True   \n",
       "246516  https://www.trictrac.net/jeu-de-societe/liar-s...     True   \n",
       "\n",
       "                                                  comment  \n",
       "0       Lorsque le jeu est jeu, bon, réflexif, joli po...  \n",
       "1       Comment continuer après un mega hit ? Simpleme...  \n",
       "2       Vin d'jeu: Avec Mariposas, Elizabeth Hargrave ...  \n",
       "4       Très joli bijou que ce jeu-là ! Le matériel, l...  \n",
       "5       Mariposas est plutôt beau avec un grand platea...  \n",
       "...                                                   ...  \n",
       "246512  Un jeu attrayant : il semble facile à jouer ca...  \n",
       "246513  Bon alors comment dire... on a joué a 6 et c'e...  \n",
       "246514  Jeu indéniablement sympa, très visuel lorsque ...  \n",
       "246515  Cosmic Wimpout est né dans les années 70 sur l...  \n",
       "246516  Enorme jeu de bluff dans la ligné de Perudo av...  \n",
       "\n",
       "[186993 rows x 10 columns]"
      ]
     },
     "execution_count": 10,
     "metadata": {},
     "output_type": "execute_result"
    }
   ],
   "source": [
    "avis_df_treated"
   ]
  },
  {
   "cell_type": "code",
   "execution_count": 11,
   "id": "89b9898d",
   "metadata": {},
   "outputs": [],
   "source": [
    "X, y = avis_df_treated.drop(['note'], axis=1), avis_df_treated['note']"
   ]
  },
  {
   "cell_type": "markdown",
   "id": "6fc4536c",
   "metadata": {},
   "source": [
    "## Creation du train/test set"
   ]
  },
  {
   "cell_type": "code",
   "execution_count": 12,
   "id": "f3ae044b",
   "metadata": {},
   "outputs": [],
   "source": [
    "X_train, X_test, y_train, y_test = train_test_split(X, y, test_size=0.2, random_state=42)"
   ]
  },
  {
   "cell_type": "markdown",
   "id": "e76138a9",
   "metadata": {},
   "source": [
    "## exploration des données des notes"
   ]
  },
  {
   "cell_type": "code",
   "execution_count": 13,
   "id": "2ee853ef",
   "metadata": {},
   "outputs": [
    {
     "data": {
      "text/plain": [
       "<AxesSubplot: >"
      ]
     },
     "execution_count": 13,
     "metadata": {},
     "output_type": "execute_result"
    },
    {
     "data": {
      "image/png": "[encoded data removed]",
      "text/plain": [
       "<Figure size 640x480 with 1 Axes>"
      ]
     },
     "metadata": {},
     "output_type": "display_data"
    }
   ],
   "source": [
    "sns.boxplot(data=pd.DataFrame(y_train))"
   ]
  },
  {
   "cell_type": "code",
   "execution_count": 14,
   "id": "7c66e593",
   "metadata": {
    "scrolled": false
   },
   "outputs": [
    {
     "data": {
      "text/plain": [
       "<AxesSubplot: xlabel='note', ylabel='Count'>"
      ]
     },
     "execution_count": 14,
     "metadata": {},
     "output_type": "execute_result"
    },
    {
     "data": {
      "image/png": "[encoded data removed]",
      "text/plain": [
       "<Figure size 640x480 with 1 Axes>"
      ]
     },
     "metadata": {},
     "output_type": "display_data"
    }
   ],
   "source": [
    "sns.histplot(data=pd.DataFrame(y_train), x='note')"
   ]
  },
  {
   "cell_type": "markdown",
   "id": "3d553498",
   "metadata": {},
   "source": [
    "***1) La majorité des notes sont des entiers pairs*** <br>\n",
    "***2) La majorité des notes sont positives*** <br>\n",
    "***-> vigilance lors de la classification car il est beaucoup plus facile de prédire des notes positives et d'obtenir une accuracy elevee***<br>"
   ]
  },
  {
   "cell_type": "markdown",
   "id": "fa8230fa",
   "metadata": {},
   "source": [
    "## ONE-HOT ENCODING"
   ]
  },
  {
   "cell_type": "markdown",
   "id": "1c448ed7",
   "metadata": {},
   "source": [
    "## Data processing"
   ]
  },
  {
   "cell_type": "code",
   "execution_count": 18,
   "id": "a4fa5f65",
   "metadata": {},
   "outputs": [],
   "source": [
    "union_string = ' '.join(X_train['comment'])"
   ]
  },
  {
   "cell_type": "code",
   "execution_count": 19,
   "id": "9cabc198",
   "metadata": {},
   "outputs": [
    {
     "data": {
      "text/plain": [
       "99712889"
      ]
     },
     "execution_count": 19,
     "metadata": {},
     "output_type": "execute_result"
    }
   ],
   "source": [
    "len(union_string)"
   ]
  },
  {
   "cell_type": "code",
   "execution_count": 54,
   "id": "eb48e225",
   "metadata": {
    "scrolled": true
   },
   "outputs": [
    {
     "name": "stderr",
     "output_type": "stream",
     "text": [
      "[nltk_data] Downloading package stopwords to\n",
      "[nltk_data]     /Users/clementmarie/nltk_data...\n",
      "[nltk_data]   Unzipping corpora/stopwords.zip.\n"
     ]
    },
    {
     "data": {
      "text/plain": [
       "True"
      ]
     },
     "execution_count": 54,
     "metadata": {},
     "output_type": "execute_result"
    }
   ],
   "source": [
    "#nltk.download('punkt')\n",
    "#nltk.download('stopwords')"
   ]
  },
  {
   "cell_type": "code",
   "execution_count": 20,
   "id": "b9a80610",
   "metadata": {},
   "outputs": [],
   "source": [
    "from nltk import sent_tokenize\n",
    "from nltk import word_tokenize\n",
    "from nltk.corpus import stopwords\n",
    "from nltk.stem.porter import PorterStemmer\n",
    "from nltk.stem.snowball import SnowballStemmer"
   ]
  },
  {
   "cell_type": "code",
   "execution_count": 21,
   "id": "27786ede",
   "metadata": {},
   "outputs": [],
   "source": [
    "stopwords = set(stopwords.words('french'))\n",
    "stemmer = SnowballStemmer(\"french\")\n",
    "\n",
    "words_tokenized = word_tokenize(union_string)\n",
    "lower_words = [w.lower() for w in words_tokenized]\n",
    "\n",
    "table = str.maketrans(string.punctuation, ' '*len(string.punctuation))\n",
    "stripped = [w.translate(table) for w in lower_words]\n",
    "\n",
    "alpha_words = [word for word in stripped if word.isalpha()]\n",
    "\n",
    "words = [w for w in alpha_words if not w in stopwords]\n",
    "stemmed_words = [stemmer.stem(w) for w in words]\n",
    "set_words = [unidecode(w) for w in stemmed_words]"
   ]
  },
  {
   "cell_type": "code",
   "execution_count": 22,
   "id": "6cc8b1db",
   "metadata": {},
   "outputs": [],
   "source": [
    "def clean_sentence(sentence, stopwords, stemmer):\n",
    "    words_tokenized = word_tokenize(sentence)\n",
    "    lower_words = [w.lower() for w in words_tokenized]\n",
    "\n",
    "    table = str.maketrans(string.punctuation, ' '*len(string.punctuation))\n",
    "    stripped = [w.translate(table) for w in lower_words]\n",
    "\n",
    "    alpha_words = [word for word in stripped if word.isalpha()]\n",
    "\n",
    "    words = [w for w in alpha_words if not w in stopwords]\n",
    "    stemmed_words = [stemmer.stem(w) for w in words]\n",
    "    set_words = [unidecode(w) for w in stemmed_words]\n",
    "    return set_words"
   ]
  },
  {
   "cell_type": "code",
   "execution_count": 26,
   "id": "59e2b576",
   "metadata": {},
   "outputs": [],
   "source": [
    "def one_hot_encode(set_words, sentence):\n",
    "    one_hot_encoded = [0]*len(set_words)\n",
    "    words = clean_sentence(sentence, stopwords, stemmer)\n",
    "    \n",
    "    for word in words:\n",
    "        if word in set_words:\n",
    "            one_hot_encoded[set_words.index(word)] = 1\n",
    "    return np.array(one_hot_encoded)"
   ]
  },
  {
   "cell_type": "code",
   "execution_count": 29,
   "id": "9f998349",
   "metadata": {},
   "outputs": [],
   "source": [
    "one_hot_encoded = [one_hot_encode(set_words, sentence) for sentence in X_train['comment'].iloc[:100]]"
   ]
  },
  {
   "cell_type": "code",
   "execution_count": 34,
   "id": "13ce11fe",
   "metadata": {},
   "outputs": [],
   "source": [
    "one_hot_encoded = X_train['comment'].iloc[:100].apply(lambda x: one_hot_encode(set_words, x))"
   ]
  },
  {
   "cell_type": "code",
   "execution_count": 35,
   "id": "be439103",
   "metadata": {},
   "outputs": [
    {
     "data": {
      "text/plain": [
       "13795     [1, 1, 1, 1, 1, 1, 1, 1, 1, 1, 1, 1, 1, 1, 1, ...\n",
       "159746    [0, 0, 0, 1, 0, 0, 0, 0, 0, 0, 0, 0, 0, 0, 0, ...\n",
       "222857    [0, 0, 0, 0, 0, 0, 0, 0, 0, 0, 0, 0, 0, 0, 0, ...\n",
       "62251     [0, 0, 0, 1, 0, 0, 0, 0, 0, 0, 0, 0, 0, 1, 0, ...\n",
       "187858    [0, 0, 0, 1, 0, 0, 0, 1, 0, 0, 0, 0, 0, 1, 1, ...\n",
       "                                ...                        \n",
       "169449    [0, 1, 0, 1, 0, 0, 0, 1, 0, 0, 0, 0, 0, 0, 0, ...\n",
       "121733    [1, 0, 0, 1, 0, 0, 0, 1, 0, 0, 0, 0, 0, 1, 0, ...\n",
       "213509    [0, 0, 0, 1, 0, 0, 0, 0, 0, 0, 0, 0, 0, 0, 0, ...\n",
       "10608     [0, 0, 0, 0, 0, 0, 0, 0, 0, 0, 0, 0, 0, 0, 0, ...\n",
       "183006    [0, 0, 0, 1, 0, 0, 0, 1, 0, 0, 0, 0, 0, 1, 0, ...\n",
       "Name: comment, Length: 100, dtype: object"
      ]
     },
     "execution_count": 35,
     "metadata": {},
     "output_type": "execute_result"
    }
   ],
   "source": [
    "one_hot_encoded"
   ]
  },
  {
   "cell_type": "markdown",
   "id": "6cf18a59",
   "metadata": {},
   "source": [
    "### Inconvenients:\n",
    "1) Le vocabulaire est enorme donc la taille du vecteur sera enorme\n",
    "2) On perd l'ordre dans lequel les mots apparaissent = perte de contexte\n",
    "3) information sur la frequence d'apparition des mots est egalement perdue"
   ]
  },
  {
   "cell_type": "markdown",
   "id": "a21096f8",
   "metadata": {},
   "source": [
    "### complexite?\n"
   ]
  }
 ],
 "metadata": {
  "kernelspec": {
   "display_name": "Python 3 (ipykernel)",
   "language": "python",
   "name": "python3"
  },
  "language_info": {
   "codemirror_mode": {
    "name": "ipython",
    "version": 3
   },
   "file_extension": ".py",
   "mimetype": "text/x-python",
   "name": "python",
   "nbconvert_exporter": "python",
   "pygments_lexer": "ipython3",
   "version": "3.10.6"
  }
 },
 "nbformat": 4,
 "nbformat_minor": 5
}
