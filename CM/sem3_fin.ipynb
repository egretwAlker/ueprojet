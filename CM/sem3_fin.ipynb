{
 "cells": [
  {
   "cell_type": "code",
   "execution_count": null,
   "id": "391a71f1",
   "metadata": {},
   "outputs": [],
   "source": [
    "import pandas as pd \n",
    "import gc\n",
    "import dask\n",
    "import dask.dataframe as dd\n",
    "from tqdm import tqdm\n",
    "tqdm.pandas()\n",
    "import matplotlib.pyplot as plt\n",
    "import seaborn as sns\n",
    "from sklearn.feature_extraction.text import CountVectorizer\n",
    "from collections import defaultdict\n",
    "from sklearn.preprocessing import LabelEncoder"
   ]
  },
  {
   "cell_type": "code",
   "execution_count": null,
   "id": "8bf9f0e6",
   "metadata": {},
   "outputs": [],
   "source": [
    "from modules import preprocessing"
   ]
  },
  {
   "cell_type": "markdown",
   "id": "e129b141",
   "metadata": {},
   "source": [
    "## Preprocessing"
   ]
  },
  {
   "cell_type": "code",
   "execution_count": null,
   "id": "507871d5",
   "metadata": {},
   "outputs": [],
   "source": [
    "avis_df = pd.read_csv('data/datasets/avis.csv')\n",
    "avis_df.drop(['Unnamed: 0'], inplace=True, axis=1)\n",
    "avis_df_treated = avis_df.dropna(inplace=False)\n",
    "X, y = avis_df_treated.drop(['note'], axis=1), avis_df_treated['note']\n",
    "X['comment'] = preprocessing.preprocess_libraries(X['comment'] ,\"french\", remove_duplicates=False, remove_stopwords = True)\n",
    "most_common = preprocessing.show_popular_words(X['comment'], 20)"
   ]
  },
  {
   "cell_type": "markdown",
   "id": "61b48181",
   "metadata": {},
   "source": [
    "## Naive Bayes Classifier"
   ]
  },
  {
   "cell_type": "code",
   "execution_count": null,
   "id": "1dcc6a6a",
   "metadata": {},
   "outputs": [],
   "source": [
    "df_stopwords = pd.read_csv('data/files/data_preprocess_avec_stopwords.csv')\n",
    "df_wo_stopwords = pd.read_csv('data/files/data_preprocess_sans_stopwords.csv')\n",
    "\n",
    "df_stopwords = df_stopwords.dropna(inplace=False)\n",
    "df_wo_stopwords = df_wo_stopwords.dropna(inplace=False)\n",
    "\n",
    "df_stopwords = df_stopwords.reset_index(drop=True)\n",
    "df_wo_stopwords = df_wo_stopwords.reset_index(drop=True)"
   ]
  },
  {
   "cell_type": "code",
   "execution_count": null,
   "id": "cd7656ca",
   "metadata": {},
   "outputs": [],
   "source": [
    "df_stopwords['positive'] = df_stopwords['note'] > 5.0\n",
    "df_wo_stopwords['positive'] = df_wo_stopwords['note'] > 5.0"
   ]
  },
  {
   "cell_type": "code",
   "execution_count": null,
   "id": "5a5438e8",
   "metadata": {},
   "outputs": [],
   "source": [
    "from sklearn.model_selection import train_test_split\n",
    "X_train, X_test, y_train, y_test = train_test_split(df_wo_stopwords['comment'], df_wo_stopwords['positive'])"
   ]
  },
  {
   "cell_type": "code",
   "execution_count": null,
   "id": "420186c3",
   "metadata": {},
   "outputs": [],
   "source": [
    "X_train = X_train.reset_index(drop=True)\n",
    "y_train = y_train.reset_index(drop=True)\n",
    "X_test = X_test.reset_index(drop=True)\n",
    "y_test = y_test.reset_index(drop=True)"
   ]
  },
  {
   "cell_type": "code",
   "execution_count": null,
   "id": "3f1cf345",
   "metadata": {},
   "outputs": [],
   "source": [
    "p_pos, p_neg, parameters_pos, parameters_neg = class.naive_bayes_train(\n",
    "    X_train, y_train, parameters_pos, parameters_neg)"
   ]
  },
  {
   "cell_type": "code",
   "execution_count": null,
   "id": "468a6388",
   "metadata": {},
   "outputs": [],
   "source": [
    "results = pd.DataFrame()\n",
    "results['predicted'] = X_train.apply(lambda x: class.classify_review(\n",
    "    x, p_pos, p_neg, parameters_pos, parameters_neg)"
   ]
  }
 ],
 "metadata": {
  "kernelspec": {
   "display_name": "Python 3 (ipykernel)",
   "language": "python",
   "name": "python3"
  },
  "language_info": {
   "codemirror_mode": {
    "name": "ipython",
    "version": 3
   },
   "file_extension": ".py",
   "mimetype": "text/x-python",
   "name": "python",
   "nbconvert_exporter": "python",
   "pygments_lexer": "ipython3",
   "version": "3.10.6"
  }
 },
 "nbformat": 4,
 "nbformat_minor": 5
}
