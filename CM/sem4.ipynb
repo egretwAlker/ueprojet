{
 "cells": [
  {
   "cell_type": "code",
   "execution_count": 1,
   "id": "c50bab1a",
   "metadata": {},
   "outputs": [
    {
     "name": "stdout",
     "output_type": "stream",
     "text": [
      "/Users/clementmarie/ML/SORBONNE/PROJET_IN013\n"
     ]
    }
   ],
   "source": [
    "cd .."
   ]
  },
  {
   "cell_type": "code",
   "execution_count": 27,
   "id": "01fd51ef",
   "metadata": {},
   "outputs": [],
   "source": [
    "import pandas as pd\n",
    "import numpy as np\n",
    "import matplotlib.pyplot as plt\n",
    "from tqdm import tqdm"
   ]
  },
  {
   "cell_type": "code",
   "execution_count": 14,
   "id": "be93f12b",
   "metadata": {},
   "outputs": [],
   "source": [
    "df_stopwords = pd.read_csv('data/files/data_preprocess_avec_stopwords.csv')\n",
    "df_wo_stopwords = pd.read_csv('data/files/data_preprocess_sans_stopwords.csv')\n",
    "\n",
    "df_stopwords = df_stopwords.dropna(inplace=False)\n",
    "df_wo_stopwords = df_wo_stopwords.dropna(inplace=False)\n",
    "\n",
    "df_stopwords = df_stopwords.reset_index(drop=True)\n",
    "df_wo_stopwords = df_wo_stopwords.reset_index(drop=True)"
   ]
  },
  {
   "cell_type": "code",
   "execution_count": 15,
   "id": "765d5083",
   "metadata": {},
   "outputs": [],
   "source": [
    "df_stopwords['positive'] = df_stopwords['note'] > 5.0\n",
    "df_wo_stopwords['positive'] = df_wo_stopwords['note'] > 5.0"
   ]
  },
  {
   "cell_type": "code",
   "execution_count": 16,
   "id": "4d8b37af",
   "metadata": {},
   "outputs": [],
   "source": [
    "from sklearn.model_selection import train_test_split\n",
    "X_train, X_test, y_train, y_test = train_test_split(df_wo_stopwords['comment'], df_wo_stopwords['positive'])"
   ]
  },
  {
   "cell_type": "code",
   "execution_count": 17,
   "id": "6941a3a1",
   "metadata": {},
   "outputs": [],
   "source": [
    "X_train = X_train.reset_index(drop=True)\n",
    "y_train = y_train.reset_index(drop=True)\n",
    "X_test = X_test.reset_index(drop=True)\n",
    "y_test = y_test.reset_index(drop=True)"
   ]
  },
  {
   "cell_type": "code",
   "execution_count": 18,
   "id": "f4e514ed",
   "metadata": {},
   "outputs": [
    {
     "data": {
      "text/plain": [
       "0         product coherent temp public sendort tout regl...\n",
       "1         jeu mem extraordinair mauv combatt heros diffe...\n",
       "2         revoi critiqu apre plusieur partiesed temp ape...\n",
       "3         a lannonc sort nouveau jeu createur loup garou...\n",
       "4         chouet matos tre agreabl manipulertr bien bala...\n",
       "                                ...                        \n",
       "140221    materiel superb tuil petit montagn tout mim ca...\n",
       "140222    tout comm film pourrion avoir certain reticent...\n",
       "140223    system soi nest deplais sil nav gros defaut ci...\n",
       "140224    crab cassetet extrem facil bien jol collection...\n",
       "140225    beau pet jeu them tre apprec pet moussaillon d...\n",
       "Name: comment, Length: 140226, dtype: object"
      ]
     },
     "execution_count": 18,
     "metadata": {},
     "output_type": "execute_result"
    }
   ],
   "source": [
    "X_train"
   ]
  },
  {
   "cell_type": "markdown",
   "id": "8c8db766",
   "metadata": {},
   "source": [
    "## Naive bayes"
   ]
  },
  {
   "cell_type": "code",
   "execution_count": 19,
   "id": "9f22dd2b",
   "metadata": {},
   "outputs": [],
   "source": [
    "from sklearn.feature_extraction.text import CountVectorizer\n",
    "from sklearn.metrics import accuracy_score"
   ]
  },
  {
   "cell_type": "code",
   "execution_count": 20,
   "id": "09408f6e",
   "metadata": {},
   "outputs": [],
   "source": [
    "cv = CountVectorizer()\n",
    "X_train_vect = cv.fit_transform(X_train)\n",
    "y_train_vect = y_train"
   ]
  },
  {
   "cell_type": "code",
   "execution_count": 21,
   "id": "fe579f45",
   "metadata": {},
   "outputs": [],
   "source": [
    "from sklearn.naive_bayes import MultinomialNB"
   ]
  },
  {
   "cell_type": "code",
   "execution_count": 22,
   "id": "9ee8fe92",
   "metadata": {},
   "outputs": [],
   "source": [
    "nb = MultinomialNB()"
   ]
  },
  {
   "cell_type": "code",
   "execution_count": 28,
   "id": "52c9a23e",
   "metadata": {},
   "outputs": [
    {
     "data": {
      "text/html": [
       "<style>#sk-container-id-2 {color: black;background-color: white;}#sk-container-id-2 pre{padding: 0;}#sk-container-id-2 div.sk-toggleable {background-color: white;}#sk-container-id-2 label.sk-toggleable__label {cursor: pointer;display: block;width: 100%;margin-bottom: 0;padding: 0.3em;box-sizing: border-box;text-align: center;}#sk-container-id-2 label.sk-toggleable__label-arrow:before {content: \"▸\";float: left;margin-right: 0.25em;color: #696969;}#sk-container-id-2 label.sk-toggleable__label-arrow:hover:before {color: black;}#sk-container-id-2 div.sk-estimator:hover label.sk-toggleable__label-arrow:before {color: black;}#sk-container-id-2 div.sk-toggleable__content {max-height: 0;max-width: 0;overflow: hidden;text-align: left;background-color: #f0f8ff;}#sk-container-id-2 div.sk-toggleable__content pre {margin: 0.2em;color: black;border-radius: 0.25em;background-color: #f0f8ff;}#sk-container-id-2 input.sk-toggleable__control:checked~div.sk-toggleable__content {max-height: 200px;max-width: 100%;overflow: auto;}#sk-container-id-2 input.sk-toggleable__control:checked~label.sk-toggleable__label-arrow:before {content: \"▾\";}#sk-container-id-2 div.sk-estimator input.sk-toggleable__control:checked~label.sk-toggleable__label {background-color: #d4ebff;}#sk-container-id-2 div.sk-label input.sk-toggleable__control:checked~label.sk-toggleable__label {background-color: #d4ebff;}#sk-container-id-2 input.sk-hidden--visually {border: 0;clip: rect(1px 1px 1px 1px);clip: rect(1px, 1px, 1px, 1px);height: 1px;margin: -1px;overflow: hidden;padding: 0;position: absolute;width: 1px;}#sk-container-id-2 div.sk-estimator {font-family: monospace;background-color: #f0f8ff;border: 1px dotted black;border-radius: 0.25em;box-sizing: border-box;margin-bottom: 0.5em;}#sk-container-id-2 div.sk-estimator:hover {background-color: #d4ebff;}#sk-container-id-2 div.sk-parallel-item::after {content: \"\";width: 100%;border-bottom: 1px solid gray;flex-grow: 1;}#sk-container-id-2 div.sk-label:hover label.sk-toggleable__label {background-color: #d4ebff;}#sk-container-id-2 div.sk-serial::before {content: \"\";position: absolute;border-left: 1px solid gray;box-sizing: border-box;top: 0;bottom: 0;left: 50%;z-index: 0;}#sk-container-id-2 div.sk-serial {display: flex;flex-direction: column;align-items: center;background-color: white;padding-right: 0.2em;padding-left: 0.2em;position: relative;}#sk-container-id-2 div.sk-item {position: relative;z-index: 1;}#sk-container-id-2 div.sk-parallel {display: flex;align-items: stretch;justify-content: center;background-color: white;position: relative;}#sk-container-id-2 div.sk-item::before, #sk-container-id-2 div.sk-parallel-item::before {content: \"\";position: absolute;border-left: 1px solid gray;box-sizing: border-box;top: 0;bottom: 0;left: 50%;z-index: -1;}#sk-container-id-2 div.sk-parallel-item {display: flex;flex-direction: column;z-index: 1;position: relative;background-color: white;}#sk-container-id-2 div.sk-parallel-item:first-child::after {align-self: flex-end;width: 50%;}#sk-container-id-2 div.sk-parallel-item:last-child::after {align-self: flex-start;width: 50%;}#sk-container-id-2 div.sk-parallel-item:only-child::after {width: 0;}#sk-container-id-2 div.sk-dashed-wrapped {border: 1px dashed gray;margin: 0 0.4em 0.5em 0.4em;box-sizing: border-box;padding-bottom: 0.4em;background-color: white;}#sk-container-id-2 div.sk-label label {font-family: monospace;font-weight: bold;display: inline-block;line-height: 1.2em;}#sk-container-id-2 div.sk-label-container {text-align: center;}#sk-container-id-2 div.sk-container {/* jupyter's `normalize.less` sets `[hidden] { display: none; }` but bootstrap.min.css set `[hidden] { display: none !important; }` so we also need the `!important` here to be able to override the default hidden behavior on the sphinx rendered scikit-learn.org. See: https://github.com/scikit-learn/scikit-learn/issues/21755 */display: inline-block !important;position: relative;}#sk-container-id-2 div.sk-text-repr-fallback {display: none;}</style><div id=\"sk-container-id-2\" class=\"sk-top-container\"><div class=\"sk-text-repr-fallback\"><pre>MultinomialNB()</pre><b>In a Jupyter environment, please rerun this cell to show the HTML representation or trust the notebook. <br />On GitHub, the HTML representation is unable to render, please try loading this page with nbviewer.org.</b></div><div class=\"sk-container\" hidden><div class=\"sk-item\"><div class=\"sk-estimator sk-toggleable\"><input class=\"sk-toggleable__control sk-hidden--visually\" id=\"sk-estimator-id-2\" type=\"checkbox\" checked><label for=\"sk-estimator-id-2\" class=\"sk-toggleable__label sk-toggleable__label-arrow\">MultinomialNB</label><div class=\"sk-toggleable__content\"><pre>MultinomialNB()</pre></div></div></div></div></div>"
      ],
      "text/plain": [
       "MultinomialNB()"
      ]
     },
     "execution_count": 28,
     "metadata": {},
     "output_type": "execute_result"
    }
   ],
   "source": [
    "nb.fit(X_train_vect, y_train_vect)"
   ]
  },
  {
   "cell_type": "code",
   "execution_count": 31,
   "id": "edd7db5f",
   "metadata": {},
   "outputs": [],
   "source": [
    "X_test_vect = cv.transform(X_test)\n",
    "y_test_vect = y_test"
   ]
  },
  {
   "cell_type": "code",
   "execution_count": 55,
   "id": "245ae4f1",
   "metadata": {},
   "outputs": [
    {
     "data": {
      "text/plain": [
       "0.8819477129776219"
      ]
     },
     "execution_count": 55,
     "metadata": {},
     "output_type": "execute_result"
    }
   ],
   "source": [
    "y_test_predict = nb.predict(X_test_vect)\n",
    "accuracy_score(y_test, y_test_predict)"
   ]
  },
  {
   "cell_type": "markdown",
   "id": "a11c184f",
   "metadata": {},
   "source": [
    "## Cross val"
   ]
  },
  {
   "cell_type": "code",
   "execution_count": 33,
   "id": "6537864d",
   "metadata": {},
   "outputs": [],
   "source": [
    "from sklearn.model_selection import cross_val_score"
   ]
  },
  {
   "cell_type": "code",
   "execution_count": 36,
   "id": "6bc47efa",
   "metadata": {},
   "outputs": [],
   "source": [
    "scores = cross_val_score(nb, X_train_vect, y_train, cv=10)"
   ]
  },
  {
   "cell_type": "code",
   "execution_count": 38,
   "id": "c624d2a0",
   "metadata": {},
   "outputs": [
    {
     "data": {
      "text/plain": [
       "0.8686619531966215"
      ]
     },
     "execution_count": 38,
     "metadata": {},
     "output_type": "execute_result"
    }
   ],
   "source": [
    "scores.mean()"
   ]
  },
  {
   "cell_type": "markdown",
   "id": "b19d7542",
   "metadata": {},
   "source": [
    "## Learning curves"
   ]
  },
  {
   "cell_type": "code",
   "execution_count": 40,
   "id": "3c046ef8",
   "metadata": {},
   "outputs": [],
   "source": [
    "nb_curves = MultinomialNB()"
   ]
  },
  {
   "cell_type": "code",
   "execution_count": 74,
   "id": "f6bd1413",
   "metadata": {},
   "outputs": [],
   "source": [
    "def plot_learning_curves(model, X_train, X_test, y_train, y_test):\n",
    "    train_errors, val_errors = [], []\n",
    "    for m in range(1, X_train.shape[0], 1000):\n",
    "        model.fit(X_train[:m], y_train[:m])\n",
    "        y_train_predict = model.predict(X_train[:m])\n",
    "        y_test_predict = model.predict(X_test)\n",
    "        train_errors.append(accuracy_score(y_train[:m], y_train_predict))\n",
    "        val_errors.append(accuracy_score(y_test, y_test_predict))\n",
    "        \n",
    "    plt.plot(np.sqrt(train_errors[5:]), 'r-+', label='train')\n",
    "    plt.plot(np.sqrt(val_errors[5:]), 'b-', label='val')\n",
    "    plt.xlabel(\"Training set size\", fontsize=12)\n",
    "    plt.ylabel(\"accuracy\", fontsize=12)\n",
    "    plt.legend()"
   ]
  },
  {
   "cell_type": "code",
   "execution_count": 75,
   "id": "055c33be",
   "metadata": {},
   "outputs": [
    {
     "data": {
      "image/png": "[encoded data removed]",
      "text/plain": [
       "<Figure size 640x480 with 1 Axes>"
      ]
     },
     "metadata": {},
     "output_type": "display_data"
    }
   ],
   "source": [
    "plot_learning_curves(nb_curves, X_train_vect, X_test_vect, y_train, y_test)"
   ]
  },
  {
   "cell_type": "markdown",
   "id": "a2b59ad0",
   "metadata": {},
   "source": [
    "#### the training and testing accuracy increase with the training size so adding more data is relevant. starting from 140k rows, the training accuracy starts to plateau so it's probably the best fit we can do. "
   ]
  },
  {
   "cell_type": "markdown",
   "id": "5fc51049",
   "metadata": {},
   "source": [
    "## IGNORER ->"
   ]
  },
  {
   "cell_type": "code",
   "execution_count": 28,
   "id": "7c960736",
   "metadata": {},
   "outputs": [],
   "source": [
    "\n",
    "def naive_bayes_train(X, y): \n",
    "    \n",
    "    cv = CountVectorizer(max_features=30000)\n",
    "    X_train_array = cv.fit_transform(X)\n",
    "    X_train_array = X_train_array.toarray()\n",
    "    \n",
    "    vocab = cv.get_feature_names_out().tolist()\n",
    "    parameters_hate = {word:0 for word in vocab}\n",
    "    parameters_nonhate = {word:0 for word in vocab}\n",
    "    \n",
    "    p_pos, p_neg = y_train.value_counts(normalize=True)[0], y_train.value_counts(normalize=True)[1]\n",
    "    alpha = 1\n",
    "    \n",
    "    n_pos = X_train.loc[y_train == 1].apply(len).sum()\n",
    "    n_neg = X_train.loc[y_train == 0].apply(len).sum()\n",
    "    n_vocab = len(vocab)\n",
    "    \n",
    "    parameters_pos = {word:0 for word in vocab}\n",
    "    parameters_neg = {word:0 for word in vocab}\n",
    "    \n",
    "    for word in tqdm(vocab):\n",
    "        n_word_given_pos = vocab_counts.loc[y_train == True, word].sum()\n",
    "        n_word_given_neg = vocab_counts.loc[y_train == False, word].sum()\n",
    "        \n",
    "        parameters_pos[word] = (n_word_given_pos + alpha) / (n_pos + alpha * n_vocab)\n",
    "        parameters_neg[word] = (n_word_given_neg + alpha) / (n_neg + alpha * n_vocab)\n",
    "        \n",
    "    return p_pos, p_neg, parameters_pos, parameters_neg"
   ]
  },
  {
   "cell_type": "code",
   "execution_count": 29,
   "id": "0fd3954c",
   "metadata": {},
   "outputs": [
    {
     "name": "stderr",
     "output_type": "stream",
     "text": [
      "  0%|                                                  | 0/8841 [00:00<?, ?it/s]\n"
     ]
    },
    {
     "ename": "NameError",
     "evalue": "name 'vocab_counts' is not defined",
     "output_type": "error",
     "traceback": [
      "\u001b[0;31m---------------------------------------------------------------------------\u001b[0m",
      "\u001b[0;31mNameError\u001b[0m                                 Traceback (most recent call last)",
      "Cell \u001b[0;32mIn[29], line 1\u001b[0m\n\u001b[0;32m----> 1\u001b[0m \u001b[43mnaive_bayes_train\u001b[49m\u001b[43m(\u001b[49m\u001b[43mX_train\u001b[49m\u001b[43m[\u001b[49m\u001b[43m:\u001b[49m\u001b[38;5;241;43m1000\u001b[39;49m\u001b[43m]\u001b[49m\u001b[43m,\u001b[49m\u001b[43m \u001b[49m\u001b[43my_train\u001b[49m\u001b[43m[\u001b[49m\u001b[43m:\u001b[49m\u001b[38;5;241;43m1000\u001b[39;49m\u001b[43m]\u001b[49m\u001b[43m)\u001b[49m\n",
      "Cell \u001b[0;32mIn[28], line 22\u001b[0m, in \u001b[0;36mnaive_bayes_train\u001b[0;34m(X, y)\u001b[0m\n\u001b[1;32m     19\u001b[0m parameters_neg \u001b[38;5;241m=\u001b[39m {word:\u001b[38;5;241m0\u001b[39m \u001b[38;5;28;01mfor\u001b[39;00m word \u001b[38;5;129;01min\u001b[39;00m vocab}\n\u001b[1;32m     21\u001b[0m \u001b[38;5;28;01mfor\u001b[39;00m word \u001b[38;5;129;01min\u001b[39;00m tqdm(vocab):\n\u001b[0;32m---> 22\u001b[0m     n_word_given_pos \u001b[38;5;241m=\u001b[39m \u001b[43mvocab_counts\u001b[49m\u001b[38;5;241m.\u001b[39mloc[y_train \u001b[38;5;241m==\u001b[39m \u001b[38;5;28;01mTrue\u001b[39;00m, word]\u001b[38;5;241m.\u001b[39msum()\n\u001b[1;32m     23\u001b[0m     n_word_given_neg \u001b[38;5;241m=\u001b[39m vocab_counts\u001b[38;5;241m.\u001b[39mloc[y_train \u001b[38;5;241m==\u001b[39m \u001b[38;5;28;01mFalse\u001b[39;00m, word]\u001b[38;5;241m.\u001b[39msum()\n\u001b[1;32m     25\u001b[0m     parameters_pos[word] \u001b[38;5;241m=\u001b[39m (n_word_given_pos \u001b[38;5;241m+\u001b[39m alpha) \u001b[38;5;241m/\u001b[39m (n_pos \u001b[38;5;241m+\u001b[39m alpha \u001b[38;5;241m*\u001b[39m n_vocab)\n",
      "\u001b[0;31mNameError\u001b[0m: name 'vocab_counts' is not defined"
     ]
    }
   ],
   "source": [
    "naive_bayes_train(X_train[:1000], y_train[:1000])"
   ]
  },
  {
   "cell_type": "code",
   "execution_count": null,
   "id": "7c79ad00",
   "metadata": {},
   "outputs": [],
   "source": []
  }
 ],
 "metadata": {
  "kernelspec": {
   "display_name": "Python 3 (ipykernel)",
   "language": "python",
   "name": "python3"
  },
  "language_info": {
   "codemirror_mode": {
    "name": "ipython",
    "version": 3
   },
   "file_extension": ".py",
   "mimetype": "text/x-python",
   "name": "python",
   "nbconvert_exporter": "python",
   "pygments_lexer": "ipython3",
   "version": "3.10.6"
  }
 },
 "nbformat": 4,
 "nbformat_minor": 5
}
