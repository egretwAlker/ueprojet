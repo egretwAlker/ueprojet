{
 "cells": [
  {
   "attachments": {},
   "cell_type": "markdown",
   "metadata": {},
   "source": [
    "TODO:\n",
    "\n",
    "- If a word is used as negation, it adds negative contribution\n",
    "- Maybe saying a comment is postive or negative, one thing is easier than another"
   ]
  },
  {
   "cell_type": "code",
   "execution_count": 1,
   "metadata": {},
   "outputs": [],
   "source": [
    "%load_ext autoreload\n",
    "%autoreload 2\n",
    "from bugless import *\n",
    "import matplotlib.pyplot as plt\n",
    "import matplotlib.ticker as ticker\n",
    "import random"
   ]
  },
  {
   "cell_type": "code",
   "execution_count": 2,
   "metadata": {},
   "outputs": [
    {
     "name": "stdout",
     "output_type": "stream",
     "text": [
      "186993\n"
     ]
    }
   ],
   "source": [
    "random.seed(42)\n",
    "pairs = note_comment_pairs(\"avis.json\")\n",
    "random.shuffle(pairs)\n",
    "print(len(pairs))"
   ]
  },
  {
   "cell_type": "code",
   "execution_count": 3,
   "metadata": {},
   "outputs": [
    {
     "name": "stdout",
     "output_type": "stream",
     "text": [
      "8.0 ['peur', 'extens', 'éssouflent', 'term', 'bien', 'non', 'outr', 'nouvel', 'cart', 'nouvel', 'regl', 'permettent', 'bon', 'ré', 'équilibrag', 'jeu', 'tres', 'bon', 'extens']\n",
      "10.0 ['excellent', 'jeu', 'fois', 'simpl', 'subtil', 'fin', 'malin', 'attend', 'connect']\n",
      "6.0 ['voil', 'version', 'plus', 'ardu', 'er', 'icic', 'reflech', 'plus', 'mouv', 'fair', 'objet', 'recuper', 'tout', 'prix', 'comment', 'empech', 'adversair', 'arriv', 'avant', 'plus', 'baguet', 'permettent', 'fair', 'coup', 'doubl', 'souvent', 'necessair', 'rest', 'cepend', 'tre', 'abord', 'pourr', 'mel', 'grand', 'plus', 'jeun', 'autour', 'tabl']\n",
      "6.0 ['grand', 'classiqu', 'dis', 'pontif', 'jeu', 'réflexion', 'cuir', 'chevelu', 'souffr', 'encor', 'séquel', 'produit', 'long', 'moment', 'grattag', 'crân', 'bon', 'exercic', 'logiqu', 'bienqu', 'facteur', 'chanc', 'vien', 'souvent', 'simplifi', 'processus', 'déduct']\n",
      "3.2 ['avis', 'apres', 'part', 'joueur', 'allé', 'sombr', 'avis', 'trop', 'hâtif', 'probabl', 'comm', 'pas', 'envi', 'rejou', 'saur', 'pas', 'plus', 'donc', 'hésit', 'pas', 'laiss', 'commentair', 'argument', 'corrig', 'tir', 'sent', 'trickerion', 'interact', 'réduit', 'emplac', 'plac', 'ouvri', 'impress', 'fair', 'toujour', 'mêm', 'chos', 'san', 'assez', 'libert', 'prendr', 'tour', 'mag', 'achet', 'matérial', 'nécessair', 'mettr', 'programm', 'spectacl', 'puis', 'encaiss', 'point', 'tres', 'trop', 'script', 'final', 'assez', 'pauvr', 'term', 'choix', 'rest', 'final', 'timing', 'ger', 'chois', 'bon', 'action', 'bon', 'moment', 'choix', 'judici', 'tour', 'mag', 'final', 'quas', 'uniqu', 'interrog', 'jeu', 'combien', 'temp', 'dois', 'conserv', 'tour', 'facil', 'fait', 'pas', 'puisqu', 'jeu', 'dit', 'quand', 'fair', 'seuil', 'cart', 'tour', 'mag', 'aur', 'system', 'encher', 'détermin', 'ordre', 'tour', 'ça', 'don', 'peu', 'piment', 'jeu', 'là', 'encor', 'décept', 'ser', 'bêt', 'ordre', 'invers', 'scoring', 'encor', 'quoi', 'rendr', 'jeu', 'plat', 'san', 'saveur', 'décid', 'san', 'parl', 'cet', 'aspect', 'polit', 'correct', 'consist', 'vouloir', 'tout', 'prix', 'resserr', 'scor', 'point', 'vu', 'devr', 'être', 'absent', 'gros', 'jeux', 'jou', 'mal', 'fais', 'explos', 'point', 'barr', 'résum', 'jeu', 'bien', 'trop', 'script', 'pass', 'tour', 'sinon', 'jeu', 'beau', 'ça', 'sûr', 'côt', 'là', 'ça', 'claqu', 'p', 'ador', 'trickerion', 'pren', 'pas', 'mal', 'surtout', 'apport', 'ici', 'impress', 'personnel', 'engag', 'pourquoi', 'post', 'cel', 'parc', 'lorsqu', 'interrog', 'achat', 'jeu', 'lis', 'préalabl', 'avis', 'tt', 'souvent', 'déçu', 'trouv', 'avis', 'posit', 'avis', 'négat', 'san', 'aucun', 'argument', 'savoir', 'joueur', 'aim', 'dan', 'jeu', 'auss', 'pas', 'aim', 'permet', 'détermin', 'si', 'jeu', 'susceptibl', 'plair', 'pas', 'apres', 'rien', 'vaut', 'part', 'essai', 'voir', 'beaucoup', 'plus', 'tranch']\n",
      "0.0 ['a', 'an', 'apprendr', 'pet', 'lanc', 'dé', 'tres', 'bien', 'apres', 'faut', 'pass', 'colon', 'catan', 'jeu', 'dé', 'plateau', 'peu', 'plus', 'évolu', 'nombr', 'part']\n",
      "0.0 ['a', 'heur', 'où', 'violenc', 'plus', 'plus', 'présent', 'mal', 'évad', 'opus', 'ludiqu', 'dan', 'lequel', 'faut', 'point', 'arme', 'autr', 'joueur', 'quand', 'bien', 'mêm', 'factic', 'aut', 'plus', 'si', 'jeu', 'destin', 'égal', 'public', 'familial', 'thémat', 'rebut']\n",
      "0.0 ['a', 'heur', 'où', 'violenc', 'plus', 'plus', 'présent', 'mal', 'évad', 'opus', 'ludiqu', 'dan', 'lequel', 'faut', 'point', 'arme', 'autr', 'joueur', 'quand', 'bien', 'mêm', 'factic', 'aut', 'plus', 'si', 'jeu', 'destin', 'égal', 'public', 'familial', 'thémat', 'rebut']\n",
      "0.0 ['achat', 'forc', 'bundl', 'tim', 'bomb', 'plus', 'fourn', 'seul', 'magasin', 'éditeur', 'avon', 'tous', 'tres', 'déçus', 'jeu', 'bluff', 'mortel', 'ennui', 'auss', 'assez', 'exasper', 'cet', 'vent', 'forc', 'bundl', 'pens', 'ailleur', 'éditeur', 'essai', 'écoul', 'stock', 'propos', 'produit', 'phar', 'dir', 'bref', 'environ', 'jet', 'fenêtr', 'pouvoir', 'acquer', 'tim', 'bomb', 'a', 'fuir', 'si', 'voul', 'don']\n",
      "0.0 ['achat', 'forc', 'bundl', 'tim', 'bomb', 'plus', 'fourn', 'seul', 'magasin', 'éditeur', 'avon', 'tous', 'tres', 'déçus', 'jeu', 'bluff', 'mortel', 'ennui', 'auss', 'assez', 'exasper', 'cet', 'vent', 'forc', 'bundl', 'pens', 'ailleur', 'éditeur', 'essai', 'écoul', 'stock', 'propos', 'produit', 'phar', 'dir', 'bref', 'environ', 'jet', 'fenêtr', 'pouvoir', 'acquer', 'tim', 'bomb', 'a', 'fuir', 'si', 'voul', 'don']\n"
     ]
    }
   ],
   "source": [
    "for t in pairs[50:55]:\n",
    "  print(t[0], preprocess(t[1], 'french', True))\n",
    "for t in sorted(pairs)[10:15]:\n",
    "  print(t[0], preprocess(t[1], 'french', True))"
   ]
  },
  {
   "cell_type": "code",
   "execution_count": 4,
   "metadata": {},
   "outputs": [
    {
     "data": {
      "text/plain": [
       "(array([  960.,  1147.,  6331.,  1557., 14667.,  5223., 32585., 11809.,\n",
       "        55442., 57272.]),\n",
       " array([ 0.,  1.,  2.,  3.,  4.,  5.,  6.,  7.,  8.,  9., 10.]),\n",
       " <BarContainer object of 10 artists>)"
      ]
     },
     "execution_count": 4,
     "metadata": {},
     "output_type": "execute_result"
    },
    {
     "data": {
      "image/png": "[encoded data removed]",
      "text/plain": [
       "<Figure size 640x480 with 1 Axes>"
      ]
     },
     "metadata": {},
     "output_type": "display_data"
    }
   ],
   "source": [
    "plt.hist([t[0] for t in pairs])"
   ]
  },
  {
   "cell_type": "code",
   "execution_count": 5,
   "metadata": {},
   "outputs": [
    {
     "name": "stdout",
     "output_type": "stream",
     "text": [
      "6.0  1 partie à 4 joueursCe que j’aime :* Thème :  J’aime beaucoup le thème, même si je le trouve un peu plaqué. Des fruites, une île, un paysage tropicale, c’est frais. * Mécanique :  La roue est sympa, ca me rappelle un peu celle d’Antike.* Plateau :  Je trouve le plateau très joli, avec ces couleurs et ces fruitsCe que j’aime moins :* Hasard/Attente :  Au final, je me suis retrouvé à attendre que mon tour arrive pour réfléchir, car ca peut tellement changer les choses. On se sait jamais avec quelle situation on va partir. Il faut vraiment être opportuniste* Stratégie :  C’est assez difficile de définir une stratégie car les choses bougent trop vite et on ne sait pas trop sur quels types de fruits on peut se concentrer. En effet, si pénurie, on les perd tous. Je trouve que ça reste un jeu d’opportunisme. Difficile d’élaborer une stratégie. Je comparerai volontier ce jeu à Alhambra. Dans les deux jeux, je trouve qu’on ne peut pas trop anticiper les mouvements, car les coups des autres vont grandement modifier les données à son tour de jeu. A la différence d’Alhambra où il y a une partie construction, ici, la seule gestion concerne les charrettes, voire les coups spéciaux.En jeu familiale, Finca a pour lui le mécanisme de la roue (mais difficile à optimiser) et le thème alors qu’Alhambra possède un côté construction qui le rend légèrementplus intéressant, à mon goût.\n",
      "6.0  Camelot est un petit jeu bien sympathique. Sans être un grand jeu, il sait amuser son monde. Parfait pour les apéros il sera se mêler aux chips sans problème avec des éclats de rire et des rebondissements.Parfait à 3 ou 4 il se montrera nettement moins bien à 2 (pas assez de monde) ou à 5 (trop de monde)Pas indispensable mais très divertissant (à tester si possible avant d’acheter) \n",
      "6.0  Camelot est un petit jeu bien sympathique. Sans être un grand jeu, il sait amuser son monde. Parfait pour les apéros il sera se mêler aux chips sans problème avec des éclats de rire et des rebondissements.Parfait à 3 ou 4 il se montrera nettement moins bien à 2 (pas assez de monde) ou à 5 (trop de monde)Pas indispensable mais très divertissant (à tester si possible avant d’acheter) \n"
     ]
    }
   ],
   "source": [
    "for t in sorted(pairs):\n",
    "  if 6 <= t[0] <= 7:\n",
    "    print(t[0], t[1])\n",
    "    if random.random() <= 0.2:\n",
    "      break"
   ]
  },
  {
   "cell_type": "code",
   "execution_count": 6,
   "metadata": {},
   "outputs": [
    {
     "name": "stdout",
     "output_type": "stream",
     "text": [
      "4.0  1 partie à 4 joueurs débutants Ce que j’aime :* Thème :  J’aime beaucoup le thème. La course de chien de traineau est bien trouvé et bien retranscrite.* Mécanique :  Sur le papier, les coûts des déplacements latéraux, de pouvoir enchainer les cartes de même valeur et le bonus de position pour des forces de chiens de force égale sont des trucs sympas* Le traineau :  Il est bien fait avec des places pour les cartes, le frein, et surtout la couleur des drapeaux pour la gauche et la droiteCe que j’aime moins :* Calculatoire :  Ce qui m’a le plus choqué c’est le côté calculatoire du jeu. On se retrouve vite à compter dans son coin et ne pas voir ce que font les autres. Ce n’est pas un jeu très compliqué en soi, mais je le côté je compte combien de cases j’avance, combien de case je me décale sur le côté, n’est pas très évident et dessert le côté fun.* Lisibilité du plateau :  Personnellement, j’ai eu du mal à savoir qui était premier, quelles cases je pouvais me décaler latéralement et quelles cases en diagonales. Ca n’aide pas quand on est déjà en train de simuler les déplacements possibles.Très déçu. J’étais prêt à l’acheter les yeux fermés, j’ai bien fait de l’essayer. J’attendais un jeu très fun, mais plus réfléchi qu’Ave César, et au final, je n’ai pas accroché, je ne suis pas entré dedans, je ne me suis pas amusé. Il faut que je réessaye je pense.\n",
      "4.0  1 partie à 4 joueursCe que j’aime :* Matériel :  Je trouve le matériel très beau, bien réussi, avec un super plateau de jeu.* Mécanismes offre / demande :  Le mécanisme de la valorisation des ballots dans les villes où on peut les vendre et simple mais réaliste. * Fluide :  C’est très rapide, 3 actions possibles par tour. J’aime bien aussi le sysètme de jetons qu’on se refile pour marqueur de tour. Ce que j’aime moins :* Stratégie :  J’ai pas trop réfléchi, j’ai calé deux palais au centre puis je pense avoir assez mal joué, ne regardant pas les demandes des villes lorsque j’acheter les ballots. Je me suis dit que c’était rentable de construire de palais sur des jetons à récupérer. Au final, j’ai gagné grâce à mes droits de passage des palais, mais j’ai pas réfléchi.Le dernier jeu « Pick and delivery » auquel j’ai joué était Himalaya. La part de hasard ici est réduite, car les villes sont fixes et les demandes sont assez logiques. La part de hasard reste aussi forte. Je trouve qu’au final que le hasard est trop présent, je n’ai pas trop compris la stratégie (ok, si on fait pas de palais, il suffit de rester cantonner dans son coin pour éviter que le joueur qui a un palais ne gagne de l’argent ?). Je trouve aussi dommage que construire un palais au centre est un coup quasi-obligatoire (je trouve) si on veut se battre pour la victoire. Je suis sans doute imperméable à l'intérêt de ce jeu avec trop de hasard pour ce que j'en attendais (Attention, je n’ai fait qu’une partie et nous étions 4 débutants)\n",
      "4.0  Les allergiques des jeux familiaux passeront leur chemin (on reprend ici les principes de jeu du monopoly). Les anti capitalistes aussi !!! Les autres éprouveront un certains petit plaisir régressif et nostalgique, collectionnant les ressources pour étoffer leur portefeuille d'action et s'enrichir. Certes l’intérêt est limité, mais c'est avec ce genre de jeu familial et abordable que je me suis intéressé aux jeux étant gamins (avec les Monopoly, Risk, Hotels et autres Cluedo). Et rien que pour ça, il(s) mérite(ent) d'être dans ma ludothèque (même si il(s) y pren(nent)d la poussière!) :) \n",
      "4.0  Les allergiques des jeux familiaux passeront leur chemin (on reprend ici les principes de jeu du monopoly). Les anti capitalistes aussi !!! Les autres éprouveront un certains petit plaisir régressif et nostalgique, collectionnant les ressources pour étoffer leur portefeuille d'action et s'enrichir. Certes l’intérêt est limité, mais c'est avec ce genre de jeu familial et abordable que je me suis intéressé aux jeux étant gamins (avec les Monopoly, Risk, Hotels et autres Cluedo). Et rien que pour ça, il(s) mérite(ent) d'être dans ma ludothèque (même si il(s) y pren(nent)d la poussière!) :) \n",
      "4.0  trés bonne idée au demeurant, servie par une belle edition, l'ennui pete mes statistiques!manipuler le materiel n'est pas des plus excitant, ni des plus logistiques par rapport aux cartes! la regle est laborieuse pour au final peu de possibilitésle bilan: rien de nouveau pour le genre si ce n'est le materiel en moins valu!deçu donc car je l'attendai avec curiosité depuis un moment!dernier carton rouge pour le prix en vue de la qualité des dés!donc si on me donne le choix la prochaine fois je ferai un strike à la place :)\n",
      "4.0 \"All Wound Up!\" s'adresse principalement à un public jeune. Les personnes plus âgées prendront tout de même un large plaisir à jouer, soit avec d'autres adultes de manière sporadique, soit sans modération avec des enfants.Le coté innovant de ce jeu réside évidement dans le matériel, puisqu'il s'agit d'une course de mort vivant dans un cimetière et que ceux ci sont représentés par de petits automates à ressort. Pour le reste, le matériel reste très standard (plateau de jeu en quatre morceaux ainsi que des cartes et jetons d'action). Je soulignerais ici la qualité assez médiocre du plateau de jeu ainsi que des cartes d'actions. Sachant que l'on pourrait douter de la durée de vie des petits automates, avoir du matériel standard de mauvaise qualité laisse perplexe quant à la durée de vie de l'ensemble.Sinon, le fonctionnement du jeu laisse place à de nombreuses crises de rire. Les morts vivants se télescopent, chutent dans des tombes (on regrettera d'ailleurs un plateau en 3D qui aurait été terrible !). Les parties sont clairement à jouer à 4 joueurs (voire 3 mais surtout pas 2) et elles vont durer de 30 minutes à une heure selon la perfidie des participants. Le système de cartes d'action avec majorité m'a laissé perplexe dans un premier temps mais fonctionne assez bien même si il est dur à expliquer aux plus petits.Globalement, \"All Wound Up!\" est une réussite. Un jeu audacieux mais qui auraient malheureusement mérité un matériel de meilleure qualité pour un jeu destiné aux enfants.\n",
      "4.0 \"Amazones\" a été une petite déception pour moi. Je n'ai pas trouvé en ce jeu le petit truc qui ferait que je le ressortirais souvent de ma ludothèque. Le problème d' « Amazone » dans ma ludothèque, c'est que de nombreux jeux plus accrocheurs et malins passeront devant lui dans les soirées jeux. Il n'en reste pas moins qu'il pourra toucher un certain public, mais peut être pas celui des joueurs invétérés.Car \"Amazone\" présente bien. Un matériel honnête sans plus, avec des illustrations sympathiques mais qui sont assez caractéristiques pour plairent à ceux qui aiment ce style (malheureusement ce n'est pas mon cas). Ensuite au niveau de l'ambiance, il s'agit d'un jeu qui s'adresserait (notez le conditionnel !) à un environnement féminin, les règles encourageant directement à adopter des comportements féminisant pour les hommes (utilisation des noms féminisés par exemple). Au niveau de notre groupe de joueur (et de joueuse) cette ambiance n'a pas pris du tout (pourtant on a fait comme ils ont dit dans les règles, on a féminisé nos noms et on s’est appelé « princesse machin» pendant trois quarts d’heure). Peut être n'y étions nous pas préparés, mais il faut quand même beaucoup de bonne volonté pour rentrer dans le trip.Pour finir, le mécanisme de jeu est très standard, avec un système d'enchères à deux tours avec échange des cartes permettant de faire les enchères entre les joueurs en fonction de leur classement dans celle ci. C'est effectivement subtile, probablement digne d'un « Knizia », mais j'ai tellement vu de systèmes similaires dans tellement de jeux que la surprise n'était pas au rendez-vous.Au final, je pense que ce jeu n'est pas mauvais, mais qu'il n'est pas fait pour moi ni pour mon groupe de joueurs et de joueuses. Je ne sais pas si c'est parce que je suis un garçon ;o) ou si c'est parce que je suis devenu trop exigeant vis a vis de ces produits de milieu de gamme (jeux à 30 euros environ et à la durée de partie de moins d'un heure).Au final, une déception quand même...\n",
      "4.0 \"AnagramPlus\" c'est comme une espèce de genre de \"Jarnac\", ce jeu sorti fin des années 70 et qui offrait une alternative à ce bon vieux scrabble. Du coup, donc, sous le soleil de la nouveauté originale, le petit plus n'est pas trop là. Ha si, il est dans la boîte avec un astucieux système d'aimant pour fermeture. Et cette boîte, c'est fou ce qu'elle ressemble à une boîte de logiciel !Bon, forcément, si comme moi vous n'aimez pas trop les jeux de lettres et qu'en plus vous êtes archi mauvais en anagrammes et en orthographe (il n'y a qu'à me lire pour s'en rendre compte), ce jeu va être d'un ennui mortel ! Et ce que l'on demande à un jeu, ce n'est pas de l'ennui, c'est de l'amusement. Alors, moi, j'en ai fait une partie, et je n'en ferais probablement plus jamais d'autre. Mais je comprend tout à fait que l'on puisse aimer. Si, je vous jure. Si vous aimez les jeux de lettres et que vous êtes fort en anagrammes et en orthographe...\n",
      "4.0 \"Bacchus' Banquet\" est un jeu qui fait fort dans le thème : illustrations, couleurs choisies, personnages vils qu'il faut démasquer.Même les mécanismes qui vont avec se relient à l'esprit du jeu (on s'offre des cadeaux que l'on peut refuser : vous avez déjà vu ça dans \"Toc Toc Toc\" et \"Animalia\").La seule idée de la ceinture, qui est très bien pensée, montre à quel point les idées étaient là.Mais si les intentions étaient louables, le thème bien rendu et très sympa, le jeu en lui même n'est pas transcendant.Un peu de guess par ci, un peu de tactique par là, le tout matiné de hasard.Et ça peu s'éterniser... surtout sur la fin, qui n'en finit pas.La note peu paraitre dure mais il s'agit bien de celle ressentie par les personnes y ayant joué et sur ce type là de jeu, on ne peut pas dire que la profondeur viendra sauver le manque de fun.Au final, si les idées et le ramage est meilleur, je lui préfère même un jeu comme \"taverne de la licorne\" ...\n",
      "4.0 \"Ca finit quand?\"Quand quelqu'un pose la question ouvertement, c'est qu'il y a un problème...Trop peu de choix, ça se traine vite.Le jeu à des qualité, dont l'esthétique qui me plait, mais bon voilà c'est pas pour moi.\n",
      "4.0 \"Certainement que les rôlistes d'ADD doivent aimer\"... Pourtant je suis rôliste ADD... et ce jeu me bassine méchant. Oui bien sûr c'était marrant de lire les cartes au début.. (mais c'est long et le jeu s'éternise) En fait, on dirait pas un jeu, on dirait plutôt une grosse boutade qui a su superbement trouvé un public et qui du coup sort une foultitude d'extensions qui ont toutes le même intêret ludique, toujours aussi limité... oui c'est bourré d'humour mais là encore, faut quand même pas s'imaginer que l'arbre va cacher la foret ! Les mécanismes sont plats et hyper répétitifs. Portes - monstres - trésors, sympa le clin d'oeil, mais après ?\n"
     ]
    }
   ],
   "source": [
    "for t in sorted(pairs):\n",
    "  if 4 <= t[0] <= 5:\n",
    "    print(t[0], t[1])\n",
    "    if random.random() <= 0.2:\n",
    "      break"
   ]
  },
  {
   "attachments": {},
   "cell_type": "markdown",
   "metadata": {},
   "source": [
    "## Comment\n",
    "\n",
    "It wouldn't be fair to say a game of 4~6 points is negative or positive. So let's consider games of score lower than 3 or higher than 8."
   ]
  },
  {
   "cell_type": "code",
   "execution_count": 7,
   "metadata": {},
   "outputs": [],
   "source": [
    "pairs = [t for t in pairs if t[0]<=3 or t[0] >= 8]"
   ]
  },
  {
   "cell_type": "code",
   "execution_count": 8,
   "metadata": {},
   "outputs": [
    {
     "name": "stdout",
     "output_type": "stream",
     "text": [
      "121542\n",
      "8.0 Un petit jeu très sympa...le seul inconvénient est le temps d'installation même si ca ne prend pas des heures.Amusant pour les grands, comme les petits (mais pas trop....mini mini 6 ans, voire plutot plus)\n",
      "10.0 Très simple a expliquer et a jouer, tout les coups se jouent en simultané donc on attend jamais son tour. Un de mes préférés d'ALEA. Parfait pour initier les joueurs occasionnels ou les non joueurs!\n",
      "9.7 J'ai longtemps eu du mal à apprécier le côté \"ludique\" des jeux de gestion à l'allemande. Si mon esprit scientifique me permet généralement d'évoluer avec une relative facilité dans cet univers de cubes en bois, je considère beaucoup de ces jeux comme des exercices intellectuels qui manquent d'âme (thème absent, matériel austère) et de vie (ambiance studieuse autour de la table) : des sortes de sudokus collectifs. Je trouve beaucoup plus amusant de lutter contre un gobelin hystérique ou la tension provoquée par un lancer de dés miraculeux qui anéantit votre unité d'infanterie.Alors a priori Agricola n'est pas pour moi. Et pourtant j'enchaine les parties avec un grand plaisir. Pourquoi ?Tout d'abord parce que le thème, qu'on peut ne pas apprécier, de l'extension d'une ferme est remarquablement bien rendu : toutes les actions sont cohérentes (agrandissement de maison, labourage, plantation, semailles...) et proposent un jeu très immersif. Cela permet une rapide maitrise des règles, denses mais claires, par des débutants. Le décompte final est logique et le score reflète bien la réussite de l'objectif (développement équilibré généralement visible à l'oeil nu). Le matériel est abondant et de bonne qualité, ce qui ne gache rien.Dans Agricola il y a en fait plusieurs jeux assez différents. j'en distinguerais cinq : un jeu solo (dont je en parlerai pas mais qui semble très apprécié), un jeu familial à deux, un jeu familial de 3 à 5, un jeu expert à deux et un jeu expert de 3 à 5.- Le jeu familial à deux est le plus accessible. Idéal pour les premières parties il permet de bien comprendre les mécaniques et les enjeux. Chacun développe sa stratégie avec une interaction asssez limitée. je trouve cette configuration plaisante mais pas exceptionnelle.- Le jeu familial de 3 à 5 : c'est l'Agricola le plus violent. Plus on est nombreux plus la lutte est féroce pour réaliser les meilleures actions. A chaque récolte la famine guette les joueurs à la traine. La tension est forte toute la partie et le développement de la ferme est besogneux. Nombreux sont ceux frustrés par un résultat médiocre : une carotte et un mouton au bout de deux heures de \"travail\". Le jeu est sans pitié mais l'émotion est très présente autour de la table.- Le jeu expert à deux : la version experte du jeu introduit des cartes (plus de 300 ! rejouabilité infinie) qui permettent aux joueurs de bénéficier de petits avantages ou d'accélérer certaines stratégies de développement. Mieux on connait le jeu plus on arrivera à utiliser efficacement ses cartes et à réaliser de redoutables combinaisons mais attention car une excellente carte utilisée à contretemps sera improductive voire néfaste. Le jeu expert nécessite donc une homogénéité relative du niveau des participants sous peine de voir des écarts de score énormes. Mais même un débutant saura plus facilement développer sa ferme que dans la version familiale : il sera moins frustré au final.- Le jeu expert à trois et plus : on retrouve la très forte interaction de la version familiale (lutte pour les actions les plus rentables) tempérée par les cartes qui permettent des stratégies alternatives ou des compensations bienvenues. C'est le mode de jeu le plus abouti car il permet d'individualiser sa manière de jouer tout en gardant une saine tension autour du plateau (il est impossible de jouer dans son coin sans s'occuper des adversaires). Mais le hasard des cartes peut aussi déséquilibrer la partie. Il peut être compensé par le système de distribution (draft par exemple) mais cela augmente le temps de jeu, chaque joueur étudiant les options initiales possibles, et accentuer les différences de niveaux (le débutant passant à côté des bonnes cartes).En version familiale à 3/4 joueurs connaissant le jeu, les parties font environ 90 min (plus 10/15 min d'installation et autant de rangement). Rajoutez 30 min (voire plus si vous jouez avec des fins stratèges) pour la version expert.Le jeu est accessible dès 10 ans sans problème pour des enfants joueurs. Des plus jeunes ou des néophytes peuvent même participer avec la version familiale et ils réussiront un développement honorable de leur ferme (même si le score final, anecdotique, sera sans doute négatif).Par son thème et sa pureté mécanique je pense qu'Agricola est à conseiller à toutes les familles de joueurs mais ce n'est tout de même pas un jeu d'initiation aux jeux modernes car la frustration permanente (en version familiale on passe son temps à chercher de la nourriture pour survivre) peut s'avérer décourageante.A ma grande surprise je considère Agricola comme un excellent jeu qui à réussi à transfigurer le Kubenbois pour lui donner une âme et à le rendre accessible et intéressant pour tous. Mêm si l'optimisation est au coeur du jeu, en jouant à Agricola je n'ai pas l'impression de participer à un exercice intellectuel virtuose et stérile mais bien au développement d'un projet concret qui prend forme sous mes yeux. Et comme l'interaction, indirecte, est très présente (surtout à partir de trois joueurs) et souvent décisive je trouve là de sensations ludiques très agréables.Le seul bémol, qui tient aux qualités du jeu, est qu'un joueur expérimenté écrasera systématiquement des débutants (qui ne seront sauvés par aucun lancer de dé !).Le jeu parfait n'existe pas mais Agricola s'en approche.\n",
      "8.2 Montez sur les animaux pour aller jusqu'au trésor. Ce jeu est simple et il raconte une histoire. Bien pour les enfants et il est originale. (J'ai 8 ans)\n",
      "8.9 Ce qui impressionne le plus lorsqu’on a devant soi une boîte d’Abyss, ce sont tout d’abord les superbes illustrations de Xavier Collette, qui permettent une immersion totale dans le thème du jeu. Un effort particulier a été fait sur la qualité de l’édition, et tout dans le matériel appelle à s’immerger dans la partie : les magnifiques cartes des différents personnages, les lieux en carton épais et les petites perles (dans leur écrin d’huître) qui servent de monnaie au jeu. La règle est très simple, très claire, et expliquée en 15 - 20 minutes pour la première fois, ce qui implique une première partie plus proche des 90 minutes que les 45 indiquées sur la boîte. Mais une fois les règles acquises, les différentes actions du jeu s’enchaînent sans temps mort, servies par des mécanismes simples dont l’articulation permet une grande fluidité. A son tour, une action est à choisir parmi trois : Explorer les profondeurs (tirage aléatoire de cartes et enchères) - Demander le soutien du conseil (gestion de main) - Recruter un seigneur (combinaisons et optimisation) qui aura un pouvoir (immédiat ou semi permanent) permettant de modifier le déroulement de la partie. Une deuxième action obligatoire apparaîtra lorsqu’un joueur aura récupéré trois clés. Il devra alors prendre possession d’un lieu qui lui octroiera des points d’influence (de victoire) en fin de partie, mais qui annihilera le pouvoir d’un ou plusieurs seigneurs. Jouer à Abyss demande donc un peu de chance, un peu de mémoire, et beaucoup d’opportunisme pour optimiser au maximum sa main de cartes et les combinaisons des seigneurs et des lieux. Les tours défilent et la stratégie choisie pourra être affinée au cours de la partie, en raison des nombreuses options qui permettront de restreindre le hasard d’une action. Un très beau et très bon jeu.\n",
      "2.0 aint-Nicolas est passé chez ma belle-soeur. Elle souhaitait un jeu d'enquête et Saint-Nicolas, au lieu de lui apporter le Cluedo, lui a apporté ce \"Mystères de Cluedo\".Ce jeu est un mélange de \"mystères de Pekin\" et de \"Cluedo\". Avant d'aller plus loin, précisons tout de suite que l'auteur ne s'est pas foulé pour trouver des idées originales sur son \"nouveau?\" jeu. Du « Cluedo », on retrouve le noms des personnages (colonel Moutarde, etc) et des \"Mystères de Pékin\", on retrouve... tout le reste: liste de suspect, loupe, papier transparent rouge pour lire les indices, parcours au dé, etc.Parlons maintenant du jeu proprement dit. Le dé décide de beaucoup de chose. Il décidera si oui ou non vous arriverez plus vite dans la maison d’un des personnages à interroger. Une fois arrivé dans la maison de celui-ci, un indice du type \"le coupable a un chapeau\" vous sera révélé à l'aide de la loupe, du transparent rouge ou du miroir. Une fois l'ensemble des personnages interrogés, il vous suffira d'aller sur le lieu du crime et d'affirmer votre conclusion d'enquête du style \"c'est le professeur Olive le coupable\".Ajoutez à ce \"magnifique concentré\", une série de carte \"chance\" qui vous permettra, sans aucun mérite, de dépasser un joueur ayant une bonne déduction.Ce n'est pas tout. Si les remarques s'arrêtaient là, on pourrait parler d'un \"mystère de Pékin\" où l'on a juste changé le style. Mais ici, d'autres problèmes se sont encore posés. Ainsi, un personnage ment dans l'enquête. La visite au policier permet de savoir qui est ce menteur. Mais il n'est précisé nul part ce que c'est \"être menteur\". Est-ce dire l'inverse de la vérité? Auquel cas, il y a lieu d'aller cherché l'indice chez le menteur et de croire l'inverse de ce qu'il dit (genre \"le coupable est une femme\",  donc on conclut que c'est un homme). Ou alors, \"mentir\" est \"dire une information sans intérêt pour l'enquête, parfois un mensonge, parfois la vérité\". Auquel cas, il y a lieu de ne jamais passer chez le menteur.Autre problème de règle: plusieurs cartes \"chance\" disent qu'un de vos adversaires doit révéler l'indice qu'il a trouvé chez tel ou tel suspect. Mais qui choisit parmi les deux possibilités du \"ou\"? Est-ce le joueur qui tire la carte auquel cas ce joueur demandera un indice qu'il n'a pas encore ou alors est-ce le joueur qui doit dire l'indice qui choisit auquel cas il peut dire un indice qui ne sera d'aucune utilité pour ses adversaires ? De nouveau, aucune information n’est trouvée dans le livre de règles.En outre, même si leur nombre est important, le nombre d'enquête est limité. Ce n'est pas comme au Cluedo où le hasard permet de renouveler les parties.Enfin, le thème calqué sur \"la foire foraine\" n'est pas crédible une seule seconde. Bref, encore un jeu qui prendra la poussière chez mes beaux-parents qui ont succombé aux jeux de grande surface de type \"hasbro\". Ma belle-soeur souhaite un jeu d'enquête, il faudrait qu'on teste un jour \"Mystère à l'abbaye\", ça ne pourra être que mieux.Les moins:  Aucune originalité; Des problèmes de clarté de règles (expliqués ci-dessus); Un jeu qui éloignera encore plus les familles des jeux de société modernes.Les plus: Peut-être que le joueur qui cherche un jeu tout à fait similaire au jeu \"Mystères de Pékin\" pourra aimer? Mais celui qui aime \"Cluedo\" sera déçu.\n",
      "0.0 Découvert sur la tttv, ce jeu m'a donné envie et je l'ai commandé de suite sans l'avoir testé avant.\n",
      "C'est vrai que la qualité du matériel est limite mais pour le prix du jeu, difficile de s'attendre à mieux. Certains disent que les Meeple sont trop petits, je trouve ça normal pour qu'une armée tienne sur une tuile.\n",
      "À l'ouverture de la boîte, il me manquait un Meeple. J'ai contacté le distributeur et voilà plus de deux semaines que j'attends le manquant.\n",
      "\n",
      "Je suis allé au salon du jeu Ludinord et dès l'ouverture je me suis attablé au stand de Meeple war, pressé de le tester.\n",
      "Comme c'était un salon et que beaucoup de monde doivent l'essayer, la mise en place de départ est faite pour une partie rapide avec des bâtiments préconstruits. Chacun commençant avec des bâtiments différents. Nous avons fait une partie à quatre joueurs. Le joueur commerçant avec la catapulte à gagné avec 6-0-0-0. Et cela en deux fois. D'abord deux points d'un coup en détruisant un bâtiment avec sa catapulte, puis trois points en déplaçant trois Meeple sur un bâtiment à trois de défense. Son 6 ème point étant gagné grâce à un Fortin à son début de tour.\n",
      "\n",
      "Déçu de cette partie beaucoup trop déséquilibrée, avec un ami, nous avons décidé de refaire une partie, chez moi cette fois, à deux joueurs, en mode normal donc sans bâtiment de départ.\n",
      "Eh bien, c'était la même.\n",
      "Sachant la puissance de la catapulte, nous avons tous les deux commencé par la construire. Mais mon ami étant le premier joueur , a construit la sienne juste avant moi, ce qui lui a permis d'avoir l'avantage et de détruire ma catapulte avant que je détruise la sienne.\n",
      "Il a donc ensuite continuer de marquer des points en détruisant mes bâtiments à distance et en attendant sagement que mes troupes (seul moyen pour moi maintenant de marquer) s'approchent de sa ville pour les attaquer. Il a donc gagner 6-1.\n",
      "\n",
      "Conclusion: si tu veux gagner à ce jeu, sois le premier joueur et construit ta catapulte en premier. \n",
      "\n",
      "Imaginons une partie à trois joueurs, le premier gagnera sauf si les deux autres se liguent contre lui, mais dans ce cas un des deux se sera sacrifié et laissera donc la victoire à l'autre.\n",
      "\n",
      "Je vais laisser une dernière chance à ce jeu, je vais le tester une dernière fois en enlevant les tuiles catapultes. Elles sont peut-être la seule cause de ce déséquilibre!\n",
      "2.0 Je possède la réédition de ce jeu.Les plus:- Les petits tableaux effaçables- Règles assez simples- Respect du thèmeLes moins:- Thème peu attrayant- Toutes les parties se ressemblent- Peu de stratégie et pas mal de réussiteEn gros ce jeu ne m'a pas plu et je ne sais pas trop quoi en dire. Sans intérêt!\n",
      "1.1 5/20 (mais 15/20 sur le principe, si on aime)\n",
      "\n",
      "Classique, ok, mais faut de la patience et j’en ai pas assez et je pense que tout le monde a fait le tour de ce jeu.\n",
      "Pas pour moi.\n",
      "\n",
      "Si vous aimez les jeux de lettres, penchez-vous sur :\n",
      "- Mixmo (un Scrabble en 5-10 minutes)\n",
      "- Topword (un Scrabble en 3D)\n",
      "- Jarnac (un jeu pour les experts de la langue, à base d’anagrammes)\n",
      "1.7 Connaisseur de bang je me faisais un plaisir de tester katana. Les armes sont une bonnes idées, les points d'honneur aussi mais le jeu est interminable. On ne l'a pas terminer d'ailleurs.\n",
      "On en vient a attendre la prochaine fin de pioche pour espérer qu'un joueur soit à cours de points d'honneur. Comment peut on rater un jeu comme ça? Un bon moyen de dégoutter des -nouveaux venus : promis c'est fun et max 40 min, au bout d'1h rien n'a bougé à part 2 pioches et tout le monde pionce.\n",
      "0.4 Après plusieurs parties, toujours la même sensation de vide. On \"traverse\" le jeu sans prendre de plaisir, on pose ses cartes et on attend...c'est un petit jeu à petit prix, que l'on peut sortir à l'apéro (même si dans le genre il en existe des meilleurs) \n",
      "2.0 Déçu malheureusement car j'espérais en effet un barbu thématisé (même si le thème est classique, le matériel et les illustrations me plaisent beaucoup) avec quelques ajouts, abordable, fait par un auteur pas forcément fan de jeux de plis (qui trouve le bridge trop compliqué, et je le rejoins) qui aurait pu faire le chainon manquant pour réconcilier avec le genre.Au final, c'est très terne: 3 couleurs du 2 à l'As et moins de cartes distribuées au total (ce qui me donne un sentiment vraiment étrange en terme de distribution), une carte spéciale à chaque manche pour la touche chaotique, une quarantaine de contrats (et là j'avoue que l'opulence face à la pertinence ne me plait pas du tout). Au final assez peu d'intentions dans le jeu de la carte, et je suis passé à côté...Si vous avez aimé le Roi des nains, peut-être aimerez vous encore plus des jeux comme Sticheln, Njet ou Was Sticht? qui auraient vraiment mérité un bel habillage et une distribution française (ce n'est ptet juste pas faisable, mais c'est vraiment dommage).\n",
      "2.9 Jeu mal équilibré, où le coupable sera parfois à l'abri de tout soupçon et parfois rapidement identifié, \n",
      "sans qu'il puisse y faire quoi que ce soit dans un cas comme dans l'autre.\n",
      "Et dans les rares cas où le doute s'installera parmi les enquêteurs, c'est au jeu d'improvisation des suspects que se jouera la sentence.\n",
      "\n",
      "Rajoutons à cela un bug dans les règles...\n",
      "En matière de jeux d'enquêtes et de déduction il y a bien mieux.\n",
      "2.7 Les points positifs :Le matériel superbe et sympa à manipulerLe thèmeLes points négatifs :Trop de hasard dans les cartesLes pouvoirs ne sont pas équilibrerLe jeu est trop chaotiqueBref un gros buzz pour un jeu vide avec des mécanismes complétements dépassés.N’espérer pas faire la moindre stratégie car au tour suivant elles seront balayées grâce aux cartes cheaté de vos adversaire.Ma plus grosse déception de 2014.\n",
      "2.0 les +le systeme de la roue sympales -l impression de manque de controlele materiel mochele fait de ne pas controler un pays directement pour le faire gagner , j ai du mal avec ce principeperdre un pays qu on developpe .... vraiment pas mon style de jeu au final , bcoup aime moi pas du tout\n",
      "2.0 Bah voilà, tout est résumé dans le titre.Ce jeu est dépendant de la pioche; totalement.On ne choisi pas réellement ce qu'on va jouer non plus et rien ne vient donc sauver l'intérêt de la partie.Les dessins ? justes moyens.Les jetons ? Assez vilains, à vrai dire.Gérer ses forces est un leurre et le seul moment dans lequel réside un peu de tactique se trouve dans la pioche de carte, ou pas, dans les derniers tours parmi les joueurs non distancés.Pour ma part, le jeu est reprit par la voiture balai...\n",
      "2.0 Ben rien de nouveau sous le ciel !! On peut même se demander les raisons de l'existence d'un tel jeu puisqu'il ne propose rien de vraiment intéressant.Le jeu en lui même peut se jouer sans l'aide d'une boite de Buzz it et franchement semble proche du zéro absolu en terme de recherche ludique.Même le fameux buzz ne me semble pas une raison suffisante pour la dépense inhérente à l'achat !Certains éditeurs devraient faire attention de ne pas tirer trop sur la corde quoiqu'avec ce jeu on est au bout du bout !!\n",
      "2.0 Le problème des éléphants qui se balancent de liane en liane est qu'inévitablement la liane finit par craquer. Au-delà de la boutade introductive, je n'aime pas l'histoire du jeu : des éléphants qui font les singes, je n'aime pas la modalité du jeu : enlever des arbres à la forêt, je n'aime pas la réalisation du jeu : des petits caillous carrés représentent les éléphants. Quant au jeu en lui-même, l'avis de Krazey présente très bien tous les éléments négatifs.Elefantissimo est bel et bien le maillon faible d'une belle gamme de jeux.\n",
      "0.0 je n'ai aimé quasiment aucun jeux des spaces cowboys, cependant je me réjouissais énormément de Time stories qui, je l'espérais, me ferait renouer contact avec leur jeu... et bah non. \n",
      "Comme d'habitude on a droit à une énorme campagne marketing et de publicité pour ce jeu, il est annoncé comme révolutionnaire et incroyable. hier soir on commence une partie, au bout de 5 min on comprend qu'on ne gagnera pas et qu'on sera obligé d'en refaire une (bien évidemment je n'y rejouerai jamais) le jeu est très mou, on regarde une carte, on regarde si y a qqch d'intéressant ou pas, des fois on lance des dés ou sinon on fait rien et c'est tout... apparament faut se rappeler des indices qu'on a eu, personnellement l'histoire ne m'a absolument pas emballé, on est dans le cliché du cliché du cliché... c'est linéaire à souhait, c'était annoncé comme un LDVELH, je n'ai absolument pas cette impression de liberté, on subit le jeu, il n'y a qu'une fin possible.\n",
      "l'idée marketing de jouer à un scénario et une fois fini on ne peut plus rien en faire est à mon gout assez stupide, à une époque de surconsommation comme la notre, je trouve assez décevant de voir autant de jeu \"kleenex\" sortir ...\n",
      "2.9 Un bien beau jeu qui me faisait de l'oeil, tout ça pour un résultat brouillon avec la consistance d'un flan.\n",
      "Des règles imprécises, des combats sans enjeux, bref on s'ennuie à mourir.\n",
      "2.0 On tire une carte, et on enfile les kilomètres commes les perles...Ah ben, j'avance plus! Ben, qui c'est qui m'a crevé ma roue, que j'ai même pas ni la roue de secours ni l'increvable ! Et une panne d'essence en plus...!Le 1000 bornes n'a aucun intérêt, et je suis sûr qu'en cherchant un tout petit peu, on trouve des jeux bien mieux à proposer à ses enfants.\n",
      "2.0 J'ai eu l'occasion de tester ce jeu qui paraissait atrayant lors d'un sallon,et la.....J'ai trouvé un jeu pire que Doom !!!! et ça c'est balaise, après deux heures de partie avec mes deux fellows ont avaient un mal de crâne carabiné, riche pour ne pas dire compliqué pour rien (trop de règle tue la règle), long si le dé 10 le veut bien, impossible de mettre une tactique en place nous n'avons pas trouver d'intérêt à ce jeu, à part en rigoler quand on en reparle tellement on s'est ennuyés....\n",
      "2.3 Même pour les petits, ce jeu manque d'intérêt. Il faut manipuler les cartes en permanence, ce qui n'est pas aisé pour le public ciblé. Je trouve surtout le jeu très long. Quite à sortir un petit jeu hasardeux, autant sortir un piratatak.Mieux: un pipolo, toujours dans la jolie gamme djeco :)\n",
      "2.4 Le jeu n'a aucun intérêt particulier. Il n'est pas mauvais en soi mais il y en a tant de mieux dans sa catégorie : pioche, défausse (pour être large) qu'il vaut mieux passer son chemin. Testé et désapprouvé avec divers joueurs.\n",
      "Beau jeu, belle édition avec un thème plaquer pour cause de puritanisme américain : le thème de base était \"les 7 péchés capitaux\" trop violent outre atlantique.\n",
      "1.4 Ne vous faites pas avoir, ce jeu n'a clairement aucun intérêt.\n",
      "0.8 Un jeu d'adresse archi connu donc on va pas s'attarder sur le principe. C'est... comment dire ? Ennuyeux, moche et injuste pour les gens qui n'ont pas des doigts de pianiste... Et puis il a bougé le mikado ou pas ? Voilà un loisir qui devrait, comme le foot, adopter l'arbitrage vidéo ! En plus de ça il faut avoir en tête les valeurs des différents cure-dents... Remarquez, c'est vrai qu'on a largement le temps de relire l'aide de jeu entre deux tours tellement c'est excitant d'interaction... et d'action tout court d'ailleurs !Je préfère \"Docteur Maboul\" ou \"Danger ! Araignée\" (c'est dire...), au moins on rigole un peu quand le nez du patient s'allume ou que l'araignée saute ! Et puis accessoirement là au moins ON SAIT qu'on a touché là où il fallait pas ! Sinon, je vous conseille d'essayer le \"Patatras\", largement supérieur en terme de fun !\n",
      "1.1 Deux heures... Dieu que ces 10 tours de jeu sont longs !Un jeu de blocage où le blocage est dû à la saturation du plateau plus qu'à une quelconque volonté des joueurs. On en vient à jouer des coups pour débloquer ses adversaires, dans l'espoir que le jeu avance.On ne contrôle rien à aucun moment de la partie à cause des cartes événements imprévisibles, et des mouvements des chariots adverses, le tout rendant toute forme de tactique impossible. Les choix à faire sont basiques, et la plupart du temps inefficaces.Chaque joueur ayant 5 chariots à bouger, on attend son tour deux plombes.Le plateau est surchargé en couleurs, et totalement illisible, d'autant que le jaune, le orange et le rouge sont difficilement discernables. Enfin, difficile de savoir quels chariots ont déjà bougé et lesquels sont restés sur place. On s'y paume et je suis convaincu qu'il y a au moins 2 ou 3 erreurs par tour.Une seule partie, c'est peu pour juger un jeu, je le concède... Mais cette partie m'a dissuadé à jamais d'y revenir.Nombre de parties : 1\n",
      "2.9 Un bien beau jeu qui me faisait de l'oeil, tout ça pour un résultat brouillon avec la consistance d'un flan.\n",
      "Des règles imprécises, des combats sans enjeux, bref on s'ennuie à mourir.\n",
      "2.0 Contexte3 parties un soir à 4 - il y a longtemps (très :D) - avec des joueurs expérimentées et ouvert. Le pote qui avait amené le jeu était super motivé, donc nous aussi. De mémoire qui faiblit avec l'age, je crois que c'est un des seuls jeux ou j'ai eu ce type d'expérience désagréable avec des joueurs pourtant qui y ont tous mis du sien, preuve que l'on voulait que ca marche avec un thème a priori tentant..La première, réglage, rire sans plus, joyeux bordel.La deuxième sans saveur.A la troisième je voulais arrêter en milieu de partie tant je trouvais cela insipide. On a fini et on y a jamais rejoué. On a enchainé avec quelque chose qui avait plus de punch.seul intérêt comme tout les jeux dans cette gamme bien inégale : rapide - fort heureusement -.J'avais choisi 2 mais finalement 1 car jamais je ne le conseillerai toute catégorie de joueur confondu dans mes amis. Un jeu à fuir. Du même auteur dont je ne suis pas fan, Citadelle découvert bien après est lui une réussite.\n",
      "2.0 Ce jeu est tout ce que je déteste :- très (mais vraiment très) prise de tête sans le moindre aspect ludique- absolument pas interactif du tout- long (trop long)- très linéaire, très lassant- ...Lors de notre partie (unique certes, mais bon, y-a des limites à la souffrance quand même !), tout le monde a eu ce même ressenti.Bref, à conseiller peut-être à vos ennemis (et encore)\n",
      "2.0 Voici un Magic The Gathering dÃ©guisÃ©. Pas de mana, pas de notion de card advantage (on se refait une main Ã  chaque tour) mais le reste c'est presque pareil. Le but Ã©tant de consolider son camp/film tout en \"attaquant\" les camps/films des autres.Quand je pense que certains disent qu'ils n'y a aucune technique/tactique Ã  avoir ... je me marre.De plus, le choix d'un titre au dÃ©but de la partie ne sert strictement a rien apart peut-etre essayÃ© de mettre une ambiance rigolote (mais ce n'est pas suffisant).La seule chose marrante avec ce jeu est de lire les cartes ou alors peut Ãªtre de jouer en Ã©tant dans un Ã©tat second ??\n",
      "2.0 A coup sûr!!!Le jeu a du être une révolution en son temps, c'est pourquoi il fait désormais partie des meubles. D'autant qu'il semble plaire à beaucoup de monde même les joueurs occasionnels.Maintenant si on le compare à ce qui se fait, les colons ont pris un sacré coup de vieux.Le jeu ne m'a pas du tout emballé et part immédiatement dans un déséquilibre total engendré par le dé.On essaye de rattraper le coup en positionnant au mieux ses routes et l'ambiance autour de la table est tellement pourrie que désormais tout le monde s'en moque. \"Tiens je te bloque! Ca ne m'avance à rien peut être mais j'ai rien d'autre à faire puisque depuis tout à l'heure j'ai aucune récolte...\"\n",
      "1.8 Un matériel incroyable, de très bonnes idées (les cartes \"rencontres\" par exemple que j'aime beaucoup) mais le jeu est très pénible à jouer. Tout installer est très long et on se retrouve à jouer des scénarios qui se terminent au bout de vingt minutes. Alors oui je sais, très bien, l'éditeur essaie de tout rééquilibrer, mais le jeu mon ami l'a et j'y ai joué et ça a suffît à me vacciner. C'est une grosse déception pour moi car même si je n'ai pas acheté le jeu directement je l'attendais depuis longtemps.\n",
      "2.0 La roulette peut-elle être catégoriée dans les jeux de société ? On peut reformuler la question en disant : s’amuse-t-on vraiment en « jouant » à La Roulette ? La seule motivation possible dans ce « jeu » est l’appât du gain. On ne réfléchit pas, on pose mécaniquement des pions sur des numéros en espérant les voir sortir. Dans le meilleur des cas ces pions n’ont aucune valeur, dans le pire vous misez et perdez de l’argent.La Roulette bénéficie pourtant d’une image de prestige auprès de l’imagerie populaire…Faut-il faire partie des grands de ce monde pour y jouer ? Il n’existe aucune recette pour gagner. Les probabilités mathématiques nous démontrent cruellement que seul le Dieu Hasard peut nous aider ! Par contre, grâce au fameux 0 et même double 00, l’employeur du croupier s’en met plein les poches.C’est le cas également avec la célèbre et richissime Française Des Jeux qui fait rêver tant de monde. Don Diego avait bien résumer le jeu : un jeu de hasard néfaste pour les neurones et le porte-monnaie !\n",
      "2.0 Absolument aucun interrêt. J'adore les petits jeux de cartes et je doit bien avoué que j'ai acheté celui-ci à lire les avis positifs..... yiaiiiike :-( Je confirme l' avis de mister T....fuyez! Le jeux est à l'image de l'illustration de la boite.....beuuuuurk.... à la limite pour faire des chateaux de cartes ce qui justifi mon 1 et pas zero.\n",
      "1.0 catastrophe !\n",
      "2.3 J'ai fait 2 parties à 5, et j'en suis ressorti avec l'impression que ce jeu n'avait pas su choisir sa cible, entre exploration trépidante et stratégie, et du coup ne convainc ni dans un sens ni dans l'autre.On ne s'est pas vraiment sentis dans l'ambiance, c'est peut-être en partie notre faute, pour ne pas avoir assez joué le jeu.Peut-être aussi la faute à des règles longues à comprendre et à expliquer, et des mécanismes qui nous forcent à calculer et nous ressortent sans cesse du role-play.Chaque tour de jeu est assez fastidieux : \"j'ai combien de trésors déjà ? Alors... C'est supérieur ou égal, c'est ça ? Donc j'ai quatre actions... J'avance, je fouille, je... fouille et... J'ai fait combien d'actions ? 3 ? Il m'en reste une ?\"Et ce n'est que dans les 2 premières salles, quand on est dans la rivière ou sur le pont arrive \"c'était combien déjà ma charge ? Alors, c'est combien de dés ? Et il faut que ce soit inférieur à quoi ?\" sachant qu'il faut retrouver les réponses aux deux dernières questions au coeur du texte dans le livret de règles.Et ensuite... \"c'est qui qui avait commencé le tour déjà ? Alors, pour la boule, c'est.... Supérieur ou égal à 3...\"Alors, c'est peut-être nous qui sommes un peu neuneus, mais une aide de jeu et un marqueur de premier joueur auraient suffi à fluidifier la partie ; mais surtout les résolutions des jeters de dés sont trop hétéroclites sans qu'on ressente vraiment l'intérêt de ses mécanismes différents. Certes, le résultat colle très bien au thème, plus ton sac à dos est lourd etc, mais devoir retourner dans les règles, vérifier ta charge, compter les dés, compter les <4 met complètement dans l'optique \"est-ce que mon lancer de dés est réussi ?\" et pas \"est-ce que je vais arriver à passer le pont avec tous mes trésors ?\".Peut-être qu'un dé spécial pour chaque action aurait été appréciable ? En parlant du matériel, les figurines pourquoi pas, mais les figurines non peintes n'aident pas du tout à l'immersion, et ce n'est pas le genre de jeu pour lequel je prendrais le temps de peindre les figurines. Pour le coup j'aurais nettement préféré des cartons sur socle... Question de préférence personnelle sans doute.De l'autre côté du spectre, la longueur du tour de jeu fait qu'on cherche de la profondeur et qu'on tente d'adopter une stratégie soignée... Sauf que les choix se résument souvent à \"est-ce que j'accumule encore ou bien je cours vers la sortie ?\"Les côtés positifs :Je pense que ça peut marcher très très bien pour des enfants... Mais dans ce cas des figurines plus grossières, peintes et moins fragiles auraient peut-être été plus adaptées.Contrairement à ce que certains ont dit, le hasard est présent, mais pas si important. Il y a en tout cas moyen de le pondérer.J'imagine plusieurs adaptations quoi pourraient rendre le jeu plus immersif et spontané : juste un dé pour faire avancer la bouboule. Pouvoir voler ou bousculer un adversaire.Est-ce que ça en vaut la peine ? Et, à ce prix, devrait-on vraiment avoir à réécrire la règle ?\n",
      "2.0 Très semblable à Uno en très légèrement plus compliqué. Ne mérite pas d'être acheté si on possède déjà Uno\n",
      "0.8 Joué aujourd'hui à huit. Je ne sens pas du tout le sel du jeu. Gagner ou perdre même constat. J'ai du mal à saisir ou se trouve le plaisir de jouer. Je ne conseille pas ce jeu qui pour moi a fait un bon gros FLOP !\n",
      "2.0 Mais bon sang, quel est l'intérêt d'écrire des pages et des pages de règles, qui plus est mal agencées; de prévoir une mise en place qui dure des heures, pour au final avoir droit à un vulgaire Risk, avec des combats hasardeux qui se gèrent à l'aide de brouettes de dés ! Quel intérêt, je vous le demande !On s'ennuie une première fois à placer toutes les unités et cartes. On s'ennuie ensuite pendant des heures à diriger les nations vers la guerre. Puis on met des plombes à mettre les armées en marche, puisque pour cela il faut avoir la chance de tomber sur le bon résultat aux dés. On lit les cartes aux 50 conditions à remplir (se trouver sur tel territoire avec telle armée); pour passer le temps. Et puis arrive un combat : on lance des dés, et le plus chanceux gagne. Super. Je n'ai rien contre les jeux basés sur la chance, mais alors ils se doivent au moins d'être rapides et simples. Ici ça dure des heures, et on fourre sans arrêt son nez dans les règles.Heureusement au bout de quelques heures arrive la délivrance : la communauté arrive au volcan (vu que de toute façon on peut rien faire ou presque contre la communauté et que la traque sert pas à grand chose), et les méchants perdent...Ouf, on peut ranger la boîte !Seul point positif : la fidélité incroyable à l'oeuvre de Tolkien, avec les personnages et l'avancée vers la guerre des différentes nations.\n",
      "2.0 Bon là, j'avoue que je suis plus que déçu.C'est un jeu qui ne mérite pas de boite...un pdf à télécharger et encore!!On surfe sur la mode Z alors je vais prendre un rouleau de PQ, je fais un dessin de zombie, je mets quelques D et voilà...Quand reviendra la mode des vaches, je prendrai un rouleau de PQ, je ferai un dessin de vache et je mettrai quelques D dedans et voilà......Si un jour, c'est la mode des mouches, je prendrai un rouleau de PQ, je ferai un dessin de mouche et je mettrai des vrais mouches dedans................\n",
      "2.9 Titre du jeu : the walking dead\n",
      "Thème du jeu : survie post-apocalyptique \n",
      "\n",
      "The walking dead est un jeu de survie tiré de la BD, et non de la série, où se mélange coopération et compétition.\n",
      "\n",
      "      Ma vision de ce jeu...\n",
      "\n",
      "Matériel : ☆☆\n",
      "Un beau plateau, des petits pions sympa et... du carton qui va s user rapidement, avec pleins de dés de plusieurs couleurs.\n",
      "\n",
      "Règles : ☆☆☆\n",
      "Le joueur doit gérer ses ressources (3) en relevant des défis. Le but étant de relever une serie de défi dans des endroits spécifiques du plateau.(lieux clés de la BD)\n",
      "\n",
      "Degré de réflexion : ☆☆\n",
      "Si vous décidez où et quand faire les défis, le hasard se chargera du reste malheureusement. Le nombre et le type de dés a jeter dependra de votre groupe.\n",
      "\n",
      "Rejouabilité : ☆☆\n",
      "Entre les différentes cartes et objectifs, et en ajoutant le hasard vous aurez la possibilité de faire des parties quelques peu différentes.\n",
      "\n",
      "      Mon expérience avec ce jeu...\n",
      "\n",
      "Nombre de parties effectuées : 4\n",
      "Nombre de joueurs lors des parties : 2 à 4\n",
      "Jeux proches que je connais : \n",
      "_gear of war\n",
      "Critères et/ou variantes : ---\n",
      "\n",
      "\n",
      "Légende :\n",
      "☆ a revoir.\n",
      "☆☆ des choses a améliorer \n",
      "☆☆☆ correct\n",
      "☆☆☆☆ de bonnes surprises\n",
      "☆☆☆☆☆ rien à redire.\n",
      "1.1 Jeu qui se veut simple et concis pour mettre a profit une durée de partie réduite. Pari tenu, cependant on obtient un jeu froid et on perd au passage tout le \"sel\" qui fait un jeu: pas ou peu de tension, pas très original, assez plat dans le déroulement...  Bref, si vous avez 20 minutes a perdre et que vous aimez le jeu de 7 familles c'est mieux que rien... sinon laisser tomber. \n",
      "Pour un jeu de conquête, est ce une vraie bonne idée de vouloir faire trop simple ?\n",
      "0.4 Testé une fois (de trop) à cannes en 2014.Un joli stand, des personnes déguisées en personnages du monde d'Alice, bref, tout pour inviter à un partie de jeux sympathique.Et soudain c’est de drame !L’explication du jeu :-« Vous lancer tous vos dés en même temps, le but étant de faire une suite de dés de 1 à 6, vous hurlez les dés que vous gardez pour faire votre suite et vous relancez pour obtenir le dé suivant »-« ha ouais c’est nul ! »-« Mais chaque joueur a un pouvoir »-« Ha ouais, pourquoi pas »-« une fois qu’un joueur a posé son sixième dé il retourne sa carte et devient le méchant avec un nouveau pouvoir »-« Ha ouais c’est nul ! »-« Nouveau pouvoir ? »-« Non non, là c’est vraiment nul »Mais bon je me suis engagé à faire la partie de démo.Comme prévu je me suis ennuyé à jeter frénétiquement les dés, a les annoncé tout en essayant d’écouter les résultats des autres pour activer un pouvoir sans internet et inexploitable vu la vitesse des parties.La partie se fini enfin ! Subtile mélange entre l’impression que mon esprit a passé 10 minutes dans un autre monde et l’envi d’effacer cette expérience de ma mémoire.Au regard des autres victimes présentes avec moi autour de la table je en suis pas le seul dans cette détresse.La question tant redoutée ne tarde pas à tomber : « Vous voulez en refaire une ? »Soudain cette phrase mythique de Gandalfe m’arrive comme une claque au visage « Fuyez pauvre fou ! » et à ma grande honte c’est ce que j’ai fait, comme les autres joueurs d’ailleurs.Expérience à ne plus renouveler, des gens sont surement mort pour moins que ça.Je le déconseille à quiconque lit ces quelques lignes.Oui, il est beau mais c’est tout, vraiment tout.\n",
      "2.0 Le principe peut sembler marrant au départ, encore que déjà usé de ci de là. Le système de comptage des points est à peu près bien vu (en gros, donner plus de point pour les bonnes réponses les plus écartées de l'avis général), mais les questions sont souvent tellement extrêmes que toute réponse sensée ou à peu près est à bannir. J'exagère un peu, mais au final, sur ce que j'ai vu, plus d'une question sur deux est totalement introuvable, il faut juste s'en rapprocher au pifomètre. Sans intérêt, et en plus on en retient rien\n",
      "2.0 Désolé mais moi je n ai pas accroche du tout\n",
      "Jeu bcp trop hasardeux pour moi\n",
      "Pourtant ça ne me dérange pas tant que cela d habitude \n",
      "Mais la quand dès la première manche tu te tapes un -38 pts, tu peux arrêter de jouer car Ç est irrattrapable!!! Et du coup le plaisir de jouer n y est plus du tout!!! deuxième manche, je finis à peine en positif, la 3 eme idem et pour finir la derniere je refais du négatif!! Résultat sur l ensemble de la partie -40pts\n",
      "Génial!!!\n",
      "1.6 Le matériel est très beau, on retrouve bien les éléments du seigneur des anneaux (oeuvre assez inaccessible au public cible de ce jeu soit dit en passant : à 6 ans, on ne peut lire le bouquin, et les films sont quand même un peu trop longs/violents pour cet âge...), mais à part ça, y'a pas grand chose : on lance le dé, si on rencontre un méchant, on fait tourner la roue, et si on tombe sur une tour, un coup de pile ou face. En règle générale, j'aime bien le hasard dans les jeux, mais là, il manque vraiment d'enrobage.\n",
      "2.0 Désolé mais c’est nulUn jeu sans thème, sans plaisir, vraiment pas très beau…. En fait rien pour plaireMoi en tout cas je n’ai pas aimé et yen à même autour de la table qui préféré regarder la télé pendant que les autres jouaient.Celui la je l’achèterai pas.\n",
      "2.0 Le principe est celui du Uno, sauf que la condition de victoire est tellement restrictive qu'on n'y arrive que rarement.Le temps de jeu est donc incroyablement long pour ce type de jeu. La plupart des parties sont même interminables, ce qui me laisse penser que ce jeu est buggé (comme d'ailleurs pas mal d'autres jeux Djeco que j'ai pu tester).\n",
      "2.0 pleins de personnage .... mais tous identiquespleins de scenarios ..... tous aussi moyen ou irrealisablese joue a 4 ... mais dis adieu a la petite pointe de strategieet pour finir.....brouette de dés en veut tu en voila !autant dans Descent, King of tokyo, battlelore et pleins d autres, ca me gene pas, autant ici .... et en plus le jeux est cher (je parle meme pas des figs peintes a coté)allez je retourne joué au yatzee !\n",
      "2.0 C'est bien simple je n'ai jamais compris l'intérêt de ce jeu. Un mélange qui ne réunit pas le mieux d'Illiade et Dindons et Dragons n'avait, de toute façon, pas beaucoup de chance de produire un miracle. Mais bon, même au niveau des bonnes surprises, ce jeu est abonné absent. L'idée du \"Sorcier\" n'est finalement que facilité et prétexte à collusion. Bref, ou je n'ai rien compris au jeu, ou il n'y a jamais rien eu à comprendre !\n",
      "2.0 Voici un mélange de placement et de mémorisation qui n'amuse pas, on s'ennuie fermement à ce jeu. C'est simple, le négatif est placé à côté des pions de l'adversaire et les positifs près des siens. Et on continue quand même à s'ennuyer.Un jeu sans intérêt et ennuyeux.\n",
      "2.0 Quel beau matériel, dans la boiboite. Vraiment, c'est somptueux, et on ne peut qu'être béat d'admiration devant ces splendides figurines...Mais une fois passé ce premier sentiment de plénitude, une fois que l'on essaie de jouer, quelle déception: les règles semblent avoir été conçues pour être le plus difficilement compréhensible possible, les aides de jeu n'aident pas (un comble), et on en vient même à se demander à quoi peuvent bien servir ces figurines, vu qu'après tout, elles sont loin d'être si indispensables que cela...Bref, un jeu ultra-lourd, que même les fans de wargames auront sans doute du mal à digérer.\n",
      "2.0 La sauce ne prend pas du tout chez moi !sans saveur ni goût !\n",
      "2.0 Enthousiasmé par le thème, riche en possibilités comme d'autres jeux l'ont prouvés (Honor of the samurai, Shogun,...), je me suis empressé d'acquérir cette belle boîte bien pleine dès sa sortie sur les étals.Quelle déception ! Un système pas abouti pour un yen, une absence d'inspiration évidente.Bref, je semble peut-être impitoyable mais pour vous dire la portée de mon dégoût : j'ai préféré donner le jeu pour l'oublier rapidement.\n",
      "2.0 Dans le jeu vidéo, les lemmings font vraiment se qu'ils veulent! là c'est pareil c'est super chaotique!incontrôlable! le plateau est mal pensé (système d'arrivé mal organisé) et les gains de fin de partie sont ridicule.sur les trois cartes contrat de départ, si on en réussi 2 c'est qu'on est vraiment veinard.ça sent le jeux pas fini, sortie à la vas vite, tout buggé.Le plus: le design des lemmings\n",
      "2.0 Un jeu assez nul les plus: - le thème assez attirant - un matériel assez sympa les moins: - mécanismes idiots- il existe plein de jeux meilleurs\n",
      "2.0 Bon clairement j'aime pas le poker. Donc je pars pas avec un à priori positif. Le jeu est vide pour qui n'aime pas le bluff. On se contente de regarder les autres faire leurs défis et espérer retourner des roses. Pourquoi ne pas lancer de défis me direz vous ? Et ben parce que pas eu l'occasion ou simplement l'envie...Et puis soudain, un des joueurs gagne et là on se dit chouette, on va jouer à autre chose.Ma note est le reflet du plaisir que j'ai pris à jouer. Enfin, à regarder jouer les autres... Vraiment pas pour moi.Je le laisse volontiers aux nombreux fans. Les goûts et les couleurs ne se discutent pas.\n",
      "2.0 Salut les Amis!Ouille! C'est terrible ce qu'il m'arrive : je viens de mettre 1/5 à un jeu signé \"Kiesling / Kramer\" : un couple d'auteurs de jeu pourtant mythique! Vous n'avez qu'à lire mes avis sur leurs jeux (Tikal, Torres, Australia ou Celtica) pour vous rendre compte à quel point je suis fan de leur création!Mais voila, Maharaja m'a super déçu! Je trouve la mécanique de jeu un peu lourdingue et bien moins fluide qu'un Tikal par exemple!De plus, je trouve que le dernier joueur est fanchement très avantagé par rapport aux autres. Je connais beaucoup de personnes qui aiment ce jeu mais très honnétement, il m'a franchement décu:- Le système de choix des personnages est bien plus convainquant dans \"Puerto Rico\",- L'espect tactique par majorité fait pale face à \"Tikal\",- Le fun est bien plus présent dans \"Celtica\".- Le matériel, même si il est de qualité, est assez austère (surtout comparé à \"Australia\").Bref, je suis vraiment désolé, mais sur ce coup là, je suis très déçu!Alors, laissez tomber Maharaja mais jetez vous sur les excellents : Tikal, Torres, Australia ou Celtica les yeux fermés!\n",
      "3.0 Le thème du jeu n'était pas pour me déplaire : un jeu de développement économique dans un environnement concurrentiel, voilà qui s'annonçait bien. Hélas, le jeu est lent, les actions sont très peu nombreuses et produisent peu d'effet, le jeu est soumis à un chaos régulier et ciblé par des intrigues qui sortent du contexte. J'ai éprouvé un désintérêt total pour ce jeu, et c'est suffisamment rare pour être souligné, cf. mes avis. J'ai du louper quelque chose...\n",
      "0.0 Difficile de faire davantage de commentaires.Certains essaieront de jouer leurs pièces \"stratégiquement\" pour ne pas dépasser le niveau de la vitre.Personnellement je m'ennuie profondément. Ce n'est pas le type de jeu ou de challenge que je recherche tout simplement.Je n'ai tout simplement aucune envie d'y revenir.\n",
      "2.0 Pitiée mais c'est un jeu sas grande intérets volée volée et volée.\n"
     ]
    }
   ],
   "source": [
    "print(len(pairs))\n",
    "for t in pairs[:5]:\n",
    "  if t[0] >= 8:\n",
    "    print(t[0], t[1])\n",
    "for t in pairs[:1000]:\n",
    "  if t[0] <= 3:\n",
    "    print(t[0], t[1])"
   ]
  },
  {
   "cell_type": "code",
   "execution_count": 9,
   "metadata": {},
   "outputs": [],
   "source": [
    "# random.shuffle(pairs)"
   ]
  },
  {
   "cell_type": "code",
   "execution_count": 10,
   "metadata": {},
   "outputs": [],
   "source": [
    "# pairs = pairs[:10000]\n",
    "# corpus = [preprocess(t[1], 'french', True) for t in pairs]\n",
    "# vectors = tfidf(corpus)\n",
    "# print(vectors.shape)"
   ]
  },
  {
   "cell_type": "code",
   "execution_count": 11,
   "metadata": {},
   "outputs": [],
   "source": [
    "def knn(labels, vectors, k : int, metric : str):\n",
    "  cnt = np.zeros((2, 2), dtype=np.int64)\n",
    "  distances = metrics.pairwise_distances(vectors, metric=metric, n_jobs=-1)\n",
    "  for i in range(distances.shape[0]):\n",
    "    idx = np.argsort(distances[i])\n",
    "    pos = 0\n",
    "    for j in range(1, k+1):\n",
    "      if labels[idx[j]]:\n",
    "        pos += 1+(k-j)*0.01\n",
    "      else:\n",
    "        pos -= 1+(k-j)*0.01\n",
    "    pos = pos>0\n",
    "    cnt[int(labels[i]), int(pos)] += 1\n",
    "  print(cnt[0,0]/(cnt[0,0]+cnt[0,1]), cnt[1,1]/(cnt[1,0]+cnt[1,1]))\n",
    "  print(cnt)"
   ]
  },
  {
   "cell_type": "code",
   "execution_count": 12,
   "metadata": {},
   "outputs": [],
   "source": [
    "# labels = np.array([t[0]>=5 for t in pairs])"
   ]
  },
  {
   "cell_type": "code",
   "execution_count": 13,
   "metadata": {},
   "outputs": [],
   "source": [
    "# vectors = csr_matrix(vectors)\n",
    "# knn(labels, vectors, 1, 'cosine')\n",
    "# knn(labels, vectors, 2, 'cosine')\n",
    "# knn(labels, vectors, 3, 'cosine')\n",
    "# knn(labels, vectors, 4, 'cosine')\n",
    "# knn(labels, vectors, 5, 'cosine')"
   ]
  },
  {
   "attachments": {},
   "cell_type": "markdown",
   "metadata": {},
   "source": [
    "## Comment\n",
    "\n",
    "I should try balance the negatives and positives.\n",
    "\n",
    "```\n",
    "0.266304347826087 0.9427892918825561\n",
    "[[ 196  540]\n",
    " [ 530 8734]]\n",
    "```"
   ]
  },
  {
   "cell_type": "code",
   "execution_count": 14,
   "metadata": {},
   "outputs": [],
   "source": [
    "random.seed(42)\n",
    "pairs = note_comment_pairs(\"avis.json\")\n",
    "pairs = dedup(pairs)\n",
    "bads = [t for t in pairs if t[0] <= 3]\n",
    "goods = [t for t in pairs if t[0] >= 8]"
   ]
  },
  {
   "cell_type": "code",
   "execution_count": 15,
   "metadata": {},
   "outputs": [
    {
     "name": "stdout",
     "output_type": "stream",
     "text": [
      "7037 84212\n"
     ]
    }
   ],
   "source": [
    "print(len(bads), len(goods))"
   ]
  },
  {
   "cell_type": "code",
   "execution_count": 16,
   "metadata": {},
   "outputs": [
    {
     "name": "stdout",
     "output_type": "stream",
     "text": [
      "(10000, 21007)\n"
     ]
    }
   ],
   "source": [
    "random.shuffle(bads)\n",
    "random.shuffle(goods)\n",
    "pairs = bads[:5000] + goods[:5000]\n",
    "random.shuffle(pairs)\n",
    "corpus = [preprocess(t[1], 'french', True) for t in pairs]\n",
    "vectors = csr_matrix(tfidf(corpus))\n",
    "print(vectors.shape)"
   ]
  },
  {
   "cell_type": "code",
   "execution_count": 17,
   "metadata": {},
   "outputs": [
    {
     "name": "stdout",
     "output_type": "stream",
     "text": [
      "0.6986 0.6326\n",
      "[[3493 1507]\n",
      " [1837 3163]]\n",
      "0.6986 0.6326\n",
      "[[3493 1507]\n",
      " [1837 3163]]\n",
      "0.7384 0.6694\n",
      "[[3692 1308]\n",
      " [1653 3347]]\n",
      "0.778 0.6238\n",
      "[[3890 1110]\n",
      " [1881 3119]]\n",
      "0.7606 0.691\n",
      "[[3803 1197]\n",
      " [1545 3455]]\n"
     ]
    }
   ],
   "source": [
    "labels = np.array([t[0]>=5 for t in pairs])\n",
    "knn(labels, vectors, 1, 'cosine')\n",
    "knn(labels, vectors, 2, 'cosine')\n",
    "knn(labels, vectors, 3, 'cosine')\n",
    "knn(labels, vectors, 4, 'cosine')\n",
    "knn(labels, vectors, 5, 'cosine')"
   ]
  },
  {
   "cell_type": "code",
   "execution_count": 18,
   "metadata": {},
   "outputs": [
    {
     "name": "stdout",
     "output_type": "stream",
     "text": [
      "0.2176 0.905\n",
      "[[1088 3912]\n",
      " [ 475 4525]]\n",
      "0.2176 0.905\n",
      "[[1088 3912]\n",
      " [ 475 4525]]\n",
      "0.204 0.9344\n",
      "[[1020 3980]\n",
      " [ 328 4672]]\n",
      "0.2504 0.9104\n",
      "[[1252 3748]\n",
      " [ 448 4552]]\n",
      "0.354 0.8526\n",
      "[[1770 3230]\n",
      " [ 737 4263]]\n"
     ]
    }
   ],
   "source": [
    "knn(labels, vectors, 1, 'euclidean')\n",
    "knn(labels, vectors, 2, 'euclidean')\n",
    "knn(labels, vectors, 3, 'euclidean')\n",
    "knn(labels, vectors, 4, 'euclidean')\n",
    "knn(labels, vectors, 5, 'euclidean')"
   ]
  },
  {
   "cell_type": "code",
   "execution_count": 19,
   "metadata": {},
   "outputs": [
    {
     "name": "stdout",
     "output_type": "stream",
     "text": [
      "0.7614 0.695\n",
      "[[3807 1193]\n",
      " [1525 3475]]\n",
      "0.7884 0.701\n",
      "[[3942 1058]\n",
      " [1495 3505]]\n",
      "0.7906 0.6976\n",
      "[[3953 1047]\n",
      " [1512 3488]]\n",
      "0.7998 0.721\n",
      "[[3999 1001]\n",
      " [1395 3605]]\n",
      "0.7966 0.7222\n",
      "[[3983 1017]\n",
      " [1389 3611]]\n"
     ]
    }
   ],
   "source": [
    "knn(labels, vectors, 6, 'cosine')\n",
    "knn(labels, vectors, 7, 'cosine')\n",
    "knn(labels, vectors, 8, 'cosine')\n",
    "knn(labels, vectors, 9, 'cosine')\n",
    "knn(labels, vectors, 10, 'cosine')"
   ]
  },
  {
   "cell_type": "code",
   "execution_count": 20,
   "metadata": {},
   "outputs": [
    {
     "name": "stdout",
     "output_type": "stream",
     "text": [
      "0.8092 0.7376\n",
      "[[4046  954]\n",
      " [1312 3688]]\n",
      "0.7742 0.4572\n",
      "[[3871 1129]\n",
      " [2714 2286]]\n"
     ]
    }
   ],
   "source": [
    "knn(labels, vectors, 13, 'cosine')\n",
    "knn(labels, vectors, 13, 'euclidean')"
   ]
  },
  {
   "cell_type": "code",
   "execution_count": 21,
   "metadata": {},
   "outputs": [
    {
     "name": "stdout",
     "output_type": "stream",
     "text": [
      "0.8284 0.7572\n",
      "[[4142  858]\n",
      " [1214 3786]]\n"
     ]
    }
   ],
   "source": [
    "knn(labels, vectors, 21, 'cosine')"
   ]
  },
  {
   "cell_type": "code",
   "execution_count": 22,
   "metadata": {},
   "outputs": [
    {
     "name": "stdout",
     "output_type": "stream",
     "text": [
      "0.8522 0.7964\n",
      "[[4261  739]\n",
      " [1018 3982]]\n"
     ]
    }
   ],
   "source": [
    "knn(labels, vectors, 55, 'cosine')"
   ]
  },
  {
   "cell_type": "code",
   "execution_count": 23,
   "metadata": {},
   "outputs": [
    {
     "name": "stdout",
     "output_type": "stream",
     "text": [
      "0.8612 0.8132\n",
      "[[4306  694]\n",
      " [ 934 4066]]\n"
     ]
    }
   ],
   "source": [
    "knn(labels, vectors, 100, 'cosine')"
   ]
  },
  {
   "cell_type": "code",
   "execution_count": 24,
   "metadata": {},
   "outputs": [
    {
     "name": "stdout",
     "output_type": "stream",
     "text": [
      "0.857 0.857\n",
      "[[4285  715]\n",
      " [ 715 4285]]\n"
     ]
    }
   ],
   "source": [
    "knn(labels, vectors, 500, 'cosine')"
   ]
  },
  {
   "cell_type": "code",
   "execution_count": 25,
   "metadata": {},
   "outputs": [
    {
     "name": "stdout",
     "output_type": "stream",
     "text": [
      "0.8332 0.8836\n",
      "[[4166  834]\n",
      " [ 582 4418]]\n"
     ]
    }
   ],
   "source": [
    "knn(labels, vectors, 1000, 'cosine')"
   ]
  },
  {
   "cell_type": "code",
   "execution_count": 26,
   "metadata": {},
   "outputs": [
    {
     "name": "stdout",
     "output_type": "stream",
     "text": [
      "0.7932 0.908\n",
      "[[3966 1034]\n",
      " [ 460 4540]]\n"
     ]
    }
   ],
   "source": [
    "knn(labels, vectors, 2000, 'cosine')"
   ]
  },
  {
   "cell_type": "code",
   "execution_count": 27,
   "metadata": {},
   "outputs": [
    {
     "name": "stdout",
     "output_type": "stream",
     "text": [
      "0.6984 0.9378\n",
      "[[3492 1508]\n",
      " [ 311 4689]]\n"
     ]
    }
   ],
   "source": [
    "knn(labels, vectors, 5000, 'cosine')"
   ]
  },
  {
   "attachments": {},
   "cell_type": "markdown",
   "metadata": {},
   "source": [
    "## Comment\n",
    "\n",
    "Even k-s favored the negative comment (case of tie, so I added something to break the tie).\n",
    "\n",
    "We noticed the cosine norm is way better, but we didn't normalize our vectors, which disfavors euclidean norm.\n",
    "\n",
    "We can do 85% accuracy, it's already satisfying because we didn't consider the structures of the phrases at all.\n",
    "\n",
    "The reason I added `(k-j)*0.01` to favor closer neighbor is because I noticed there were ties, but the difference is little as we may notice in the following.\n",
    "\n",
    "In fact, I had a bug which leaded to considering each letter as a term. And I get 60% accuracy...\n",
    "\n",
    "```\n",
    "0.5578 0.6454\n",
    "[[2789 2211]\n",
    " [1773 3227]]\n",
    "```"
   ]
  },
  {
   "attachments": {},
   "cell_type": "markdown",
   "metadata": {},
   "source": [
    "## Difficulties\n",
    "\n",
    "- Didn't consider the order of words\n",
    "- If we want to classify the types of game, how to proceed?\n",
    "- Why 'pas' is considered as a stopword?"
   ]
  },
  {
   "cell_type": "code",
   "execution_count": 28,
   "metadata": {},
   "outputs": [],
   "source": [
    "def knn(labels, vectors, k : int, metric : str):\n",
    "  cnt = np.zeros((2, 2), dtype=np.int64)\n",
    "  distances = metrics.pairwise_distances(vectors, metric=metric, n_jobs=-1)\n",
    "  for i in range(distances.shape[0]):\n",
    "    idx = np.argsort(distances[i])\n",
    "    pos = 0\n",
    "    for j in range(1, k+1):\n",
    "      if labels[idx[j]]:\n",
    "        pos += 1\n",
    "      else:\n",
    "        pos -= 1\n",
    "    pos = pos>0\n",
    "    cnt[int(labels[i]), int(pos)] += 1\n",
    "  print(cnt[0,0]/(cnt[0,0]+cnt[0,1]), cnt[1,1]/(cnt[1,0]+cnt[1,1]))\n",
    "  print(cnt)"
   ]
  },
  {
   "cell_type": "code",
   "execution_count": 29,
   "metadata": {},
   "outputs": [
    {
     "name": "stdout",
     "output_type": "stream",
     "text": [
      "0.8444 0.8642\n",
      "[[4222  778]\n",
      " [ 679 4321]]\n"
     ]
    }
   ],
   "source": [
    "knn(labels, vectors, 500, 'cosine')"
   ]
  },
  {
   "cell_type": "code",
   "execution_count": 30,
   "metadata": {},
   "outputs": [
    {
     "name": "stdout",
     "output_type": "stream",
     "text": [
      "0.865 0.8306\n",
      "[[4325  675]\n",
      " [ 847 4153]]\n"
     ]
    }
   ],
   "source": [
    "knn(labels, vectors, 200, 'cosine')"
   ]
  },
  {
   "cell_type": "code",
   "execution_count": 31,
   "metadata": {},
   "outputs": [
    {
     "name": "stdout",
     "output_type": "stream",
     "text": [
      "0.8644 0.7734\n",
      "[[4322  678]\n",
      " [1133 3867]]\n"
     ]
    }
   ],
   "source": [
    "knn(labels, vectors, 50, 'cosine')"
   ]
  },
  {
   "cell_type": "code",
   "execution_count": 32,
   "metadata": {},
   "outputs": [
    {
     "name": "stdout",
     "output_type": "stream",
     "text": [
      "0.8566 0.6412\n",
      "[[4283  717]\n",
      " [1794 3206]]\n"
     ]
    }
   ],
   "source": [
    "knn(labels, vectors, 10, 'cosine')"
   ]
  },
  {
   "cell_type": "code",
   "execution_count": null,
   "metadata": {},
   "outputs": [],
   "source": []
  }
 ],
 "metadata": {
  "kernelspec": {
   "display_name": "base",
   "language": "python",
   "name": "python3"
  },
  "language_info": {
   "codemirror_mode": {
    "name": "ipython",
    "version": 3
   },
   "file_extension": ".py",
   "mimetype": "text/x-python",
   "name": "python",
   "nbconvert_exporter": "python",
   "pygments_lexer": "ipython3",
   "version": "3.9.15"
  },
  "orig_nbformat": 4
 },
 "nbformat": 4,
 "nbformat_minor": 2
}
