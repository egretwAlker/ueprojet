{
 "cells": [
  {
   "cell_type": "code",
   "execution_count": 1,
   "metadata": {},
   "outputs": [],
   "source": [
    "%load_ext autoreload\n",
    "%autoreload 2\n",
    "from bugless import *\n",
    "import matplotlib.pyplot as plt\n",
    "import numpy as np\n",
    "from sklearn.neighbors import KNeighborsClassifier"
   ]
  },
  {
   "cell_type": "code",
   "execution_count": 2,
   "metadata": {},
   "outputs": [],
   "source": [
    "def myknn(labels : list[bool], vecs : csr_matrix, tvecs : csr_matrix, k_neighbors : int):\n",
    "  labels = np.array(labels)\n",
    "  m = labels.shape[0]\n",
    "  neg = np.where(labels == False)[0]\n",
    "  pos = np.where(labels == True)[0]\n",
    "  l = min(neg.shape[0], pos.shape[0])\n",
    "  np.random.shuffle(neg)\n",
    "  np.random.shuffle(pos)\n",
    "  pos = np.concatenate((neg[:l], pos[:l]))\n",
    "  labels = labels[pos]\n",
    "  vecs = vecs[pos]\n",
    "  knn = KNeighborsClassifier(metric=\"cosine\", n_neighbors=k_neighbors)\n",
    "  knn.fit(vecs, labels)\n",
    "  return knn.predict(tvecs)\n",
    "def get_knn(k):\n",
    "  return lambda a, b, c : myknn(a, b, c, k)"
   ]
  },
  {
   "cell_type": "code",
   "execution_count": 3,
   "metadata": {},
   "outputs": [
    {
     "name": "stdout",
     "output_type": "stream",
     "text": [
      "121542\n"
     ]
    }
   ],
   "source": [
    "pairs = note_comment_pairs(\"avis.json\")\n",
    "pairs = [t for t in pairs if t[0]<=3 or t[0] >= 8]\n",
    "print(len(pairs))"
   ]
  },
  {
   "cell_type": "code",
   "execution_count": 4,
   "metadata": {},
   "outputs": [],
   "source": [
    "# corpus = [preprocess(t[1], 'french', True) for t in pairs]\n",
    "# labels = [p[0] for p in pairs]"
   ]
  },
  {
   "cell_type": "code",
   "execution_count": 5,
   "metadata": {},
   "outputs": [],
   "source": [
    "import pickle\n",
    "\n",
    "def dump(fn, thing):\n",
    "  with open(fn, \"wb\") as f:\n",
    "    pickle.dump(thing, f)\n",
    "def load(fn):\n",
    "  with open(fn, \"rb\") as f:\n",
    "    return pickle.load(f)"
   ]
  },
  {
   "cell_type": "code",
   "execution_count": 6,
   "metadata": {},
   "outputs": [],
   "source": [
    "# dump()"
   ]
  },
  {
   "cell_type": "code",
   "execution_count": 7,
   "metadata": {},
   "outputs": [],
   "source": [
    "labels, corpus = load(\"preprocessed.pickle\")\n",
    "labels = [x > 5 for x in labels]"
   ]
  },
  {
   "cell_type": "code",
   "execution_count": 8,
   "metadata": {},
   "outputs": [
    {
     "name": "stdout",
     "output_type": "stream",
     "text": [
      "121542 121542\n"
     ]
    }
   ],
   "source": [
    "print(len(labels), len(corpus))"
   ]
  },
  {
   "cell_type": "code",
   "execution_count": 9,
   "metadata": {},
   "outputs": [],
   "source": [
    "# vectors = tfidf(corpus)\n",
    "# vectors_spa = csr_matrix(vectors)\n",
    "# dump(\"vectors.pickle\", vectors_spa)"
   ]
  },
  {
   "cell_type": "code",
   "execution_count": 10,
   "metadata": {},
   "outputs": [
    {
     "name": "stdout",
     "output_type": "stream",
     "text": [
      "(121542, 64687)\n"
     ]
    }
   ],
   "source": [
    "vectors = load(\"vectors.pickle\")\n",
    "print(vectors.shape)"
   ]
  },
  {
   "cell_type": "code",
   "execution_count": 11,
   "metadata": {},
   "outputs": [
    {
     "data": {
      "text/plain": [
       "{'Guess false to false': 1427,\n",
       " 'Guess false to true': 285,\n",
       " 'Guess true to false': 7888,\n",
       " 'Guess true to true': 14368,\n",
       " 'Accuracy when guessing false': 0.8335280373831776,\n",
       " 'Accuracy when guessing true': 0.6455787203450755,\n",
       " 'Accuracy in total': 0.6590036715620827}"
      ]
     },
     "execution_count": 11,
     "metadata": {},
     "output_type": "execute_result"
    }
   ],
   "source": [
    "finalexam(labels, vectors, get_knn(5))"
   ]
  }
 ],
 "metadata": {
  "kernelspec": {
   "display_name": "venv",
   "language": "python",
   "name": "python3"
  },
  "language_info": {
   "codemirror_mode": {
    "name": "ipython",
    "version": 3
   },
   "file_extension": ".py",
   "mimetype": "text/x-python",
   "name": "python",
   "nbconvert_exporter": "python",
   "pygments_lexer": "ipython3",
   "version": "3.10.9"
  },
  "orig_nbformat": 4
 },
 "nbformat": 4,
 "nbformat_minor": 2
}
